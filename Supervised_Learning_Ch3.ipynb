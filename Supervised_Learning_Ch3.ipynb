{
 "cells": [
  {
   "cell_type": "markdown",
   "id": "e26e277f",
   "metadata": {
    "pycharm": {
     "name": "#%% md\n"
    }
   },
   "source": [
    "### 4.1-6"
   ]
  },
  {
   "cell_type": "code",
   "execution_count": 1,
   "id": "f4a6ba83",
   "metadata": {
    "pycharm": {
     "name": "#%%\n"
    }
   },
   "outputs": [
    {
     "name": "stdout",
     "output_type": "stream",
     "text": [
      "使得经验误差函数 RD(h) 取最小值的参数为：{w: 0.514133333333440, b: 0.858543999999819}\n"
     ]
    }
   ],
   "source": [
    "from sympy import symbols, diff, solve\n",
    "import numpy as np\n",
    "\n",
    "# 数据集 D\n",
    "X = np.array([1.51, 1.64, 1.6, 1.73, 1.82, 1.87])\n",
    "y = np.array([1.63, 1.7, 1.71, 1.72, 1.76, 1.86])\n",
    "\n",
    "# 构造经验误差函数\n",
    "w, b = symbols('w b', real=True)\n",
    "RDh = 0\n",
    "for (xi, yi) in zip(X, y):\n",
    "\tRDh += (yi - (xi*w + b))**2\n",
    "RDh *= 1/len(X)\n",
    "\n",
    "# 对 w 和 b 求偏导\n",
    "eRDhw = diff(RDh, w)\n",
    "eRDhb = diff(RDh, b)\n",
    "\n",
    "# 求解方程组\n",
    "ans = solve((eRDhw, eRDhb), (w, b))\n",
    "print('使得经验误差函数 RD(h) 取最小值的参数为：{}'.format(ans))"
   ]
  },
  {
   "cell_type": "markdown",
   "id": "253ac4f9",
   "metadata": {
    "pycharm": {
     "name": "#%% md\n"
    }
   },
   "source": [
    "### 4.2-5"
   ]
  },
  {
   "cell_type": "code",
   "execution_count": 70,
   "id": "774f37d6",
   "metadata": {
    "pycharm": {
     "name": "#%%\n"
    }
   },
   "outputs": [
    {
     "data": {
      "image/png": "[encoded data removed]",
      "text/plain": [
       "<Figure size 432x216 with 1 Axes>"
      ]
     },
     "metadata": {},
     "output_type": "display_data"
    }
   ],
   "source": [
    "import matplotlib.pyplot as plt\n",
    "import numpy as np\n",
    "from sklearn.preprocessing import PolynomialFeatures\n",
    "from sklearn.linear_model import LinearRegression\n",
    "\n",
    "x_min, x_max = 1, 2.5\n",
    "\n",
    "# 上帝函数 y=f(x)\n",
    "def f(x):\n",
    "\treturn 0.51*x+0.86\n",
    "\n",
    "# 上帝分布 P(Y|X)\n",
    "def P(X):\n",
    "    # f(x) 加上期望为 0，标准差为 0.1 的高斯噪音\n",
    "\treturn f(X) + np.random.normal(loc = 0, scale=0.1, size=X.shape) \n",
    "\n",
    "# 通过 P(X, Y) 生成数据集 D\n",
    "# X 服从期望为 1.718，标准差为 0.3 的正态分布\n",
    "X = np.random.normal(loc = 1.718, scale=0.3, size=10) \n",
    "y = P(X)\n",
    "\n",
    "# 绘制代码\n",
    "# 设置字体大小\n",
    "plt.rcParams.update({'font.size': 12})\n",
    "# 设置subfigure\n",
    "fig, ax = plt.subplots(figsize = (6, 3))\n",
    "plt.subplots_adjust(left=0.25, right=0.75, top=0.999, bottom=0.08)\n",
    "ax.set_xlabel('x'),ax.set_ylabel('y')\n",
    "ax.set(xticks=[], yticks=[])\n",
    "ax.set_xlim(x_min, x_max)\n",
    "\n",
    "# 绘制数据集\n",
    "ax.scatter(x=X, y=y)\n",
    "\n",
    "# 绘制 f(x)\n",
    "xx = np.linspace(x_min, x_max)\n",
    "ax.plot(xx, f(xx), 'k--')\n",
    "\n",
    "plt.show()"
   ]
  },
  {
   "cell_type": "markdown",
   "id": "0d183df5",
   "metadata": {
    "pycharm": {
     "name": "#%% md\n"
    }
   },
   "source": [
    "### 4.3-2"
   ]
  },
  {
   "cell_type": "code",
   "execution_count": 98,
   "id": "15f43444",
   "metadata": {
    "pycharm": {
     "name": "#%%\n"
    }
   },
   "outputs": [
    {
     "name": "stdout",
     "output_type": "stream",
     "text": [
      "总共有 506 条数据，每条数据有 13 个特征。\n",
      "打印该数据集的前五条数据（各包含 13 个特征）以及对应的标签（房价）：\n",
      "      CRIM    ZN  INDUS  CHAS    NOX     RM   AGE     DIS  RAD    TAX  PTRATIO       B  LSTAT  PRICE\n",
      "0  0.00632  18.0   2.31   0.0  0.538  6.575  65.2  4.0900  1.0  296.0     15.3  396.90   4.98   24.0\n",
      "1  0.02731   0.0   7.07   0.0  0.469  6.421  78.9  4.9671  2.0  242.0     17.8  396.90   9.14   21.6\n",
      "2  0.02729   0.0   7.07   0.0  0.469  7.185  61.1  4.9671  2.0  242.0     17.8  392.83   4.03   34.7\n",
      "3  0.03237   0.0   2.18   0.0  0.458  6.998  45.8  6.0622  3.0  222.0     18.7  394.63   2.94   33.4\n",
      "4  0.06905   0.0   2.18   0.0  0.458  7.147  54.2  6.0622  3.0  222.0     18.7  396.90   5.33   36.2\n"
     ]
    },
    {
     "name": "stderr",
     "output_type": "stream",
     "text": [
      "/Users/jiahuasong/opt/anaconda3/lib/python3.9/site-packages/sklearn/utils/deprecation.py:87: FutureWarning: Function load_boston is deprecated; `load_boston` is deprecated in 1.0 and will be removed in 1.2.\n",
      "\n",
      "    The Boston housing prices dataset has an ethical problem. You can refer to\n",
      "    the documentation of this function for further details.\n",
      "\n",
      "    The scikit-learn maintainers therefore strongly discourage the use of this\n",
      "    dataset unless the purpose of the code is to study and educate about\n",
      "    ethical issues in data science and machine learning.\n",
      "\n",
      "    In this special case, you can fetch the dataset from the original\n",
      "    source::\n",
      "\n",
      "        import pandas as pd\n",
      "        import numpy as np\n",
      "\n",
      "\n",
      "        data_url = \"http://lib.stat.cmu.edu/datasets/boston\"\n",
      "        raw_df = pd.read_csv(data_url, sep=\"\\s+\", skiprows=22, header=None)\n",
      "        data = np.hstack([raw_df.values[::2, :], raw_df.values[1::2, :2]])\n",
      "        target = raw_df.values[1::2, 2]\n",
      "\n",
      "    Alternative datasets include the California housing dataset (i.e.\n",
      "    :func:`~sklearn.datasets.fetch_california_housing`) and the Ames housing\n",
      "    dataset. You can load the datasets as follows::\n",
      "\n",
      "        from sklearn.datasets import fetch_california_housing\n",
      "        housing = fetch_california_housing()\n",
      "\n",
      "    for the California housing dataset and::\n",
      "\n",
      "        from sklearn.datasets import fetch_openml\n",
      "        housing = fetch_openml(name=\"house_prices\", as_frame=True)\n",
      "\n",
      "    for the Ames housing dataset.\n",
      "    \n",
      "  warnings.warn(msg, category=FutureWarning)\n"
     ]
    }
   ],
   "source": [
    "from sklearn.datasets import load_boston\n",
    "import numpy as np\n",
    "import pandas as pd\n",
    "\n",
    "# 加载波士顿数据集\n",
    "boston = load_boston()\n",
    "X, y = boston.data, boston.target\n",
    "print('总共有 {} 条数据，每条数据有 {} 个特征。'.format(X.shape[0], X.shape[1]))\n",
    "\n",
    "# 设置输出选项\n",
    "pd.set_option('expand_frame_repr', False)\n",
    "pd.set_option('display.max_columns', 14)\n",
    "\n",
    "# 将数据和标签拼接在一起，方便之后的打印\n",
    "Xy = np.hstack((X,y.reshape(-1,1)))\n",
    "feature_traget_names = np.hstack((boston.feature_names, (['PRICE'])))\n",
    "\n",
    "# 打印数据集的前五行\n",
    "print(\"打印该数据集的前五条数据（各包含 13 个特征）以及对应的标签（房价）：\")\n",
    "df = pd.DataFrame(Xy, columns=feature_traget_names)\n",
    "print(df.head())"
   ]
  },
  {
   "cell_type": "code",
   "execution_count": 99,
   "id": "a6e17ac8",
   "metadata": {
    "pycharm": {
     "name": "#%%\n"
    }
   },
   "outputs": [
    {
     "name": "stderr",
     "output_type": "stream",
     "text": [
      "/Users/jiahuasong/opt/anaconda3/lib/python3.9/site-packages/sklearn/utils/deprecation.py:87: FutureWarning: Function load_boston is deprecated; `load_boston` is deprecated in 1.0 and will be removed in 1.2.\n",
      "\n",
      "    The Boston housing prices dataset has an ethical problem. You can refer to\n",
      "    the documentation of this function for further details.\n",
      "\n",
      "    The scikit-learn maintainers therefore strongly discourage the use of this\n",
      "    dataset unless the purpose of the code is to study and educate about\n",
      "    ethical issues in data science and machine learning.\n",
      "\n",
      "    In this special case, you can fetch the dataset from the original\n",
      "    source::\n",
      "\n",
      "        import pandas as pd\n",
      "        import numpy as np\n",
      "\n",
      "\n",
      "        data_url = \"http://lib.stat.cmu.edu/datasets/boston\"\n",
      "        raw_df = pd.read_csv(data_url, sep=\"\\s+\", skiprows=22, header=None)\n",
      "        data = np.hstack([raw_df.values[::2, :], raw_df.values[1::2, :2]])\n",
      "        target = raw_df.values[1::2, 2]\n",
      "\n",
      "    Alternative datasets include the California housing dataset (i.e.\n",
      "    :func:`~sklearn.datasets.fetch_california_housing`) and the Ames housing\n",
      "    dataset. You can load the datasets as follows::\n",
      "\n",
      "        from sklearn.datasets import fetch_california_housing\n",
      "        housing = fetch_california_housing()\n",
      "\n",
      "    for the California housing dataset and::\n",
      "\n",
      "        from sklearn.datasets import fetch_openml\n",
      "        housing = fetch_openml(name=\"house_prices\", as_frame=True)\n",
      "\n",
      "    for the Ames housing dataset.\n",
      "    \n",
      "  warnings.warn(msg, category=FutureWarning)\n"
     ]
    },
    {
     "name": "stdout",
     "output_type": "stream",
     "text": [
      "耗时 8.66 秒\n"
     ]
    }
   ],
   "source": [
    "from sympy import symbols, diff, solve\n",
    "import numpy as np\n",
    "from sklearn.datasets import load_boston\n",
    "import timeit\n",
    "\n",
    "# 加载波士顿数据集\n",
    "X, y = load_boston(return_X_y=True)\n",
    "\n",
    "# 开始计时\n",
    "start = timeit.default_timer()\n",
    "\n",
    "# 构造经验误差函数\n",
    "w1, w2, w3, w4, w5, w6, w7, w8, w9, w10, w11, w12, w13, b = symbols('w1 w2 w3 w4 w5 w6 w7 w8 w9 w10 w11 w12 w13 b', real=True)\n",
    "w = (w1, w2, w3, w4, w5, w6, w7, w8, w9, w10, w11, w12, w13)\n",
    "RDh = 0\n",
    "for (xi, yi) in zip(X, y):\n",
    "\terr = 0\n",
    "\terr += yi - b\n",
    "\tfor (xii, wi) in zip(xi, w):\n",
    "\t\terr -= xii*wi\n",
    "\tRDh += err**2\n",
    "RDh *= 1/len(X)\n",
    "\n",
    "# 停止计时，打印耗时\n",
    "stop = timeit.default_timer()\n",
    "print('耗时 {:.2f} 秒'.format(stop - start))"
   ]
  },
  {
   "cell_type": "markdown",
   "id": "d2ddaabf",
   "metadata": {
    "pycharm": {
     "name": "#%% md\n"
    }
   },
   "source": [
    "### 4.3-7"
   ]
  },
  {
   "cell_type": "code",
   "execution_count": 121,
   "id": "f0cad09e",
   "metadata": {
    "pycharm": {
     "name": "#%%\n"
    }
   },
   "outputs": [
    {
     "name": "stdout",
     "output_type": "stream",
     "text": [
      "X 是 506 x 14 的矩阵，秩为 14，所以是列满秩矩阵。\n"
     ]
    }
   ],
   "source": [
    "from sklearn.datasets import load_boston\n",
    "from numpy.linalg import matrix_rank\n",
    "import numpy as np\n",
    "\n",
    "# 加载波士顿数据集\n",
    "boston = load_boston()\n",
    "X0, y = boston.data, boston.target\n",
    "\n",
    "# 构造 X，即给 X0 增加一列 1\n",
    "ones = np.ones(X0.shape[0]).reshape(-1, 1)\n",
    "X = np.hstack((ones, X0))\n",
    "\n",
    "# 进行测试\n",
    "rankX = matrix_rank(X)\t#计算 X 的秩\n",
    "print('X 是 {} x {} 的矩阵，秩为 {}，所以{}列满秩矩阵。'.format(X.shape[0], X.shape[1], rankX, '是' if rankX == X.shape[1] else '不是'))"
   ]
  },
  {
   "cell_type": "markdown",
   "id": "8446a1f3",
   "metadata": {
    "pycharm": {
     "name": "#%% md\n"
    }
   },
   "source": [
    "### 4.3-8"
   ]
  },
  {
   "cell_type": "code",
   "execution_count": 122,
   "id": "5ac76a1d",
   "metadata": {
    "pycharm": {
     "name": "#%%\n"
    }
   },
   "outputs": [
    {
     "name": "stdout",
     "output_type": "stream",
     "text": [
      "最小二乘法的矩阵算法的结果为：w0 = 0.8585440000000055, w1 = 0.51413333333333。\n"
     ]
    }
   ],
   "source": [
    "import numpy as np\n",
    "\n",
    "# 父子身高数据集\n",
    "X0 = np.array([1.51, 1.64, 1.6, 1.73, 1.82, 1.87]).reshape(-1, 1)\n",
    "y = np.array([1.63, 1.7, 1.71, 1.72, 1.76, 1.86])\n",
    "\n",
    "# 构造 X，即给 X0 增加一列 1\n",
    "ones = np.ones(X0.shape[0]).reshape(-1, 1)\n",
    "X = np.hstack((ones, X0))\n",
    "\n",
    "pinvX = np.linalg.pinv(X)   # 计算伪逆\n",
    "w = pinvX @ y               # 最小二乘法的矩阵算法\n",
    "\n",
    "# 打印结果\n",
    "print('最小二乘法的矩阵算法的结果为：w0 = {}, w1 = {}。'.format(w[0], w[1]))"
   ]
  },
  {
   "cell_type": "markdown",
   "id": "5b311645",
   "metadata": {
    "pycharm": {
     "name": "#%% md\n"
    }
   },
   "source": [
    "### 4.3-9"
   ]
  },
  {
   "cell_type": "code",
   "execution_count": 135,
   "id": "ee624207",
   "metadata": {
    "pycharm": {
     "name": "#%%\n"
    }
   },
   "outputs": [
    {
     "name": "stdout",
     "output_type": "stream",
     "text": [
      "结果：w = [ 36.459  -0.108   0.046   0.021   2.687 -17.767   3.81    0.001  -1.476\n",
      "   0.306  -0.012  -0.953   0.009  -0.525] 。\n"
     ]
    }
   ],
   "source": [
    "import numpy as np\n",
    "from sklearn.datasets import load_boston\n",
    "\n",
    "# 读取波士顿房价数据集\n",
    "X0, y = load_boston(return_X_y=True)\n",
    "\n",
    "# 构造 X，即给 X0 增加一列 1\n",
    "ones = np.ones(X0.shape[0]).reshape(-1, 1)\n",
    "X = np.hstack((ones, X0))\n",
    "\n",
    "pinvX = np.linalg.pinv(X)   # 计算伪逆\n",
    "w = pinvX @ y               # 最小二乘法的矩阵算法\n",
    "\n",
    "# 打印结果\n",
    "with np.printoptions(precision=3, suppress=True):\t# 设置输出格式\n",
    "\tprint('结果：w = {} 。'.format(w))"
   ]
  },
  {
   "cell_type": "markdown",
   "id": "589e31d9",
   "metadata": {
    "pycharm": {
     "name": "#%% md\n"
    }
   },
   "source": [
    "### 4.4-2"
   ]
  },
  {
   "cell_type": "code",
   "execution_count": 137,
   "id": "f32209b1",
   "metadata": {
    "pycharm": {
     "name": "#%%\n"
    }
   },
   "outputs": [
    {
     "name": "stdout",
     "output_type": "stream",
     "text": [
      "训练结果：w = [ 37.937  -0.121   0.044   0.011   2.511 -16.231   3.859  -0.01   -1.5\n",
      "   0.242  -0.011  -1.018   0.007  -0.487] 。\n",
      "测试集上的经验误差，即泛化误差为：27.195965766883266\n"
     ]
    }
   ],
   "source": [
    "import numpy as np\n",
    "from sklearn.datasets import load_boston\n",
    "from sklearn.model_selection import train_test_split\n",
    "from sklearn.metrics import mean_squared_error\n",
    "\n",
    "# 读取波士顿房价数据集\n",
    "X, y = load_boston(return_X_y=True)\n",
    "\n",
    "# 70% 用于训练，30% 用于测试\n",
    "X0_train, X0_test, y_train, y_test = train_test_split(X, y, test_size =0.3, random_state = 0)\n",
    "\n",
    "# 训练\n",
    "# 构造 X_train，即给 X0_train 增加一行 1\n",
    "ones = np.ones(X0_train.shape[0]).reshape(-1, 1)\n",
    "X_train = np.hstack((ones, X0_train))\n",
    "\n",
    "pinvX_train = np.linalg.pinv(X_train) # 计算伪逆\n",
    "w = np.matmul(pinvX_train, y_train) # 最小二乘法的矩阵算法\n",
    "\n",
    "# 打印训练结果\n",
    "with np.printoptions(precision=3, suppress=True):\t# 设置输出格式\n",
    "\tprint('训练结果：w = {} 。'.format(w))\n",
    "\n",
    "# 测试泛化能力\n",
    "# 构造 X_test，即给 X0_test 增加一行 1\n",
    "ones = np.ones(X0_test.shape[0]).reshape(-1, 1)\n",
    "X_test = np.hstack((ones, X0_test))\n",
    "\n",
    "# 根据训练出来的 w ，给出预测房价 y_pred\n",
    "y_pred = np.matmul(X_test, w) # 求出 y_pred\n",
    "\n",
    "# 打印测试结果\n",
    "print('测试集上的经验误差，即泛化误差为：{}'.format(mean_squared_error(y_pred, y_test)))"
   ]
  },
  {
   "cell_type": "markdown",
   "id": "943fc534",
   "metadata": {
    "pycharm": {
     "name": "#%% md\n"
    }
   },
   "source": [
    "### 4.4-3"
   ]
  },
  {
   "cell_type": "code",
   "execution_count": 168,
   "id": "a0efd6f7",
   "metadata": {
    "pycharm": {
     "name": "#%%\n"
    }
   },
   "outputs": [
    {
     "name": "stderr",
     "output_type": "stream",
     "text": [
      "/Users/jiahuasong/opt/anaconda3/lib/python3.9/site-packages/sklearn/utils/deprecation.py:87: FutureWarning: Function load_boston is deprecated; `load_boston` is deprecated in 1.0 and will be removed in 1.2.\n",
      "\n",
      "    The Boston housing prices dataset has an ethical problem. You can refer to\n",
      "    the documentation of this function for further details.\n",
      "\n",
      "    The scikit-learn maintainers therefore strongly discourage the use of this\n",
      "    dataset unless the purpose of the code is to study and educate about\n",
      "    ethical issues in data science and machine learning.\n",
      "\n",
      "    In this special case, you can fetch the dataset from the original\n",
      "    source::\n",
      "\n",
      "        import pandas as pd\n",
      "        import numpy as np\n",
      "\n",
      "\n",
      "        data_url = \"http://lib.stat.cmu.edu/datasets/boston\"\n",
      "        raw_df = pd.read_csv(data_url, sep=\"\\s+\", skiprows=22, header=None)\n",
      "        data = np.hstack([raw_df.values[::2, :], raw_df.values[1::2, :2]])\n",
      "        target = raw_df.values[1::2, 2]\n",
      "\n",
      "    Alternative datasets include the California housing dataset (i.e.\n",
      "    :func:`~sklearn.datasets.fetch_california_housing`) and the Ames housing\n",
      "    dataset. You can load the datasets as follows::\n",
      "\n",
      "        from sklearn.datasets import fetch_california_housing\n",
      "        housing = fetch_california_housing()\n",
      "\n",
      "    for the California housing dataset and::\n",
      "\n",
      "        from sklearn.datasets import fetch_openml\n",
      "        housing = fetch_openml(name=\"house_prices\", as_frame=True)\n",
      "\n",
      "    for the Ames housing dataset.\n",
      "    \n",
      "  warnings.warn(msg, category=FutureWarning)\n",
      "Font 'default' does not have a glyph for '\\u5b9e' [U+5b9e], substituting with a dummy symbol.\n",
      "Font 'default' does not have a glyph for '\\u9645' [U+9645], substituting with a dummy symbol.\n",
      "Font 'default' does not have a glyph for '\\u623f' [U+623f], substituting with a dummy symbol.\n",
      "Font 'default' does not have a glyph for '\\u4ef7' [U+4ef7], substituting with a dummy symbol.\n",
      "Font 'default' does not have a glyph for '\\u9884' [U+9884], substituting with a dummy symbol.\n",
      "Font 'default' does not have a glyph for '\\u6d4b' [U+6d4b], substituting with a dummy symbol.\n",
      "Font 'default' does not have a glyph for '\\u623f' [U+623f], substituting with a dummy symbol.\n",
      "Font 'default' does not have a glyph for '\\u4ef7' [U+4ef7], substituting with a dummy symbol.\n",
      "Font 'default' does not have a glyph for '\\u5b9e' [U+5b9e], substituting with a dummy symbol.\n",
      "Font 'default' does not have a glyph for '\\u9645' [U+9645], substituting with a dummy symbol.\n",
      "Font 'default' does not have a glyph for '\\u623f' [U+623f], substituting with a dummy symbol.\n",
      "Font 'default' does not have a glyph for '\\u4ef7' [U+4ef7], substituting with a dummy symbol.\n",
      "Font 'default' does not have a glyph for '\\u9884' [U+9884], substituting with a dummy symbol.\n",
      "Font 'default' does not have a glyph for '\\u6d4b' [U+6d4b], substituting with a dummy symbol.\n",
      "Font 'default' does not have a glyph for '\\u623f' [U+623f], substituting with a dummy symbol.\n",
      "Font 'default' does not have a glyph for '\\u4ef7' [U+4ef7], substituting with a dummy symbol.\n"
     ]
    },
    {
     "data": {
      "image/png": "[encoded data removed]",
      "text/plain": [
       "<Figure size 432x216 with 1 Axes>"
      ]
     },
     "metadata": {},
     "output_type": "display_data"
    }
   ],
   "source": [
    "import numpy as np\n",
    "import matplotlib.pyplot as plt\n",
    "from sklearn.datasets import load_boston\n",
    "from sklearn.model_selection import train_test_split\n",
    "from sklearn.metrics import mean_squared_error\n",
    "\n",
    "# 读取波士顿房价数据集\n",
    "X, y = load_boston(return_X_y=True)\n",
    "\n",
    "# 70% 用于训练，30% 用于测试\n",
    "X0_train, X0_test, y_train, y_test = train_test_split(X, y, test_size =0.3, random_state = 0)\n",
    "\n",
    "# 训练和预测\n",
    "# 构造 X_train，即给 X0_train 增加一行 1\n",
    "ones = np.ones(X0_train.shape[0]).reshape(-1, 1)\n",
    "X_train = np.hstack((ones, X0_train))\n",
    "\n",
    "pinvX_train = np.linalg.pinv(X_train) # 计算伪逆\n",
    "w = np.matmul(pinvX_train, y_train) # 最小二乘法的矩阵算法\n",
    "\n",
    "# 构造 X_test，即给 X0_test 增加一行 1\n",
    "ones = np.ones(X0_test.shape[0]).reshape(-1, 1)\n",
    "X_test = np.hstack((ones, X0_test))\n",
    "\n",
    "# 根据训练出来的 w ，给出预测房价 y_pred\n",
    "y_pred = np.matmul(X_test, w) # 求出 y_pred\n",
    "\n",
    "# 绘制代码\n",
    "# 设置字体大小\n",
    "plt.rcParams.update({'font.size': 12})\n",
    "# 设置画布和坐标系\n",
    "fig, ax = plt.subplots(figsize = (6, 3), nrows=1, ncols=1)\n",
    "\n",
    "fig.subplots_adjust(left=0.25, right=0.75, top=0.999, bottom=0.1, )\n",
    "xy_min, xy_max = -5, 55\n",
    "ax.set_xticks(()),ax.set_yticks(())\n",
    "ax.set_xlim(xy_min, xy_max),ax.set_ylim(xy_min, xy_max)\n",
    "ax.set_xlabel('实际房价 $y_{test}$'),ax.set_ylabel('预测房价 $y_{pred}$')\n",
    "\n",
    "# 绘制点 (y_test, y_pred)\n",
    "ax.scatter(x=y_test, y=y_pred, edgecolor='k',)\n",
    "\n",
    "# 绘制直线 y_test=y_pred\n",
    "xx = np.arange(xy_min + 5, xy_max - 5)\n",
    "yy = xx\n",
    "plt.plot(xx, yy, color = 'red', lw = 3)\n",
    "\n",
    "plt.show()"
   ]
  },
  {
   "cell_type": "markdown",
   "id": "c4c7fd22",
   "metadata": {
    "pycharm": {
     "name": "#%% md\n"
    }
   },
   "source": [
    "### 4.4-4"
   ]
  },
  {
   "cell_type": "code",
   "execution_count": 177,
   "id": "443fca17",
   "metadata": {
    "pycharm": {
     "name": "#%%\n"
    }
   },
   "outputs": [
    {
     "name": "stdout",
     "output_type": "stream",
     "text": [
      "最小二乘法的矩阵算法找到的 w = [ 37.937  -0.121   0.044   0.011   2.511 -16.231   3.859  -0.01   -1.5\n",
      "   0.242  -0.011  -1.018   0.007  -0.487]\n",
      "sklearn 找到的 w = [ 37.937  -0.121   0.044   0.011   2.511 -16.231   3.859  -0.01   -1.5\n",
      "   0.242  -0.011  -1.018   0.007  -0.487]\n"
     ]
    },
    {
     "name": "stderr",
     "output_type": "stream",
     "text": [
      "/Users/jiahuasong/opt/anaconda3/lib/python3.9/site-packages/sklearn/utils/deprecation.py:87: FutureWarning: Function load_boston is deprecated; `load_boston` is deprecated in 1.0 and will be removed in 1.2.\n",
      "\n",
      "    The Boston housing prices dataset has an ethical problem. You can refer to\n",
      "    the documentation of this function for further details.\n",
      "\n",
      "    The scikit-learn maintainers therefore strongly discourage the use of this\n",
      "    dataset unless the purpose of the code is to study and educate about\n",
      "    ethical issues in data science and machine learning.\n",
      "\n",
      "    In this special case, you can fetch the dataset from the original\n",
      "    source::\n",
      "\n",
      "        import pandas as pd\n",
      "        import numpy as np\n",
      "\n",
      "\n",
      "        data_url = \"http://lib.stat.cmu.edu/datasets/boston\"\n",
      "        raw_df = pd.read_csv(data_url, sep=\"\\s+\", skiprows=22, header=None)\n",
      "        data = np.hstack([raw_df.values[::2, :], raw_df.values[1::2, :2]])\n",
      "        target = raw_df.values[1::2, 2]\n",
      "\n",
      "    Alternative datasets include the California housing dataset (i.e.\n",
      "    :func:`~sklearn.datasets.fetch_california_housing`) and the Ames housing\n",
      "    dataset. You can load the datasets as follows::\n",
      "\n",
      "        from sklearn.datasets import fetch_california_housing\n",
      "        housing = fetch_california_housing()\n",
      "\n",
      "    for the California housing dataset and::\n",
      "\n",
      "        from sklearn.datasets import fetch_openml\n",
      "        housing = fetch_openml(name=\"house_prices\", as_frame=True)\n",
      "\n",
      "    for the Ames housing dataset.\n",
      "    \n",
      "  warnings.warn(msg, category=FutureWarning)\n"
     ]
    }
   ],
   "source": [
    "import numpy as np\n",
    "from sklearn.datasets import load_boston\n",
    "from sklearn.model_selection import train_test_split\n",
    "from sklearn.linear_model import LinearRegression\n",
    "\n",
    "# 读取波士顿房价数据集\n",
    "X, y = load_boston(return_X_y=True)\n",
    "\n",
    "# 70% 用于训练，30% 用于测试\n",
    "X0_train, X0_test, y_train, y_test = train_test_split(X, y, test_size =0.3, random_state = 0)\n",
    "\n",
    "# 训练\n",
    "# 通过最小二乘法的矩阵算法来训练\n",
    "# 构造 X_train，即给 X0_train 增加一行 1\n",
    "ones = np.ones(X0_train.shape[0]).reshape(-1, 1)\n",
    "X_train = np.hstack((ones, X0_train))\n",
    "\n",
    "pinvX_train = np.linalg.pinv(X_train) # 计算伪逆\n",
    "w1 = np.matmul(pinvX_train, y_train) # 最小二乘法的矩阵算法\n",
    "with np.printoptions(precision=3, suppress=True):\t# 设置输出格式\n",
    "\tprint('最小二乘法的矩阵算法找到的 w = {}'.format(w1))\n",
    "\n",
    "# 通过 sklearn 的 LinearRegression 来训练\n",
    "LR = LinearRegression().fit(X0_train, y_train)\n",
    "w2 = np.insert(LR.coef_, 0, LR.intercept_, axis=0)\n",
    "with np.printoptions(precision=3, suppress=True):\t# 设置输出格式\n",
    "\tprint('sklearn 找到的 w = {}'.format(w2))"
   ]
  },
  {
   "cell_type": "code",
   "execution_count": 180,
   "id": "f79eb774",
   "metadata": {
    "pycharm": {
     "name": "#%%\n"
    }
   },
   "outputs": [
    {
     "ename": "AttributeError",
     "evalue": "'LinearRegression' object has no attribute 'intercept__'",
     "output_type": "error",
     "traceback": [
      "\u001B[0;31m---------------------------------------------------------------------------\u001B[0m",
      "\u001B[0;31mAttributeError\u001B[0m                            Traceback (most recent call last)",
      "Input \u001B[0;32mIn [180]\u001B[0m, in \u001B[0;36m<cell line: 1>\u001B[0;34m()\u001B[0m\n\u001B[0;32m----> 1\u001B[0m \u001B[43mLR\u001B[49m\u001B[38;5;241;43m.\u001B[39;49m\u001B[43mintercept__\u001B[49m\n",
      "\u001B[0;31mAttributeError\u001B[0m: 'LinearRegression' object has no attribute 'intercept__'"
     ]
    }
   ],
   "source": []
  }
 ],
 "metadata": {
  "kernelspec": {
   "display_name": "Python 3 (ipykernel)",
   "language": "python",
   "name": "python3"
  },
  "language_info": {
   "codemirror_mode": {
    "name": "ipython",
    "version": 3
   },
   "file_extension": ".py",
   "mimetype": "text/x-python",
   "name": "python",
   "nbconvert_exporter": "python",
   "pygments_lexer": "ipython3",
   "version": "3.9.12"
  }
 },
 "nbformat": 4,
 "nbformat_minor": 5
}