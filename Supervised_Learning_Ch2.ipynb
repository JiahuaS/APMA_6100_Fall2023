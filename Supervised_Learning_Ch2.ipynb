{
 "cells": [
  {
   "cell_type": "code",
   "execution_count": 7,
   "id": "384dca29",
   "metadata": {
    "pycharm": {
     "name": "#%%\n"
    }
   },
   "outputs": [
    {
     "data": {
      "text/plain": [
       "(6, array([-7,  6]), -1)"
      ]
     },
     "execution_count": 7,
     "metadata": {},
     "output_type": "execute_result"
    }
   ],
   "source": [
    "import numpy as np\n",
    "w,b = np.array([0,0]), 0\n",
    "def d(x):\n",
    "    return np.dot(x,w)+b\n",
    "def sign(x):\n",
    "    return 1 if x >= 0 else -1\n",
    "def h(x):\n",
    "    return sign(d(x))\n",
    "def clf_score(X,y):\n",
    "    score = 0\n",
    "    for xi, yi in zip(X,y):\n",
    "        score += yi*h(xi)\n",
    "    return score\n",
    "\n",
    "# data\n",
    "X = np.array([[5,2], [3,2], [2,7], [1,4], [6,1], [4,5]])\n",
    "y = np.array([-1, -1, 1, 1, -1, 1])\n",
    "\n",
    "# PLA-pocket\n",
    "epochs = 10\n",
    "best_w, best_b = 0, 0\n",
    "best_cs = clf_score(X,y)\n",
    "for i in range(epochs):\n",
    "    for xi, yi in zip(X,y):\n",
    "        if yi*d(xi)<=0:\n",
    "            w = w + yi*xi\n",
    "            b = b + yi\n",
    "            cs = clf_score(X,y)\n",
    "            if cs > best_cs:\n",
    "                best_cs = cs\n",
    "                best_w = w\n",
    "                best_b = b\n",
    "            break\n",
    "best_cs,best_w,best_b\n",
    "            \n"
   ]
  },
  {
   "cell_type": "code",
   "execution_count": 9,
   "id": "e4b9a71f",
   "metadata": {
    "pycharm": {
     "name": "#%%\n"
    }
   },
   "outputs": [
    {
     "name": "stdout",
     "output_type": "stream",
     "text": [
      "总共有 100 个数据，其中训练验证集中有 80 个数据，测试集中有 20 个数据。\n",
      "第 1 折，训练集准确率 79.17% ，验证集准确率 87.50%\n",
      "第 2 折，训练集准确率 94.44% ，验证集准确率 87.50%\n",
      "第 3 折，训练集准确率 95.83% ，验证集准确率 75.00%\n",
      "第 4 折，训练集准确率 94.44% ，验证集准确率 100.00%\n",
      "第 5 折，训练集准确率 94.44% ，验证集准确率 87.50%\n",
      "第 6 折，训练集准确率 94.44% ，验证集准确率 100.00%\n",
      "第 7 折，训练集准确率 94.44% ，验证集准确率 100.00%\n",
      "第 8 折，训练集准确率 95.83% ，验证集准确率 87.50%\n",
      "第 9 折，训练集准确率 94.44% ，验证集准确率 100.00%\n",
      "第 10 折，训练集准确率 95.83% ，验证集准确率 87.50%\n",
      "epochs = 100，验证集准确率的平均值为 91.25%。\n"
     ]
    }
   ],
   "source": [
    "import numpy as np\n",
    "import matplotlib.pyplot as plt\n",
    "from sklearn.model_selection import train_test_split\n",
    "from sklearn import datasets\n",
    "from sklearn.model_selection import KFold\n",
    "from matplotlib.colors import ListedColormap\n",
    "\n",
    "# 超参数\n",
    "epochs = 100 # 固定的迭代次数\n",
    "\n",
    "# 参数\n",
    "w, b = np.array([0, 0]), 0 # np.array 相当于定义向量\n",
    "\n",
    "# 定义 d(x) 函数\n",
    "def d(x):\n",
    "    return np.dot(w,x)+b # np.dot 是向量的点积\n",
    "\n",
    "# 定义 sign 函数\n",
    "def sign(x):\n",
    "    return 1 if x >= 0 else -1\n",
    "\n",
    "# 定义 h(x) 函数\n",
    "def h(x):\n",
    "    return sign(d(x))\n",
    "\n",
    "# 计算决策边界的评分\n",
    "def clf_score(X, y):\n",
    "    score = 0\n",
    "    for xi, yi in zip(X, y):\n",
    "        score += yi*h(xi)\n",
    "    return score\n",
    "\n",
    "# 感知机的口袋算法\n",
    "def PLA_pocket(X, y):\n",
    "    global epochs, w, b\n",
    "\n",
    "    w, b = np.array([0, 0]), 0 # np.array 相当于定义向量\n",
    "    best_w, best_b = w, b\n",
    "    best_cs = clf_score(X, y)\n",
    "    for _ in range(epochs):\n",
    "\n",
    "        # 顺序遍及数据集 X\n",
    "        for xi, yi in zip(X, y):\n",
    "            # 如果有分错的\n",
    "            if yi*d(xi) <= 0:\n",
    "                # 更新法向量 lw 和 lb\n",
    "                w, b = w + yi*xi, b + yi\n",
    "                # 对新得到的决策边界进行评分\n",
    "                cs = clf_score(X, y)\n",
    "                # 如果更好，则进行更新\n",
    "                if cs > best_cs:\n",
    "                    best_cs = cs\n",
    "                    best_w, best_b = w, b\n",
    "                break\n",
    "\n",
    "    w, b = best_w, best_b\n",
    "\n",
    "# 以下是训练代码\n",
    "# 载入iris数据集\n",
    "iris = datasets.load_iris()\n",
    "# 取后面100个数据，并且只取最后两个特征，以及取出对应的类别\n",
    "sampleNumber = 100\n",
    "X = iris.data[50:50+sampleNumber, [2,3]]\n",
    "# iris 数据集的类别是0, 1, 2，为了运用我们实现的感知机算法，这里将后两个类别改为-1, 1\n",
    "y = np.where(iris.target[50:50+sampleNumber] == 1, -1, 1)\n",
    "\n",
    "# 借助 train_test_split 进行随机分割，按照 8 : 2  的比例划分为训练验证集、测试集\n",
    "rs = 42\n",
    "X_tv, X_test, y_tv, y_test = train_test_split(X, y, test_size=0.2, random_state=rs)\n",
    "print(r'总共有 {} 个数据，其中训练验证集中有 {} 个数据，测试集中有 {} 个数据。'.format(len(X), len(X_tv), len(X_test)))\n",
    "\n",
    "# 在 X_tv 上进行 k 折交叉沿验证\n",
    "k = 10\n",
    "kf = KFold(n_splits=k, random_state=rs, shuffle=True)\n",
    "val_accuracy = 0\n",
    "for idx, (train, val) in zip(range(k), kf.split(X_tv)):\n",
    "    X_train, y_train, X_val, y_val = X_tv[train], y_tv[train], X_tv[val], y_tv[val]\n",
    "    PLA_pocket(X_train, y_train)\n",
    "    split_train_accuracy = 1 - (len(X_train) - clf_score(X_train, y_train))/2/len(X_train)\n",
    "    split_val_accuracy = 1 - (len(X_val) - clf_score(X_val, y_val))/2/len(X_val)\n",
    "    print(r'第 {} 折，训练集准确率 {:.2%} ，验证集准确率 {:.2%}'.format(idx + 1, split_train_accuracy, split_val_accuracy))\n",
    "    val_accuracy += split_val_accuracy\n",
    "print(r'epochs = {}，验证集准确率的平均值为 {:.2%}。'.format(epochs, val_accuracy / k))"
   ]
  },
  {
   "cell_type": "code",
   "execution_count": 2,
   "id": "72eb9388",
   "metadata": {
    "pycharm": {
     "name": "#%%\n"
    }
   },
   "outputs": [
    {
     "data": {
      "text/plain": [
       "(array([-7,  6]), -1, 6)"
      ]
     },
     "execution_count": 2,
     "metadata": {},
     "output_type": "execute_result"
    }
   ],
   "source": []
  }
 ],
 "metadata": {
  "kernelspec": {
   "display_name": "Python 3 (ipykernel)",
   "language": "python",
   "name": "python3"
  },
  "language_info": {
   "codemirror_mode": {
    "name": "ipython",
    "version": 3
   },
   "file_extension": ".py",
   "mimetype": "text/x-python",
   "name": "python",
   "nbconvert_exporter": "python",
   "pygments_lexer": "ipython3",
   "version": "3.9.12"
  }
 },
 "nbformat": 4,
 "nbformat_minor": 5
}