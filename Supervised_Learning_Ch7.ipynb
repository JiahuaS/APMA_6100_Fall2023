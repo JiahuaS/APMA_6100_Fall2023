{
 "cells": [
  {
   "cell_type": "markdown",
   "id": "aa63043d",
   "metadata": {},
   "source": [
    "# 8.2"
   ]
  },
  {
   "cell_type": "code",
   "execution_count": 1,
   "id": "c89a0105",
   "metadata": {},
   "outputs": [
    {
     "name": "stderr",
     "output_type": "stream",
     "text": [
      "/var/folders/v2/5qft7fyx4md0d3vhbjvb64wr0000gn/T/ipykernel_35977/3457917267.py:62: UserWarning: You passed a edgecolor/edgecolors ('k') for an unfilled marker ('x').  Matplotlib is ignoring the edgecolor in favor of the facecolor.  This behavior may change in the future.\n",
      "  ax.scatter(x=X[y==cl, 1], y=X[y==cl, 2], c=y[y==cl], alpha=1, vmin = vmin, vmax = vmax, cmap=cm, edgecolors='k', marker = m)\n"
     ]
    },
    {
     "data": {
      "image/png": "[encoded data removed]",
      "text/plain": [
       "<Figure size 432x216 with 1 Axes>"
      ]
     },
     "metadata": {},
     "output_type": "display_data"
    }
   ],
   "source": [
    "import numpy as np\n",
    "import matplotlib.pyplot as plt\n",
    "from sklearn import datasets\n",
    "from matplotlib.colors import ListedColormap\n",
    "\n",
    "# 需要设置的参数\n",
    "wk = np.array([0, 0, 0])\t\t# 初始点\n",
    "eta = 0.1\t\t\t\t\t    # 学习率\n",
    "epochs = 5000 \t\t\t\t    # 迭代上限\n",
    "epsilon = 0.01\t\t\t\t\t# 梯度模长的上限\n",
    "\n",
    "# 信用卡发放数据集\n",
    "X = np.insert(np.array([[1,1], [1,1], [1,0], [0,1], [1,0], [0,1], [0,1], [0,0], [0,0], [1,1], ]), 0, 1, axis=1)\t# 给每个xi第一列增加1\n",
    "y = np.array([-1, -1, -1, -1, 1, 1, 1, 1, 1, 1, ])\n",
    "\n",
    "# sigmoid 函数\n",
    "def sigmoid(x):\n",
    "    return 1/(1+np.exp(-x))\n",
    "\n",
    "# 逻辑回归的假设函数\n",
    "def h(x):\n",
    "\treturn sigmoid(x@wk.T)\n",
    "\n",
    "# 经验误差函数的梯度\n",
    "def drhd(w):\n",
    "\tew0 = np.mean(-y*X[:, 0]*np.exp(-y*(X@w))/(1+np.exp(-y*(X@w))))\n",
    "\tew1 = np.mean(-y*X[:, 1]*np.exp(-y*(X@w))/(1+np.exp(-y*(X@w))))\n",
    "\tew2 = np.mean(-y*X[:, 2]*np.exp(-y*(X@w))/(1+np.exp(-y*(X@w))))\n",
    "\treturn np.array([ew0, ew1, ew2])\n",
    "\n",
    "# 梯度下降法\n",
    "for i in range(epochs):\n",
    "\tdrhdwk = drhd(wk)\n",
    "\tif np.linalg.norm(drhdwk) < epsilon:\n",
    "\t\tbreak\n",
    "\twk = wk-eta*drhdwk\n",
    "\n",
    "# 下面是绘制代码\n",
    "# 设置字体大小\n",
    "plt.rcParams.update({'font.size': 14})\n",
    "# 设置subfigure\n",
    "fig, ax = plt.subplots(figsize = (6, 3))\n",
    "fig.subplots_adjust(left=0.25, right=0.75, top=0.999, bottom=0.001)\n",
    "ax.set(xticks=[], yticks=[])\n",
    "\n",
    "x1_min, x1_max = X[:, 1].min() - 0.5, X[:, 1].max() + 0.5\n",
    "x2_min, x2_max = X[:, 2].min() - 0.5, X[:, 2].max() + 0.5\n",
    "ax.set_xlim(x1_min, x1_max),ax.set_ylim(x2_min, x2_max)\n",
    "\n",
    "# 绘制决策区域\n",
    "resolution = 0.03\n",
    "xx1, xx2 = np.meshgrid(np.arange(x1_min-0.1, x1_max+0.1, resolution), np.arange(x2_min-0.1, x2_max+0.1, resolution))\n",
    "xx = np.insert(np.c_[xx1.ravel(), xx2.ravel()], 0, 1, axis=1)\n",
    "Z = h(xx).reshape(xx1.shape)\n",
    "ax.contourf(xx1, xx2, Z, 50, cmap=\"coolwarm\", vmin=0, vmax=1, alpha=0.9)\n",
    "\n",
    "# 绘制数据集\n",
    "markers = ('x', 'o')\n",
    "vmin, vmax = min(y), max(y)\n",
    "cm = ListedColormap(('blue', 'red'))\n",
    "for cl, m in zip(np.unique(y), markers):\n",
    "\tax.scatter(x=X[y==cl, 1], y=X[y==cl, 2], c=y[y==cl], alpha=1, vmin = vmin, vmax = vmax, cmap=cm, edgecolors='k', marker = m)\n",
    "\n",
    "# 绘制直线\n",
    "def lh(x):\n",
    "\treturn -wk[0]/wk[2]-wk[1]/wk[2]*x\n",
    "xx1 = np.arange(x1_min-0.1, x1_max+0.1, 0.1)\n",
    "ax.plot(xx1, lh(xx1), 'k--', lw=1)\n",
    "\n",
    "plt.show()"
   ]
  },
  {
   "cell_type": "markdown",
   "id": "092ad20a",
   "metadata": {},
   "source": [
    "# 8.5"
   ]
  },
  {
   "cell_type": "code",
   "execution_count": 2,
   "id": "3a2952a2",
   "metadata": {},
   "outputs": [
    {
     "name": "stderr",
     "output_type": "stream",
     "text": [
      "/var/folders/v2/5qft7fyx4md0d3vhbjvb64wr0000gn/T/ipykernel_35977/96287396.py:29: UserWarning: You passed a edgecolor/edgecolors ('k') for an unfilled marker ('x').  Matplotlib is ignoring the edgecolor in favor of the facecolor.  This behavior may change in the future.\n",
      "  ax.scatter(x=X[y==cl, 0], y=X[y==cl, 1], alpha=1, c=color, edgecolors='k', marker = m, label=label)\n",
      "/Users/jiahuasong/opt/anaconda3/lib/python3.9/site-packages/IPython/core/pylabtools.py:151: UserWarning: Glyph 33457 (\\N{CJK UNIFIED IDEOGRAPH-82B1}) missing from current font.\n",
      "  fig.canvas.print_figure(bytes_io, **kw)\n",
      "/Users/jiahuasong/opt/anaconda3/lib/python3.9/site-packages/IPython/core/pylabtools.py:151: UserWarning: Glyph 29923 (\\N{CJK UNIFIED IDEOGRAPH-74E3}) missing from current font.\n",
      "  fig.canvas.print_figure(bytes_io, **kw)\n",
      "/Users/jiahuasong/opt/anaconda3/lib/python3.9/site-packages/IPython/core/pylabtools.py:151: UserWarning: Glyph 38271 (\\N{CJK UNIFIED IDEOGRAPH-957F}) missing from current font.\n",
      "  fig.canvas.print_figure(bytes_io, **kw)\n",
      "/Users/jiahuasong/opt/anaconda3/lib/python3.9/site-packages/IPython/core/pylabtools.py:151: UserWarning: Glyph 24230 (\\N{CJK UNIFIED IDEOGRAPH-5EA6}) missing from current font.\n",
      "  fig.canvas.print_figure(bytes_io, **kw)\n",
      "/Users/jiahuasong/opt/anaconda3/lib/python3.9/site-packages/IPython/core/pylabtools.py:151: UserWarning: Glyph 21464 (\\N{CJK UNIFIED IDEOGRAPH-53D8}) missing from current font.\n",
      "  fig.canvas.print_figure(bytes_io, **kw)\n",
      "/Users/jiahuasong/opt/anaconda3/lib/python3.9/site-packages/IPython/core/pylabtools.py:151: UserWarning: Glyph 33394 (\\N{CJK UNIFIED IDEOGRAPH-8272}) missing from current font.\n",
      "  fig.canvas.print_figure(bytes_io, **kw)\n",
      "/Users/jiahuasong/opt/anaconda3/lib/python3.9/site-packages/IPython/core/pylabtools.py:151: UserWarning: Glyph 40482 (\\N{CJK UNIFIED IDEOGRAPH-9E22}) missing from current font.\n",
      "  fig.canvas.print_figure(bytes_io, **kw)\n",
      "/Users/jiahuasong/opt/anaconda3/lib/python3.9/site-packages/IPython/core/pylabtools.py:151: UserWarning: Glyph 23614 (\\N{CJK UNIFIED IDEOGRAPH-5C3E}) missing from current font.\n",
      "  fig.canvas.print_figure(bytes_io, **kw)\n",
      "/Users/jiahuasong/opt/anaconda3/lib/python3.9/site-packages/IPython/core/pylabtools.py:151: UserWarning: Glyph 32500 (\\N{CJK UNIFIED IDEOGRAPH-7EF4}) missing from current font.\n",
      "  fig.canvas.print_figure(bytes_io, **kw)\n",
      "/Users/jiahuasong/opt/anaconda3/lib/python3.9/site-packages/IPython/core/pylabtools.py:151: UserWarning: Glyph 21513 (\\N{CJK UNIFIED IDEOGRAPH-5409}) missing from current font.\n",
      "  fig.canvas.print_figure(bytes_io, **kw)\n",
      "/Users/jiahuasong/opt/anaconda3/lib/python3.9/site-packages/IPython/core/pylabtools.py:151: UserWarning: Glyph 23612 (\\N{CJK UNIFIED IDEOGRAPH-5C3C}) missing from current font.\n",
      "  fig.canvas.print_figure(bytes_io, **kw)\n",
      "/Users/jiahuasong/opt/anaconda3/lib/python3.9/site-packages/IPython/core/pylabtools.py:151: UserWarning: Glyph 20122 (\\N{CJK UNIFIED IDEOGRAPH-4E9A}) missing from current font.\n",
      "  fig.canvas.print_figure(bytes_io, **kw)\n"
     ]
    },
    {
     "data": {
      "image/png": "[encoded data removed]",
      "text/plain": [
       "<Figure size 432x216 with 1 Axes>"
      ]
     },
     "metadata": {},
     "output_type": "display_data"
    }
   ],
   "source": [
    "import numpy as np\n",
    "import matplotlib.pyplot as plt\n",
    "from sklearn import datasets\n",
    "from matplotlib.colors import ListedColormap\n",
    "\n",
    "sampleCount = 100\n",
    "\n",
    "# 载入iris数据集\n",
    "iris = datasets.load_iris()\n",
    "# 只取最后两个特征，以及取出对应的类别\n",
    "X = iris.data[50:50+sampleCount, [2,3]]\n",
    "y = iris.target[50:50+sampleCount]\n",
    "\n",
    "colors = ( 'blue', 'red')\n",
    "names = ( '变色鸢尾', '维吉尼亚鸢尾')\n",
    "\n",
    "# 设置字体大小\n",
    "plt.rcParams.update({'font.size': 12})\n",
    "# 设置画布和坐标系\n",
    "fig, ax = plt.subplots(figsize = (6, 3), nrows=1, ncols=1)\n",
    "fig.subplots_adjust(left=0.15, right=0.85, top=0.999, bottom=0.1)\n",
    "ax.set_xticks(()),ax.set_yticks(())\n",
    "\n",
    "cm = ListedColormap(('blue', 'red'))\n",
    "markers = ( 'x', 'o')\n",
    "\n",
    "# 根据类别不同，绘制不同形状的点\n",
    "for cl, m, label, color in zip(np.unique(y), markers, names, colors):\n",
    "\tax.scatter(x=X[y==cl, 0], y=X[y==cl, 1], alpha=1, c=color, edgecolors='k', marker = m, label=label)\n",
    "ax.legend()\n",
    "ax.set_xlabel('花瓣长度')\n",
    "\n",
    "plt.show()"
   ]
  },
  {
   "cell_type": "code",
   "execution_count": 3,
   "id": "ce27bbca",
   "metadata": {},
   "outputs": [
    {
     "data": {
      "image/png": "[encoded data removed]",
      "text/plain": [
       "<Figure size 432x216 with 2 Axes>"
      ]
     },
     "metadata": {
      "needs_background": "light"
     },
     "output_type": "display_data"
    }
   ],
   "source": [
    "import numpy as np\n",
    "import matplotlib.pyplot as plt\n",
    "from sklearn import datasets\n",
    "from matplotlib.colors import ListedColormap\n",
    "import scipy.stats as stats\n",
    "\n",
    "sampleCount = 100\n",
    "\n",
    "# 载入iris数据集\n",
    "iris = datasets.load_iris()\n",
    "# 只取最后两个特征，以及取出对应的类别\n",
    "X = iris.data[50:50+sampleCount, [2,3]]\n",
    "y = iris.target[50:50+sampleCount]\n",
    "\n",
    "# 设置字体大小\n",
    "plt.rcParams.update({'font.size': 12})\n",
    "# 设置画布和坐标系\n",
    "fig, axes = plt.subplots(figsize = (6, 3), nrows=1, ncols=2)\n",
    "fig.subplots_adjust(left=0.06, right=0.99, top=0.97, bottom=0.15)\n",
    "\n",
    "colors = ( 'blue', 'red')\n",
    "names = ( '变色鸢尾', '维吉尼亚鸢尾')\n",
    "for ax, cl, c, name, in zip(axes, np.unique(y), colors, names):\n",
    "    # 绘制直方图，desity 为 True，表示绘制的是概率密度\n",
    "\tax.hist(X[y==cl, 0], 10, label=name, facecolor=c, ec='k', alpha=0.75, density=True)\n",
    "\tax.legend()\n",
    "\tax.set_xlabel('花瓣长度')\n",
    "\n",
    "plt.show()"
   ]
  },
  {
   "cell_type": "code",
   "execution_count": 4,
   "id": "77f5f706",
   "metadata": {},
   "outputs": [
    {
     "name": "stdout",
     "output_type": "stream",
     "text": [
      "变色鸢尾的均值 ≈ 4.26, 标准差 ≈ 0.47\n",
      "维吉尼亚鸢尾的均值 ≈ 5.55, 标准差 ≈ 0.55\n"
     ]
    }
   ],
   "source": [
    "import matplotlib.pyplot as plt\n",
    "from sklearn import datasets\n",
    "import numpy as np\n",
    "sampleCount = 100\n",
    "# 以下是训练代码\n",
    "# 载入iris数据集\n",
    "iris = datasets.load_iris()\n",
    "# 只取最后两个特征，以及取出对应的类别\n",
    "X = iris.data[50:50+sampleCount, [2,3]]\n",
    "y = iris.target[50:50+sampleCount]\n",
    "\n",
    "# 计算“变色鸢尾”的参数\n",
    "x1 = X[y==1,0]\t\t#只取出“花瓣长度”这个特征\n",
    "mu1 =np.mean(x1) \t#计算均值\n",
    "sigma1 =np.std(x1)\t#计算标准差\n",
    "\n",
    "# 计算“维吉尼亚鸢尾”的参数\n",
    "x2 = X[y==2,0]\t\t#只取出“花瓣长度”这个特征\n",
    "mu2 =np.mean(x2) \t#计算均值\n",
    "sigma2 =np.std(x2)\t#计算标准差\n",
    "\n",
    "print('变色鸢尾的均值 ≈ {:.2f}, 标准差 ≈ {:.2f}'.format(mu1, sigma1))\n",
    "\n",
    "print('维吉尼亚鸢尾的均值 ≈ {:.2f}, 标准差 ≈ {:.2f}'.format(mu2, sigma2))"
   ]
  },
  {
   "cell_type": "code",
   "execution_count": 5,
   "id": "4c9eaf0b",
   "metadata": {},
   "outputs": [
    {
     "name": "stdout",
     "output_type": "stream",
     "text": [
      "变色鸢尾的均值 ≈ 4.26, 标准差 ≈ 0.47\n",
      "维吉尼亚鸢尾的均值 ≈ 5.66, 标准差 ≈ 0.62\n"
     ]
    }
   ],
   "source": [
    "import matplotlib.pyplot as plt\n",
    "from sklearn import datasets\n",
    "import numpy as np\n",
    "sampleCount = 70\n",
    "# 以下是训练代码\n",
    "# 载入iris数据集\n",
    "iris = datasets.load_iris()\n",
    "# 只取最后两个特征，以及取出对应的类别\n",
    "X = iris.data[50:50+sampleCount, [2,3]]\n",
    "y = iris.target[50:50+sampleCount]\n",
    "\n",
    "# 计算“变色鸢尾”的参数\n",
    "x1 = X[y==1,0]\t\t#只取出“花瓣长度”这个特征\n",
    "mu1 =np.mean(x1) \t#计算均值\n",
    "sigma1 =np.std(x1)\t#计算标准差\n",
    "\n",
    "# 计算“维吉尼亚鸢尾”的参数\n",
    "x2 = X[y==2,0]\t\t#只取出“花瓣长度”这个特征\n",
    "mu2 =np.mean(x2) \t#计算均值\n",
    "sigma2 =np.std(x2)\t#计算标准差\n",
    "\n",
    "print('变色鸢尾的均值 ≈ {:.2f}, 标准差 ≈ {:.2f}'.format(mu1, sigma1))\n",
    "\n",
    "print('维吉尼亚鸢尾的均值 ≈ {:.2f}, 标准差 ≈ {:.2f}'.format(mu2, sigma2))"
   ]
  },
  {
   "cell_type": "code",
   "execution_count": null,
   "id": "0e1310a5",
   "metadata": {},
   "outputs": [],
   "source": []
  },
  {
   "cell_type": "code",
   "execution_count": null,
   "id": "9137491a",
   "metadata": {},
   "outputs": [],
   "source": []
  },
  {
   "cell_type": "code",
   "execution_count": null,
   "id": "a888b876",
   "metadata": {},
   "outputs": [],
   "source": []
  },
  {
   "cell_type": "code",
   "execution_count": null,
   "id": "93e83839",
   "metadata": {},
   "outputs": [],
   "source": []
  },
  {
   "cell_type": "code",
   "execution_count": null,
   "id": "09542275",
   "metadata": {},
   "outputs": [],
   "source": []
  },
  {
   "cell_type": "code",
   "execution_count": null,
   "id": "873be1e3",
   "metadata": {},
   "outputs": [],
   "source": []
  },
  {
   "cell_type": "code",
   "execution_count": null,
   "id": "9907636e",
   "metadata": {},
   "outputs": [],
   "source": []
  },
  {
   "cell_type": "code",
   "execution_count": null,
   "id": "6007f6a6",
   "metadata": {},
   "outputs": [],
   "source": []
  },
  {
   "cell_type": "code",
   "execution_count": null,
   "id": "ffc38e58",
   "metadata": {},
   "outputs": [],
   "source": []
  }
 ],
 "metadata": {
  "kernelspec": {
   "display_name": "Python 3 (ipykernel)",
   "language": "python",
   "name": "python3"
  },
  "language_info": {
   "codemirror_mode": {
    "name": "ipython",
    "version": 3
   },
   "file_extension": ".py",
   "mimetype": "text/x-python",
   "name": "python",
   "nbconvert_exporter": "python",
   "pygments_lexer": "ipython3",
   "version": "3.9.12"
  }
 },
 "nbformat": 4,
 "nbformat_minor": 5
}
