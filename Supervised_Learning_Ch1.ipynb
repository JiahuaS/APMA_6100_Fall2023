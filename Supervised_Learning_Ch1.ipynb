{
 "cells": [
  {
   "cell_type": "markdown",
   "id": "ffe7a65e",
   "metadata": {
    "pycharm": {
     "name": "#%% md\n"
    }
   },
   "source": [
    "### 1.2"
   ]
  },
  {
   "cell_type": "code",
   "execution_count": 1,
   "id": "f3ffaead",
   "metadata": {
    "pycharm": {
     "name": "#%%\n"
    }
   },
   "outputs": [
    {
     "data": {
      "image/png": "[encoded data removed]",
      "text/plain": [
       "<Figure size 432x288 with 24 Axes>"
      ]
     },
     "metadata": {},
     "output_type": "display_data"
    }
   ],
   "source": [
    "# 导入matplotlib和sklearn库，这两个库在后面的课程中会经常用到\n",
    "import matplotlib.pyplot as plt\n",
    "from sklearn import datasets\n",
    "\n",
    "# 取出sklearn里面的手写识别图片\n",
    "digits = datasets.load_digits()\n",
    "\n",
    "# 将这些手写识别图片部分画出\n",
    "row_num, col_num = 4, 6 # 总共4行，每行6张图片\n",
    "_, axes = plt.subplots(row_num, col_num, subplot_kw=dict(xticks=[], yticks=[]))\n",
    "images_and_labels = list(zip(digits.images, digits.target))\n",
    "for i in range(row_num):\n",
    "    for j in range(col_num):\n",
    "        (image, label) = images_and_labels[i*col_num+j]\n",
    "        axes[i, j].imshow(image.reshape((8, 8)), cmap=plt.cm.binary) # 图片为8*8的灰度图\n",
    "        axes[i, j].set_title('label = %i' % label)\n",
    "\n",
    "plt.show() # 显示上面的绘制结果"
   ]
  },
  {
   "cell_type": "markdown",
   "id": "d3cf83c3",
   "metadata": {
    "pycharm": {
     "name": "#%% md\n"
    }
   },
   "source": [
    "### 2.1-5"
   ]
  },
  {
   "cell_type": "code",
   "execution_count": 4,
   "id": "59e76791",
   "metadata": {
    "pycharm": {
     "name": "#%%\n"
    }
   },
   "outputs": [
    {
     "name": "stdout",
     "output_type": "stream",
     "text": [
      "该数据库中总共有 569 位病人（特征向量）。\n",
      "每位病人（特征向量）包含 30 个特征。\n",
      "所有病人有 2 种标签，分别是“良性肿瘤”、“恶性肿瘤”。\n"
     ]
    }
   ],
   "source": [
    "# 从sklearn库中引入美国威斯康辛州的癌症数据集\n",
    "from sklearn.datasets import load_breast_cancer\n",
    "# 引入numpy，方便我们进行数组操作\n",
    "import numpy as np\n",
    "\n",
    "# 获取特征向量集合，以及标签向量集合\n",
    "X, y = load_breast_cancer(return_X_y=True)\n",
    "\n",
    "print('该数据库中总共有 {} 位病人（特征向量）。'.format(X.shape[0]))\n",
    "print('每位病人（特征向量）包含 {} 个特征。'.format(X.shape[1]))\n",
    "print('所有病人有 {} 种标签，分别是“良性肿瘤”、“恶性肿瘤”。'.format(np.size(np.unique(y))))"
   ]
  },
  {
   "cell_type": "markdown",
   "id": "b2918331",
   "metadata": {
    "pycharm": {
     "name": "#%% md\n"
    }
   },
   "source": [
    "### 2.3-9"
   ]
  },
  {
   "cell_type": "code",
   "execution_count": 5,
   "id": "a4e883c2",
   "metadata": {
    "pycharm": {
     "name": "#%%\n"
    }
   },
   "outputs": [
    {
     "name": "stderr",
     "output_type": "stream",
     "text": [
      "/var/folders/v2/5qft7fyx4md0d3vhbjvb64wr0000gn/T/ipykernel_43289/3596905603.py:100: UserWarning: You passed a edgecolor/edgecolors ('k') for an unfilled marker ('x').  Matplotlib is ignoring the edgecolor in favor of the facecolor.  This behavior may change in the future.\n",
      "  ax.scatter(x=X0[y==cl], y=X1[y==cl], c=y[y==cl], alpha=1, vmin = vmin, vmax = vmax, cmap=cm, edgecolors='k', marker = m)\n"
     ]
    },
    {
     "data": {
      "image/png": "[encoded data removed]",
      "text/plain": [
       "<Figure size 432x216 with 1 Axes>"
      ]
     },
     "metadata": {},
     "output_type": "display_data"
    }
   ],
   "source": [
    "import numpy as np\n",
    "import matplotlib.pyplot as plt\n",
    "from sklearn.linear_model import Perceptron\n",
    "from matplotlib.colors import ListedColormap\n",
    "\n",
    "# 初始化 w 和 b，np.array 相当于定义向量\n",
    "w, b = np.array([0, 0]), 0 \n",
    "\n",
    "# 定义 d(x) 函数\n",
    "def d(x):\n",
    "    return np.dot(w,x)+b # np.dot 是向量的点积\n",
    "\n",
    "# 历史信用卡发行数据\n",
    "# 这里的数据集不能随便修改，否则下面的暴力实现可能停不下来\n",
    "X = np.array([[5,2], [3,2], [2,7], [1,4], [6,1], [4,5]])\n",
    "y = np.array([-1, -1, 1, 1, -1, 1])\n",
    "\n",
    "# 感知机的暴力实现\n",
    "is_modified = True # 记录是否有分错的点\n",
    "while is_modified: # 循环，直到没有分错的点\n",
    "    is_modified = False\n",
    "\n",
    "    # 顺序遍及数据集 X\n",
    "    for xi, yi in zip(X, y):\n",
    "        # 如果有分错的\n",
    "        if yi*d(xi) <= 0:\n",
    "            # 更新法向量 w 和 b\n",
    "            w, b = w + yi*xi, b + yi\n",
    "            is_modified = True\n",
    "            break\n",
    "\n",
    "# 下面是绘制的代码，主要展示暴力实现的结果，看不懂也没有关系\n",
    "def make_meshgrid(x, y, h=.02):\n",
    "    \"\"\"Create a mesh of points to plot in\n",
    "\n",
    "    Parameters\n",
    "    ----------\n",
    "    x: data to base x-axis meshgrid on\n",
    "    y: data to base y-axis meshgrid on\n",
    "    h: stepsize for meshgrid, optional\n",
    "\n",
    "    Returns\n",
    "    -------\n",
    "    xx, yy : ndarray\n",
    "    \"\"\"\n",
    "    x_min, x_max = x.min() - 1, x.max() + 1\n",
    "    y_min, y_max = y.min() - 1, y.max() + 1\n",
    "    xx, yy = np.meshgrid(np.arange(x_min, x_max, h),\n",
    "                         np.arange(y_min, y_max, h))\n",
    "    return xx, yy\n",
    "\n",
    "def plot_contours(ax, clf, xx, yy, **params):\n",
    "    \"\"\"Plot the decision boundaries for a classifier.\n",
    "\n",
    "    Parameters\n",
    "    ----------\n",
    "    ax: matplotlib axes object\n",
    "    clf: a classifier\n",
    "    xx: meshgrid ndarray\n",
    "    yy: meshgrid ndarray\n",
    "    params: dictionary of params to pass to contourf, optional\n",
    "    \"\"\"\n",
    "    Z = clf.predict(np.c_[xx.ravel(), yy.ravel()])\n",
    "    Z = Z.reshape(xx.shape)\n",
    "    out = ax.contourf(xx, yy, Z, **params)\n",
    "    return out\n",
    "\n",
    "# 训练 skrlearn 中的感知机，这里是为了借用该感知机的接口，便于绘制决策区域\n",
    "clf = Perceptron().fit(X, y)\n",
    "# 根据上面暴力实现得到的 w 和 b 来修改感知机\n",
    "clf.coef_[0][0], clf.coef_[0][1], clf.intercept_[0] = w[0], w[1], b\n",
    "\n",
    "# 设置字体大小\n",
    "plt.rcParams.update({'font.size': 14})\n",
    "# 设置画布和坐标系\n",
    "fig, ax = plt.subplots(figsize = (6, 3), nrows=1, ncols=1)\n",
    "fig.subplots_adjust(left=0.25, right=0.75, top=0.999, bottom=0.001)\n",
    "ax.set_xticks(()),ax.set_yticks(())\n",
    "\n",
    "cm = ListedColormap(('blue', 'red'))\n",
    "markers = ('x', 'o')\n",
    "\n",
    "# 决定绘制区域的大小\n",
    "X0, X1 = X[:, 0], X[:, 1]\n",
    "xx, yy = make_meshgrid(X0, X1)\n",
    "ax.set_xlim(xx.min(), xx.max())\n",
    "ax.set_ylim(yy.min(), yy.max())\n",
    "\n",
    "# 绘制决策区域\n",
    "plot_contours(ax, clf, xx, yy, cmap=cm, alpha=0.4)\n",
    "\n",
    "# 绘制决策直线\n",
    "lx = np.linspace(xx.min(), xx.max())\n",
    "ly = - w[0] / w[1] * lx  - b / w[1]\n",
    "ax.plot(lx, ly, 'k-')\n",
    "\n",
    "# 根据类别不同，绘制不同形状的点\n",
    "vmin, vmax = min(y), max(y)\n",
    "for cl, m in zip(np.unique(y), markers):\n",
    "  ax.scatter(x=X0[y==cl], y=X1[y==cl], c=y[y==cl], alpha=1, vmin = vmin, vmax = vmax, cmap=cm, edgecolors='k', marker = m)\n",
    "\n",
    "plt.show()"
   ]
  },
  {
   "cell_type": "code",
   "execution_count": 6,
   "id": "a3fb68b6",
   "metadata": {
    "pycharm": {
     "name": "#%%\n"
    }
   },
   "outputs": [
    {
     "data": {
      "text/plain": [
       "(array([-7,  6]), -1)"
      ]
     },
     "execution_count": 6,
     "metadata": {},
     "output_type": "execute_result"
    }
   ],
   "source": [
    "w, b = np.array([0, 0]), 0 \n",
    "X = np.array([[5,2], [3,2], [2,7], [1,4], [6,1], [4,5]])\n",
    "y = np.array([-1, -1, 1, 1, -1, 1])\n",
    "is_modified = True # 记录是否有分错的点\n",
    "while is_modified: # 循环，直到没有分错的点\n",
    "    is_modified = False\n",
    "\n",
    "    # 顺序遍及数据集 X\n",
    "    for xi, yi in zip(X, y):\n",
    "        # 如果有分错的\n",
    "        if yi*d(xi) <= 0:\n",
    "            # 更新法向量 w 和 b\n",
    "            w, b = w + yi*xi, b + yi\n",
    "            is_modified = True\n",
    "            break\n",
    "w,b"
   ]
  },
  {
   "cell_type": "markdown",
   "id": "92774ab9",
   "metadata": {
    "pycharm": {
     "name": "#%% md\n"
    }
   },
   "source": [
    "### 2.4-3"
   ]
  },
  {
   "cell_type": "code",
   "execution_count": 7,
   "id": "e13d4f9c",
   "metadata": {
    "pycharm": {
     "name": "#%%\n"
    },
    "scrolled": true
   },
   "outputs": [
    {
     "name": "stderr",
     "output_type": "stream",
     "text": [
      "/var/folders/v2/5qft7fyx4md0d3vhbjvb64wr0000gn/T/ipykernel_43289/1337022183.py:103: UserWarning: You passed a edgecolor/edgecolors ('k') for an unfilled marker ('x').  Matplotlib is ignoring the edgecolor in favor of the facecolor.  This behavior may change in the future.\n",
      "  ax.scatter(x=X0[y==cl], y=X1[y==cl], c=y[y==cl], alpha=1, vmin = vmin, vmax = vmax, cmap=cm, edgecolors='k', marker = m)\n",
      "/Users/jiahuasong/opt/anaconda3/lib/python3.9/site-packages/IPython/core/pylabtools.py:151: UserWarning: Glyph 24635 (\\N{CJK UNIFIED IDEOGRAPH-603B}) missing from current font.\n",
      "  fig.canvas.print_figure(bytes_io, **kw)\n",
      "/Users/jiahuasong/opt/anaconda3/lib/python3.9/site-packages/IPython/core/pylabtools.py:151: UserWarning: Glyph 20849 (\\N{CJK UNIFIED IDEOGRAPH-5171}) missing from current font.\n",
      "  fig.canvas.print_figure(bytes_io, **kw)\n",
      "/Users/jiahuasong/opt/anaconda3/lib/python3.9/site-packages/IPython/core/pylabtools.py:151: UserWarning: Glyph 32463 (\\N{CJK UNIFIED IDEOGRAPH-7ECF}) missing from current font.\n",
      "  fig.canvas.print_figure(bytes_io, **kw)\n",
      "/Users/jiahuasong/opt/anaconda3/lib/python3.9/site-packages/IPython/core/pylabtools.py:151: UserWarning: Glyph 36807 (\\N{CJK UNIFIED IDEOGRAPH-8FC7}) missing from current font.\n",
      "  fig.canvas.print_figure(bytes_io, **kw)\n",
      "/Users/jiahuasong/opt/anaconda3/lib/python3.9/site-packages/IPython/core/pylabtools.py:151: UserWarning: Glyph 20102 (\\N{CJK UNIFIED IDEOGRAPH-4E86}) missing from current font.\n",
      "  fig.canvas.print_figure(bytes_io, **kw)\n",
      "/Users/jiahuasong/opt/anaconda3/lib/python3.9/site-packages/IPython/core/pylabtools.py:151: UserWarning: Glyph 27425 (\\N{CJK UNIFIED IDEOGRAPH-6B21}) missing from current font.\n",
      "  fig.canvas.print_figure(bytes_io, **kw)\n",
      "/Users/jiahuasong/opt/anaconda3/lib/python3.9/site-packages/IPython/core/pylabtools.py:151: UserWarning: Glyph 36845 (\\N{CJK UNIFIED IDEOGRAPH-8FED}) missing from current font.\n",
      "  fig.canvas.print_figure(bytes_io, **kw)\n",
      "/Users/jiahuasong/opt/anaconda3/lib/python3.9/site-packages/IPython/core/pylabtools.py:151: UserWarning: Glyph 20195 (\\N{CJK UNIFIED IDEOGRAPH-4EE3}) missing from current font.\n",
      "  fig.canvas.print_figure(bytes_io, **kw)\n"
     ]
    },
    {
     "data": {
      "image/png": "[encoded data removed]",
      "text/plain": [
       "<Figure size 432x216 with 1 Axes>"
      ]
     },
     "metadata": {},
     "output_type": "display_data"
    }
   ],
   "source": [
    "import numpy as np\n",
    "import matplotlib.pyplot as plt\n",
    "from sklearn.linear_model import Perceptron\n",
    "from matplotlib.colors import ListedColormap\n",
    "\n",
    "# 初始化 w 和 b，np.array 相当于定义向量\n",
    "w, b = np.array([0, 0]), 0 \n",
    "\n",
    "# 定义 d(x) 函数\n",
    "def d(x):\n",
    "    return np.dot(w,x)+b # np.dot 是向量的点积\n",
    "\n",
    "# 历史信用卡发行数据\n",
    "# 这里的数据集不能随便修改，否则下面的暴力实现可能停不下来\n",
    "X = np.array([[3,3], [3.0001,3.0001]])\n",
    "y = np.array([-1, 1])\n",
    "\n",
    "# 感知机的暴力实现\n",
    "times = 0\n",
    "is_modified = True # 记录是否有分错的点\n",
    "while is_modified: # 循环，直到没有分错的点\n",
    "    is_modified = False\n",
    "\n",
    "    # 顺序遍及数据集 X\n",
    "    for xi, yi in zip(X, y):\n",
    "        # 如果有分错的\n",
    "        if yi*d(xi) <= 0:\n",
    "            # 更新法向量 w 和 b\n",
    "            times += 1\n",
    "            w, b = w + yi*xi, b + yi\n",
    "            is_modified = True\n",
    "            break\n",
    "\n",
    "# 下面是绘制的代码，主要展示暴力实现的结果，看不懂也没有关系\n",
    "def make_meshgrid(x, y, h=.02):\n",
    "    \"\"\"Create a mesh of points to plot in\n",
    "\n",
    "    Parameters\n",
    "    ----------\n",
    "    x: data to base x-axis meshgrid on\n",
    "    y: data to base y-axis meshgrid on\n",
    "    h: stepsize for meshgrid, optional\n",
    "\n",
    "    Returns\n",
    "    -------\n",
    "    xx, yy : ndarray\n",
    "    \"\"\"\n",
    "    x_min, x_max = x.min() - 1, x.max() + 1\n",
    "    y_min, y_max = y.min() - 1, y.max() + 1\n",
    "    xx, yy = np.meshgrid(np.arange(x_min, x_max, h),\n",
    "                         np.arange(y_min, y_max, h))\n",
    "    return xx, yy\n",
    "\n",
    "def plot_contours(ax, clf, xx, yy, **params):\n",
    "    \"\"\"Plot the decision boundaries for a classifier.\n",
    "\n",
    "    Parameters\n",
    "    ----------\n",
    "    ax: matplotlib axes object\n",
    "    clf: a classifier\n",
    "    xx: meshgrid ndarray\n",
    "    yy: meshgrid ndarray\n",
    "    params: dictionary of params to pass to contourf, optional\n",
    "    \"\"\"\n",
    "    Z = clf.predict(np.c_[xx.ravel(), yy.ravel()])\n",
    "    Z = Z.reshape(xx.shape)\n",
    "    out = ax.contourf(xx, yy, Z, **params)\n",
    "    return out\n",
    "\n",
    "# 训练 skrlearn 中的感知机，这里是为了借用该感知机的接口，便于绘制决策区域\n",
    "clf = Perceptron(max_iter=40, tol=10).fit(X, y)\n",
    "# 根据上面暴力实现得到的 w 和 b 来修改感知机\n",
    "clf.coef_[0][0], clf.coef_[0][1], clf.intercept_[0] = w[0], w[1], b\n",
    "\n",
    "# 设置字体大小\n",
    "plt.rcParams.update({'font.size': 14})\n",
    "# 设置画布和坐标系\n",
    "fig, ax = plt.subplots(figsize = (6, 3), nrows=1, ncols=1)\n",
    "fig.subplots_adjust(left=0.25, right=0.75, top=0.999, bottom=0.08)\n",
    "ax.set_xticks(()),ax.set_yticks(())\n",
    "\n",
    "cm = ListedColormap(('blue', 'red'))\n",
    "markers = ('x', 'o')\n",
    "\n",
    "# 决定绘制区域的大小\n",
    "X0, X1 = X[:, 0], X[:, 1]\n",
    "xx, yy = make_meshgrid(X0, X1)\n",
    "ax.set_xlim(xx.min(), xx.max())\n",
    "ax.set_ylim(yy.min(), yy.max())\n",
    "ax.set_xlabel('总共经过了 {} 次迭代'.format(times))\n",
    "\n",
    "# 绘制决策区域\n",
    "plot_contours(ax, clf, xx, yy, cmap=cm, alpha=0.4)\n",
    "\n",
    "# 绘制决策直线\n",
    "lx = np.linspace(xx.min(), xx.max())\n",
    "ly = - w[0] / w[1] * lx  - b / w[1]\n",
    "ax.plot(lx, ly, 'k-')\n",
    "\n",
    "# 根据类别不同，绘制不同形状的点\n",
    "vmin, vmax = min(y), max(y)\n",
    "for cl, m in zip(np.unique(y), markers):\n",
    "  ax.scatter(x=X0[y==cl], y=X1[y==cl], c=y[y==cl], alpha=1, vmin = vmin, vmax = vmax, cmap=cm, edgecolors='k', marker = m)\n",
    "\n",
    "plt.show()"
   ]
  },
  {
   "cell_type": "markdown",
   "id": "21314cd0",
   "metadata": {
    "pycharm": {
     "name": "#%% md\n"
    }
   },
   "source": [
    "### 2.4-4"
   ]
  },
  {
   "cell_type": "code",
   "execution_count": 3,
   "id": "c998631c",
   "metadata": {
    "pycharm": {
     "name": "#%%\n"
    }
   },
   "outputs": [
    {
     "name": "stdout",
     "output_type": "stream",
     "text": [
      "数据集不是线性可分的\n"
     ]
    },
    {
     "name": "stderr",
     "output_type": "stream",
     "text": [
      "/var/folders/v2/5qft7fyx4md0d3vhbjvb64wr0000gn/T/ipykernel_1248/2428998669.py:112: UserWarning: You passed a edgecolor/edgecolors ('k') for an unfilled marker ('x').  Matplotlib is ignoring the edgecolor in favor of the facecolor.  This behavior may change in the future.\n",
      "  ax.scatter(x=X0[y==cl], y=X1[y==cl], c=y[y==cl], alpha=1, vmin = vmin, vmax = vmax, cmap=cm, edgecolors='k', marker = m)\n"
     ]
    },
    {
     "data": {
      "image/png": "[encoded data removed]",
      "text/plain": [
       "<Figure size 432x216 with 1 Axes>"
      ]
     },
     "metadata": {},
     "output_type": "display_data"
    }
   ],
   "source": [
    "import numpy as np\n",
    "import matplotlib.pyplot as plt\n",
    "from sklearn.linear_model import Perceptron\n",
    "from matplotlib.colors import ListedColormap\n",
    "\n",
    "# 初始化 w 和 b\n",
    "w, b = np.array([0, 0]), 0 # np.array 相当于定义向量\n",
    "\n",
    "# 定义 d(x) 函数\n",
    "def d(x):\n",
    "    return np.dot(w,x)+b # np.dot 是向量的点积\n",
    "    \n",
    "# 历史信用卡发行数据，该数据不是线性可分的\n",
    "X = np.array([[5,2], [3,2], [2,7], [1,4], [6,1], [4,5], [2,5]])\n",
    "y = np.array([-1, -1, 1, 1, -1, 1, -1])\n",
    "\n",
    "# 下面数据集是线性可分的，可以去掉注释看效果\n",
    "# X = np.array([[5,2], [3,2], [2,7], [1,4], [6,1], [4,5]])\n",
    "# y = np.array([-1, -1, 1, 1, -1, 1])\n",
    "\n",
    "# 感知机的暴力实现\n",
    "# 如果100次循环都没有找到合适的 w 和 b，说明数据不是线性可分的\n",
    "# 具体多少次可以根据实际情况设置\n",
    "is_modified = False\n",
    "for _ in range(100):\n",
    "    is_modified = False\n",
    "\n",
    "    # 顺序遍及数据集 X\n",
    "    for xi, yi in zip(X, y):\n",
    "        # 如果有分错的\n",
    "        if yi*d(xi) <= 0:\n",
    "            # 更新 w 和 b\n",
    "            w, b = w + yi*xi, b + yi\n",
    "            is_modified = True\n",
    "            break\n",
    "\n",
    "    # 如果没有更新 w 和 b，说明已经分好了，就跳出 for 循环\n",
    "    if is_modified == False:\n",
    "        break\n",
    "\n",
    "if is_modified == True:\n",
    "    print('数据集不是线性可分的')\n",
    "\n",
    "# 下面是绘制的代码，主要展示暴力实现的结果，看不懂也没有关系\n",
    "def make_meshgrid(x, y, h=.02):\n",
    "    \"\"\"Create a mesh of points to plot in\n",
    "\n",
    "    Parameters\n",
    "    ----------\n",
    "    x: data to base x-axis meshgrid on\n",
    "    y: data to base y-axis meshgrid on\n",
    "    h: stepsize for meshgrid, optional\n",
    "\n",
    "    Returns\n",
    "    -------\n",
    "    xx, yy : ndarray\n",
    "    \"\"\"\n",
    "    x_min, x_max = x.min() - 1, x.max() + 1\n",
    "    y_min, y_max = y.min() - 1, y.max() + 1\n",
    "    xx, yy = np.meshgrid(np.arange(x_min, x_max, h),\n",
    "                         np.arange(y_min, y_max, h))\n",
    "    return xx, yy\n",
    "\n",
    "def plot_contours(ax, clf, xx, yy, **params):\n",
    "    \"\"\"Plot the decision boundaries for a classifier.\n",
    "\n",
    "    Parameters\n",
    "    ----------\n",
    "    ax: matplotlib axes object\n",
    "    clf: a classifier\n",
    "    xx: meshgrid ndarray\n",
    "    yy: meshgrid ndarray\n",
    "    params: dictionary of params to pass to contourf, optional\n",
    "    \"\"\"\n",
    "    Z = clf.predict(np.c_[xx.ravel(), yy.ravel()])\n",
    "    Z = Z.reshape(xx.shape)\n",
    "    out = ax.contourf(xx, yy, Z, **params)\n",
    "    return out\n",
    "\n",
    "# 训练 skrlearn 中的感知机，这里是为了借用该感知机的接口，便于绘制决策区域\n",
    "clf = Perceptron().fit(X, y)\n",
    "# 根据上面暴力实现得到的 w 和 b 来修改感知机\n",
    "clf.coef_[0][0], clf.coef_[0][1], clf.intercept_[0] = w[0], w[1], b\n",
    "\n",
    "# 设置字体大小\n",
    "plt.rcParams.update({'font.size': 14})\n",
    "# 设置画布和坐标系\n",
    "fig, ax = plt.subplots(figsize = (6, 3), nrows=1, ncols=1)\n",
    "fig.subplots_adjust(left=0.25, right=0.75, top=0.999, bottom=0.001)\n",
    "ax.set_xticks(()),ax.set_yticks(())\n",
    "\n",
    "cm = ListedColormap(('blue', 'red'))\n",
    "markers = ('x', 'o')\n",
    "\n",
    "# 决定绘制区域的大小\n",
    "X0, X1 = X[:, 0], X[:, 1]\n",
    "xx, yy = make_meshgrid(X0, X1)\n",
    "ax.set_xlim(xx.min(), xx.max())\n",
    "ax.set_ylim(yy.min(), yy.max())\n",
    "\n",
    "# 绘制决策区域\n",
    "plot_contours(ax, clf, xx, yy, cmap=cm, alpha=0.4)\n",
    "\n",
    "# 绘制决策直线\n",
    "lx = np.linspace(xx.min(), xx.max())\n",
    "ly = - w[0] / w[1] * lx  - b / w[1]\n",
    "ax.plot(lx, ly, 'k-')\n",
    "\n",
    "# 根据类别不同，绘制不同形状的点\n",
    "vmin, vmax = min(y), max(y)\n",
    "for cl, m in zip(np.unique(y), markers):\n",
    "  ax.scatter(x=X0[y==cl], y=X1[y==cl], c=y[y==cl], alpha=1, vmin = vmin, vmax = vmax, cmap=cm, edgecolors='k', marker = m)\n",
    "\n",
    "plt.show()"
   ]
  },
  {
   "cell_type": "code",
   "execution_count": 66,
   "id": "554f7d49",
   "metadata": {
    "pycharm": {
     "name": "#%%\n"
    }
   },
   "outputs": [
    {
     "data": {
      "text/plain": [
       "506674"
      ]
     },
     "execution_count": 66,
     "metadata": {},
     "output_type": "execute_result"
    }
   ],
   "source": [
    "w, b = np.array([0, 0]), 0 \n",
    "\n",
    "def d(x):\n",
    "    return np.dot(w,x)+b \n",
    "\n",
    "X = np.array([[3,3], [3.0001,3.0001]])\n",
    "y = np.array([-1, 1])\n",
    "\n",
    "\n",
    "times = 0\n",
    "is_modified = True \n",
    "while is_modified: \n",
    "    is_modified = False\n",
    "\n",
    "\n",
    "    for xi, yi in zip(X, y):\n",
    "        if yi*d(xi) <= 0:\n",
    "            times += 1\n",
    "            w, b = w + yi*xi, b + yi\n",
    "            is_modified = True\n",
    "            break\n",
    "times"
   ]
  },
  {
   "cell_type": "markdown",
   "id": "615010d3",
   "metadata": {
    "pycharm": {
     "name": "#%% md\n"
    }
   },
   "source": [
    "### 2.4-7"
   ]
  },
  {
   "cell_type": "code",
   "execution_count": 68,
   "id": "3b200ff1",
   "metadata": {
    "pycharm": {
     "name": "#%%\n"
    }
   },
   "outputs": [
    {
     "name": "stdout",
     "output_type": "stream",
     "text": [
      "两个多边形相交为 False \n",
      "两个多边形相交为 True \n"
     ]
    }
   ],
   "source": [
    "# 载入必要的库\n",
    "from shapely.geometry import Polygon\n",
    "from scipy.spatial import ConvexHull\n",
    "import numpy as np\n",
    "\n",
    "# 线性可分数据集\n",
    "X1 = np.array([[1. , 0.2], [1.1, 0.1], [1.2, 0.2], [1.3, 0.2], [1.3, 0.3], [1.3, 0.4], \n",
    "    [1.4, 0.1], [1.4, 0.2], [1.4, 0.3], [1.5, 0.1], [1.5, 0.2], [1.5, 0.3], [1.5, 0.4], \n",
    "    [1.6, 0.2], [1.6, 0.4], [1.6, 0.6], [1.7, 0.2], [1.7, 0.3], [1.7, 0.4], [1.7, 0.5], \n",
    "    [1.9, 0.2], [1.9, 0.4], [3.3, 1. ], [3. , 1.1], [3.7, 1. ], [3.6, 1.3], [3.5, 1. ], \n",
    "    [3.8, 1.1], [3.9, 1.1], [3.9, 1.2], [3.9, 1.4], [4. , 1. ], [4. , 1.2], [4. , 1.3],\n",
    "    [4.1, 1. ], [4.1, 1.3], [4.2, 1.2], [4.2, 1.3], [4.2, 1.5], [4.3, 1.3], [4.3, 1.3], \n",
    "    [4.4, 1.3], [4.4, 1.2], [4.4, 1.4], [4.5, 1.3], [4.5, 1.5], [4.5, 1.6], [4.6, 1.3], \n",
    "    [4.6, 1.4], [4.6, 1.5], [4.7, 1.2], [4.7, 1.4], [4.7, 1.5], [4.7, 1.6], [4.8, 1.8], \n",
    "    [4.9, 1.5], [4.8, 1.4], [5. , 1.7], [5.1, 1.6], \n",
    "    ])\n",
    "y1 = np.array([-1, -1, -1, -1, -1, -1, -1, -1, -1, -1, -1, -1, -1, -1, -1, -1, -1, -1, -1, -1, -1, -1, \n",
    "    1, 1, 1, 1, 1, 1, 1, 1, 1, 1, 1, 1, 1, 1, 1, 1, 1, 1, 1, 1, 1, 1, 1, 1, 1, 1, 1, 1, 1, 1, 1, 1, 1,\n",
    "    1, 1, 1, 1, ])\n",
    "\n",
    "# 计算X1数据集中两种数据的凸包\n",
    "hull10 = ConvexHull(X1[y1==-1])\n",
    "hull11 = ConvexHull(X1[y1==1])\n",
    "# 取出凸包的边界点，构造两个多边形（即轮廓线）\n",
    "p10 = Polygon(hull10.points[hull10.vertices])\n",
    "p11 = Polygon(hull11.points[hull11.vertices])\n",
    "# 这两个多边形不相交，即线性可分\n",
    "print('两个多边形相交为 {} '.format(p10.intersects(p11)))\n",
    "\n",
    "\n",
    "# 非线性可分数据集\n",
    "X2 = np.array([[3. , 1.1], [3.3, 1. ], [3.5, 1. ], [3.6, 1.3], [3.7, 1. ], [3.8, 1.1], \n",
    "    [3.9, 1.1], [3.9, 1.2], [3.9, 1.4], [4. , 1. ], [4. , 1.2], [4. , 1.3], [4.1, 1. ], \n",
    "    [4.1, 1.3], [4.2, 1.2], [4.2, 1.3], [4.2, 1.5], [4.3, 1.3], [4.4, 1.2], [4.4, 1.3], [4.4, 1.4], \n",
    "    [4.5, 1.3], [4.5, 1.5], [4.5, 1.6], [4.5, 1.7], [4.6, 1.3], [4.6, 1.4], [4.6, 1.5], [4.7, 1.2], \n",
    "    [4.7, 1.4], [4.7, 1.5], [4.7, 1.6], [4.8, 1.4], [4.8, 1.8], [4.9, 1.5], [4.9, 1.8], [4.9, 2. ], \n",
    "    [5. , 1.5], [5. , 1.7], [5. , 1.9], [5. , 2. ], [5.1, 1.5], [5.1, 1.6], [5.1, 1.8], [5.1, 1.9], \n",
    "    [5.1, 2. ], [5.1, 2.3], [5.1, 2.4], [5.2, 2. ], [5.2, 2.3], [5.3, 1.9], [5.3, 2.3], [5.4, 2.1], \n",
    "    [5.4, 2.3], [5.5, 1.8], [5.5, 2.1], [5.6, 1.4], [5.6, 1.8], [5.6, 2.1], [5.6, 2.2], [5.6, 2.4], \n",
    "    [5.7, 2.1], [5.7, 2.3], [5.7, 2.5], [5.8, 1.6], [5.8, 1.8], [5.8, 2.2], [5.9, 2.1], [5.9, 2.3], \n",
    "    [6. , 1.8], [6. , 2.5], [6.1, 1.9], [6.1, 2.3], [6.1, 2.5], [6.3, 1.8], [6.4, 2. ], [6.6, 2.1], \n",
    "    [6.7, 2. ], [6.7, 2.2], [6.9, 2.3], ])\n",
    "y2 = np.array([-1, -1, -1, -1, -1, -1, -1, -1, -1, -1, -1, -1, -1, -1, -1, -1, -1, -1, -1, -1, -1, -1, \n",
    "    -1, -1, -1, -1, -1, -1, -1, -1, -1, -1, 1, 1, 1, -1, -1, -1, -1, 1, -1, -1, -1, 1, 1, 1, 1, 1, 1, \n",
    "    1, 1,  1, 1, 1, 1, 1, 1, 1, 1, 1, 1, 1, 1, 1, 1, 1, 1, 1, 1, 1, 1, 1, 1, 1, 1, 1, 1, 1, 1, 1, ])\n",
    "\n",
    "# 分别计算X2数据集中两种数据的凸包\n",
    "hull20 = ConvexHull(X2[y2==-1])\n",
    "hull21 = ConvexHull(X2[y2==1])\n",
    "# 取出凸包的边界点，构造两个多边形（即轮廓线）\n",
    "p20 = Polygon(hull20.points[hull20.vertices])\n",
    "p21 = Polygon(hull21.points[hull21.vertices])\n",
    "# 这两个多边形相交，即线性不可分\n",
    "print('两个多边形相交为 {} '.format(p20.intersects(p21)))"
   ]
  },
  {
   "cell_type": "code",
   "execution_count": 76,
   "id": "9a04690c",
   "metadata": {
    "pycharm": {
     "name": "#%%\n"
    }
   },
   "outputs": [
    {
     "data": {
      "image/svg+xml": [
       "<svg xmlns=\"http://www.w3.org/2000/svg\" xmlns:xlink=\"http://www.w3.org/1999/xlink\" width=\"100.0\" height=\"100.0\" viewBox=\"2.916 0.916 2.2679999999999993 0.9680000000000001\" preserveAspectRatio=\"xMinYMin meet\"><g transform=\"matrix(1,0,0,-1,0,2.8000000000000003)\"><path fill-rule=\"evenodd\" fill=\"#66cc99\" stroke=\"#555555\" stroke-width=\"0.045359999999999984\" opacity=\"0.6\" d=\"M 4.8,1.8 L 3.0,1.1 L 3.3,1.0 L 4.1,1.0 L 4.7,1.2 L 5.1,1.6 L 5.0,1.7 L 4.8,1.8 z\" /></g></svg>"
      ],
      "text/plain": [
       "<shapely.geometry.polygon.Polygon at 0x7fd4fba75ee0>"
      ]
     },
     "execution_count": 76,
     "metadata": {},
     "output_type": "execute_result"
    }
   ],
   "source": [
    "X1 = np.array([[1. , 0.2], [1.1, 0.1], [1.2, 0.2], [1.3, 0.2], [1.3, 0.3], [1.3, 0.4], \n",
    "    [1.4, 0.1], [1.4, 0.2], [1.4, 0.3], [1.5, 0.1], [1.5, 0.2], [1.5, 0.3], [1.5, 0.4], \n",
    "    [1.6, 0.2], [1.6, 0.4], [1.6, 0.6], [1.7, 0.2], [1.7, 0.3], [1.7, 0.4], [1.7, 0.5], \n",
    "    [1.9, 0.2], [1.9, 0.4], [3.3, 1. ], [3. , 1.1], [3.7, 1. ], [3.6, 1.3], [3.5, 1. ], \n",
    "    [3.8, 1.1], [3.9, 1.1], [3.9, 1.2], [3.9, 1.4], [4. , 1. ], [4. , 1.2], [4. , 1.3],\n",
    "    [4.1, 1. ], [4.1, 1.3], [4.2, 1.2], [4.2, 1.3], [4.2, 1.5], [4.3, 1.3], [4.3, 1.3], \n",
    "    [4.4, 1.3], [4.4, 1.2], [4.4, 1.4], [4.5, 1.3], [4.5, 1.5], [4.5, 1.6], [4.6, 1.3], \n",
    "    [4.6, 1.4], [4.6, 1.5], [4.7, 1.2], [4.7, 1.4], [4.7, 1.5], [4.7, 1.6], [4.8, 1.8], \n",
    "    [4.9, 1.5], [4.8, 1.4], [5. , 1.7], [5.1, 1.6], \n",
    "    ])\n",
    "y1 = np.array([-1, -1, -1, -1, -1, -1, -1, -1, -1, -1, -1, -1, -1, -1, -1, -1, -1, -1, -1, -1, -1, -1, \n",
    "    1, 1, 1, 1, 1, 1, 1, 1, 1, 1, 1, 1, 1, 1, 1, 1, 1, 1, 1, 1, 1, 1, 1, 1, 1, 1, 1, 1, 1, 1, 1, 1, 1,\n",
    "    1, 1, 1, 1, ])\n",
    "\n",
    "# 计算X1数据集中两种数据的凸包\n",
    "hull10 = ConvexHull(X1[y1==-1])\n",
    "hull11 = ConvexHull(X1[y1==1])\n",
    "# 取出凸包的边界点，构造两个多边形（即轮廓线）\n",
    "p10 = Polygon(hull10.points[hull10.vertices])\n",
    "p11 = Polygon(hull11.points[hull11.vertices])\n"
   ]
  },
  {
   "cell_type": "code",
   "execution_count": 2,
   "id": "58c167ff",
   "metadata": {
    "pycharm": {
     "name": "#%%\n"
    },
    "scrolled": true
   },
   "outputs": [
    {
     "name": "stderr",
     "output_type": "stream",
     "text": [
      "/var/folders/v2/5qft7fyx4md0d3vhbjvb64wr0000gn/T/ipykernel_3135/1107059685.py:60: UserWarning: You passed a edgecolor/edgecolors ('k') for an unfilled marker ('x').  Matplotlib is ignoring the edgecolor in favor of the facecolor.  This behavior may change in the future.\n",
      "  ax.scatter(x=X10[:, 0], y=X10[:, 1], alpha=0.8, color='blue', marker= 'x', edgecolor='k') # 绘制 x 点\n",
      "/var/folders/v2/5qft7fyx4md0d3vhbjvb64wr0000gn/T/ipykernel_3135/1107059685.py:73: UserWarning: You passed a edgecolor/edgecolors ('k') for an unfilled marker ('x').  Matplotlib is ignoring the edgecolor in favor of the facecolor.  This behavior may change in the future.\n",
      "  ax.scatter(x=X20[:, 0], y=X20[:, 1], alpha=0.8, color='blue', marker= 'x', edgecolor='k') # 绘制 x 点\n",
      "/Users/jiahuasong/opt/anaconda3/lib/python3.9/site-packages/IPython/core/pylabtools.py:151: UserWarning: Glyph 20004 (\\N{CJK UNIFIED IDEOGRAPH-4E24}) missing from current font.\n",
      "  fig.canvas.print_figure(bytes_io, **kw)\n",
      "/Users/jiahuasong/opt/anaconda3/lib/python3.9/site-packages/IPython/core/pylabtools.py:151: UserWarning: Glyph 20010 (\\N{CJK UNIFIED IDEOGRAPH-4E2A}) missing from current font.\n",
      "  fig.canvas.print_figure(bytes_io, **kw)\n",
      "/Users/jiahuasong/opt/anaconda3/lib/python3.9/site-packages/IPython/core/pylabtools.py:151: UserWarning: Glyph 22810 (\\N{CJK UNIFIED IDEOGRAPH-591A}) missing from current font.\n",
      "  fig.canvas.print_figure(bytes_io, **kw)\n",
      "/Users/jiahuasong/opt/anaconda3/lib/python3.9/site-packages/IPython/core/pylabtools.py:151: UserWarning: Glyph 36793 (\\N{CJK UNIFIED IDEOGRAPH-8FB9}) missing from current font.\n",
      "  fig.canvas.print_figure(bytes_io, **kw)\n",
      "/Users/jiahuasong/opt/anaconda3/lib/python3.9/site-packages/IPython/core/pylabtools.py:151: UserWarning: Glyph 24418 (\\N{CJK UNIFIED IDEOGRAPH-5F62}) missing from current font.\n",
      "  fig.canvas.print_figure(bytes_io, **kw)\n",
      "/Users/jiahuasong/opt/anaconda3/lib/python3.9/site-packages/IPython/core/pylabtools.py:151: UserWarning: Glyph 30456 (\\N{CJK UNIFIED IDEOGRAPH-76F8}) missing from current font.\n",
      "  fig.canvas.print_figure(bytes_io, **kw)\n",
      "/Users/jiahuasong/opt/anaconda3/lib/python3.9/site-packages/IPython/core/pylabtools.py:151: UserWarning: Glyph 20132 (\\N{CJK UNIFIED IDEOGRAPH-4EA4}) missing from current font.\n",
      "  fig.canvas.print_figure(bytes_io, **kw)\n",
      "/Users/jiahuasong/opt/anaconda3/lib/python3.9/site-packages/IPython/core/pylabtools.py:151: UserWarning: Glyph 20026 (\\N{CJK UNIFIED IDEOGRAPH-4E3A}) missing from current font.\n",
      "  fig.canvas.print_figure(bytes_io, **kw)\n"
     ]
    },
    {
     "data": {
      "image/png": "[encoded data removed]",
      "text/plain": [
       "<Figure size 432x216 with 2 Axes>"
      ]
     },
     "metadata": {},
     "output_type": "display_data"
    }
   ],
   "source": [
    "# 引入必要的库\n",
    "from matplotlib.colors import ListedColormap\n",
    "from scipy.spatial import ConvexHull\n",
    "from shapely.geometry import Polygon\n",
    "import numpy as np\n",
    "import matplotlib.pyplot as plt\n",
    "\n",
    "# 以下是计算凸包的代码\n",
    "# 线性可分数据集\n",
    "X1 = np.array([[1. , 0.2], [1.1, 0.1], [1.2, 0.2], [1.3, 0.2], [1.3, 0.3], [1.3, 0.4], \n",
    "    [1.4, 0.1], [1.4, 0.2], [1.4, 0.3], [1.5, 0.1], [1.5, 0.2], [1.5, 0.3], [1.5, 0.4], \n",
    "    [1.6, 0.2], [1.6, 0.4], [1.6, 0.6], [1.7, 0.2], [1.7, 0.3], [1.7, 0.4], [1.7, 0.5], \n",
    "    [1.9, 0.2], [1.9, 0.4], [3.3, 1. ], [3. , 1.1], [3.7, 1. ], [3.6, 1.3], [3.5, 1. ], \n",
    "    [3.8, 1.1], [3.9, 1.1], [3.9, 1.2], [3.9, 1.4], [4. , 1. ], [4. , 1.2], [4. , 1.3],\n",
    "    [4.1, 1. ], [4.1, 1.3], [4.2, 1.2], [4.2, 1.3], [4.2, 1.5], [4.3, 1.3], [4.3, 1.3], \n",
    "    [4.4, 1.3], [4.4, 1.2], [4.4, 1.4], [4.5, 1.3], [4.5, 1.5], [4.5, 1.6], [4.6, 1.3], \n",
    "    [4.6, 1.4], [4.6, 1.5], [4.7, 1.2], [4.7, 1.4], [4.7, 1.5], [4.7, 1.6], [4.8, 1.8], \n",
    "    [4.9, 1.5], [4.8, 1.4], [5. , 1.7], [5.1, 1.6], \n",
    "    ])\n",
    "y1 = np.array([-1, -1, -1, -1, -1, -1, -1, -1, -1, -1, -1, -1, -1, -1, -1, -1, -1, -1, -1, -1, -1, -1, \n",
    "    1, 1, 1, 1, 1, 1, 1, 1, 1, 1, 1, 1, 1, 1, 1, 1, 1, 1, 1, 1, 1, 1, 1, 1, 1, 1, 1, 1, 1, 1, 1, 1, 1,\n",
    "    1, 1, 1, 1, ])\n",
    "# 计算X1数据集中两种数据的凸包\n",
    "X10 = X1[y1==-1]\n",
    "X11 = X1[y1==1]\n",
    "hull10 = ConvexHull(X10)\n",
    "hull11 = ConvexHull(X11)\n",
    "\n",
    "# 非线性可分数据集\n",
    "X2 = np.array([[3. , 1.1], [3.3, 1. ], [3.5, 1. ], [3.6, 1.3], [3.7, 1. ], [3.8, 1.1], \n",
    "    [3.9, 1.1], [3.9, 1.2], [3.9, 1.4], [4. , 1. ], [4. , 1.2], [4. , 1.3], [4.1, 1. ], \n",
    "    [4.1, 1.3], [4.2, 1.2], [4.2, 1.3], [4.2, 1.5], [4.3, 1.3], [4.4, 1.2], [4.4, 1.3], [4.4, 1.4], \n",
    "    [4.5, 1.3], [4.5, 1.5], [4.5, 1.6], [4.5, 1.7], [4.6, 1.3], [4.6, 1.4], [4.6, 1.5], [4.7, 1.2], \n",
    "    [4.7, 1.4], [4.7, 1.5], [4.7, 1.6], [4.8, 1.4], [4.8, 1.8], [4.9, 1.5], [4.9, 1.8], [4.9, 2. ], \n",
    "    [5. , 1.5], [5. , 1.7], [5. , 1.9], [5. , 2. ], [5.1, 1.5], [5.1, 1.6], [5.1, 1.8], [5.1, 1.9], \n",
    "    [5.1, 2. ], [5.1, 2.3], [5.1, 2.4], [5.2, 2. ], [5.2, 2.3], [5.3, 1.9], [5.3, 2.3], [5.4, 2.1], \n",
    "    [5.4, 2.3], [5.5, 1.8], [5.5, 2.1], [5.6, 1.4], [5.6, 1.8], [5.6, 2.1], [5.6, 2.2], [5.6, 2.4], \n",
    "    [5.7, 2.1], [5.7, 2.3], [5.7, 2.5], [5.8, 1.6], [5.8, 1.8], [5.8, 2.2], [5.9, 2.1], [5.9, 2.3], \n",
    "    [6. , 1.8], [6. , 2.5], [6.1, 1.9], [6.1, 2.3], [6.1, 2.5], [6.3, 1.8], [6.4, 2. ], [6.6, 2.1], \n",
    "    [6.7, 2. ], [6.7, 2.2], [6.9, 2.3], ])\n",
    "y2 = np.array([-1, -1, -1, -1, -1, -1, -1, -1, -1, -1, -1, -1, -1, -1, -1, -1, -1, -1, -1, -1, -1, -1, \n",
    "    -1, -1, -1, -1, -1, -1, -1, -1, -1, -1, 1, 1, 1, -1, -1, -1, -1, 1, -1, -1, -1, 1, 1, 1, 1, 1, 1, \n",
    "    1, 1,  1, 1, 1, 1, 1, 1, 1, 1, 1, 1, 1, 1, 1, 1, 1, 1, 1, 1, 1, 1, 1, 1, 1, 1, 1, 1, 1, 1, 1, ])\n",
    "# 分别计算X2数据集中两种数据的凸包\n",
    "X20 = X2[y2==-1]\n",
    "X21 = X2[y2==1]\n",
    "hull20 = ConvexHull(X20)\n",
    "hull21 = ConvexHull(X21)\n",
    "\n",
    "# 以下是绘制代码\n",
    "# 设置字体大小\n",
    "plt.rcParams.update({'font.size': 14})\n",
    "# 创建并排的两个subfigure\n",
    "fig, axes = plt.subplots(figsize = (6, 3), nrows=1, ncols=2)\n",
    "plt.subplots_adjust(left=0.001, right=0.999, top=0.999, bottom=0.1, wspace=0.08)\n",
    "\n",
    "# 在第一个subfigure中绘制 X1 数据集\n",
    "ax = axes[0]\n",
    "ax.set(xticks=[], yticks=[]) # 不显示坐标的刻度\n",
    "ax.scatter(x=X10[:, 0], y=X10[:, 1], alpha=0.8, color='blue', marker= 'x', edgecolor='k') # 绘制 x 点\n",
    "ax.scatter(x=X11[:, 0], y=X11[:, 1], alpha=0.8, color='red', marker= 'o', edgecolor='k') # 绘制 o 点\n",
    "# 取出凸包的边界点，构造两个多边形\n",
    "p10 = Polygon(hull10.points[hull10.vertices])\n",
    "p11 = Polygon(hull11.points[hull11.vertices])\n",
    "ax.set_xlabel('两个多边形相交为 {} '.format(p10.intersects(p11)))\n",
    "# 绘制多边形\n",
    "ax.plot(*p10.exterior.xy, color='blue')\n",
    "ax.plot(*p11.exterior.xy, color='red')\n",
    "\n",
    "# 在第二个subfigure中绘制 X2 数据集\n",
    "ax = axes[1]\n",
    "ax.set(xticks=[], yticks=[]) # 不显示坐标的刻度\n",
    "ax.scatter(x=X20[:, 0], y=X20[:, 1], alpha=0.8, color='blue', marker= 'x', edgecolor='k') # 绘制 x 点\n",
    "ax.scatter(x=X21[:, 0], y=X21[:, 1], alpha=0.8, color='red', marker= 'o', edgecolor='k') # 绘制 o 点\n",
    "# 取出凸包的边界点，构造两个多边形\n",
    "p20 = Polygon(hull20.points[hull20.vertices])\n",
    "p21 = Polygon(hull21.points[hull21.vertices])\n",
    "ax.set_xlabel('两个多边形相交为 {} '.format(p20.intersects(p21)))\n",
    "# 绘制多边形\n",
    "ax.plot(*p20.exterior.xy, color='blue')\n",
    "ax.plot(*p21.exterior.xy, color='red')\n",
    "\n",
    "plt.show()"
   ]
  },
  {
   "cell_type": "code",
   "execution_count": 82,
   "id": "f97bd1c4",
   "metadata": {
    "pycharm": {
     "name": "#%%\n"
    }
   },
   "outputs": [
    {
     "data": {
      "text/plain": [
       "True"
      ]
     },
     "execution_count": 82,
     "metadata": {},
     "output_type": "execute_result"
    }
   ],
   "source": [
    "p20.intersects(p21)"
   ]
  },
  {
   "cell_type": "markdown",
   "id": "b660f7f9",
   "metadata": {
    "pycharm": {
     "name": "#%% md\n"
    }
   },
   "source": [
    "### 2.5-6"
   ]
  },
  {
   "cell_type": "code",
   "execution_count": 83,
   "id": "7f998496",
   "metadata": {
    "pycharm": {
     "name": "#%%\n"
    },
    "scrolled": true
   },
   "outputs": [
    {
     "name": "stderr",
     "output_type": "stream",
     "text": [
      "/var/folders/v2/5qft7fyx4md0d3vhbjvb64wr0000gn/T/ipykernel_4636/4101710587.py:125: UserWarning: You passed a edgecolor/edgecolors ('k') for an unfilled marker ('x').  Matplotlib is ignoring the edgecolor in favor of the facecolor.  This behavior may change in the future.\n",
      "  ax.scatter(x=X0[y==cl], y=X1[y==cl], c=y[y==cl], alpha=1, vmin = vmin, vmax = vmax, cmap=cm, edgecolors='k', marker = m)\n"
     ]
    },
    {
     "data": {
      "image/png": "[encoded data removed]",
      "text/plain": [
       "<Figure size 432x216 with 1 Axes>"
      ]
     },
     "metadata": {},
     "output_type": "display_data"
    }
   ],
   "source": [
    "import numpy as np\n",
    "import matplotlib.pyplot as plt\n",
    "from sklearn.linear_model import Perceptron\n",
    "from matplotlib.colors import ListedColormap\n",
    "\n",
    "# 超参数\n",
    "epochs = 10 # 固定的迭代次数\n",
    "\n",
    "# 参数\n",
    "w, b = np.array([0, 0]), 0 # np.array 相当于定义向量\n",
    "\n",
    "# 定义 d(x) 函数\n",
    "def d(x):\n",
    "    return np.dot(w,x)+b # np.dot 是向量的点积\n",
    "\n",
    "# 定义 sign 函数\n",
    "def sign(x):\n",
    "    return 1 if x >= 0 else -1\n",
    "\n",
    "# 定义 h(x) 函数\n",
    "def h(x):\n",
    "    return sign(d(x))\n",
    "\n",
    "# 计算决策边界的评分\n",
    "def clf_score(X, y):\n",
    "    score = 0\n",
    "    for xi, yi in zip(X, y):\n",
    "        score += yi*h(xi)\n",
    "    return score\n",
    "\n",
    "# 历史信用卡发行数据，该数据不是线性可分的\n",
    "X = np.array([[5,2], [3,2], [2,7], [1,4], [6,1], [4,5], [2,5], [3.6,3.8]])\n",
    "y = np.array([-1, -1, 1, 1, -1, 1, -1, -1])\n",
    "\n",
    "# 感知机的口袋算法\n",
    "# 数据比较简单，设定总的循环次数 10 次就够了\n",
    "best_w, best_b = w, b\n",
    "best_cs = clf_score(X, y)\n",
    "for _ in range(epochs):\n",
    "\n",
    "    # 顺序遍及数据集 X\n",
    "    for xi, yi in zip(X, y):\n",
    "        # 如果有分错的\n",
    "        if yi*d(xi) <= 0:\n",
    "            # 更新法向量 w 和 b\n",
    "            w, b = w + yi*xi, b + yi\n",
    "            # 对新得到的决策边界进行评分\n",
    "            cs = clf_score(X, y)\n",
    "            # 如果更好，则进行更新\n",
    "            if cs > best_cs:\n",
    "                best_cs = cs\n",
    "                best_w, best_b = w, b\n",
    "            break\n",
    "\n",
    "w, b = best_w, best_b\n",
    "\n",
    "# 下面是绘制的代码，主要展示暴力实现的结果，看不懂也没有关系\n",
    "def make_meshgrid(x, y, h=.02):\n",
    "    \"\"\"Create a mesh of points to plot in\n",
    "\n",
    "    Parameters\n",
    "    ----------\n",
    "    x: data to base x-axis meshgrid on\n",
    "    y: data to base y-axis meshgrid on\n",
    "    h: stepsize for meshgrid, optional\n",
    "\n",
    "    Returns\n",
    "    -------\n",
    "    xx, yy : ndarray\n",
    "    \"\"\"\n",
    "    x_min, x_max = x.min() - 1, x.max() + 1\n",
    "    y_min, y_max = y.min() - 1, y.max() + 1\n",
    "    xx, yy = np.meshgrid(np.arange(x_min, x_max, h),\n",
    "                         np.arange(y_min, y_max, h))\n",
    "    return xx, yy\n",
    "\n",
    "def plot_contours(ax, clf, xx, yy, **params):\n",
    "    \"\"\"Plot the decision boundaries for a classifier.\n",
    "\n",
    "    Parameters\n",
    "    ----------\n",
    "    ax: matplotlib axes object\n",
    "    clf: a classifier\n",
    "    xx: meshgrid ndarray\n",
    "    yy: meshgrid ndarray\n",
    "    params: dictionary of params to pass to contourf, optional\n",
    "    \"\"\"\n",
    "    Z = clf.predict(np.c_[xx.ravel(), yy.ravel()])\n",
    "    Z = Z.reshape(xx.shape)\n",
    "    out = ax.contourf(xx, yy, Z, **params)\n",
    "    return out\n",
    "\n",
    "# 训练 skrlearn 中的感知机，这里是为了借用该感知机的接口，便于绘制决策区域\n",
    "clf = Perceptron().fit(X, y)\n",
    "# 根据上面暴力实现得到的 w 和 b 来修改感知机\n",
    "clf.coef_[0][0], clf.coef_[0][1], clf.intercept_[0] = w[0], w[1], b\n",
    "\n",
    "# 设置字体大小\n",
    "plt.rcParams.update({'font.size': 14})\n",
    "# 设置画布和坐标系\n",
    "fig, ax = plt.subplots(figsize = (6, 3), nrows=1, ncols=1)\n",
    "fig.subplots_adjust(left=0.25, right=0.75, top=0.999, bottom=0.001)\n",
    "ax.set_xticks(()),ax.set_yticks(())\n",
    "\n",
    "cm = ListedColormap(('blue', 'red'))\n",
    "markers = ('x', 'o')\n",
    "\n",
    "# 决定绘制区域的大小\n",
    "X0, X1 = X[:, 0], X[:, 1]\n",
    "xx, yy = make_meshgrid(X0, X1)\n",
    "ax.set_xlim(xx.min(), xx.max())\n",
    "ax.set_ylim(yy.min(), yy.max())\n",
    "\n",
    "# 绘制决策区域\n",
    "plot_contours(ax, clf, xx, yy, cmap=cm, alpha=0.4)\n",
    "\n",
    "# 绘制决策直线\n",
    "lx = np.linspace(xx.min(), xx.max())\n",
    "ly = - w[0] / w[1] * lx  - b / w[1]\n",
    "ax.plot(lx, ly, 'k-')\n",
    "\n",
    "# 根据类别不同，绘制不同形状的点\n",
    "vmin, vmax = min(y), max(y)\n",
    "for cl, m in zip(np.unique(y), markers):\n",
    "  ax.scatter(x=X0[y==cl], y=X1[y==cl], c=y[y==cl], alpha=1, vmin = vmin, vmax = vmax, cmap=cm, edgecolors='k', marker = m)\n",
    "\n",
    "plt.show()"
   ]
  },
  {
   "cell_type": "code",
   "execution_count": 100,
   "id": "17150399",
   "metadata": {
    "pycharm": {
     "name": "#%%\n"
    }
   },
   "outputs": [
    {
     "data": {
      "text/plain": [
       "-6"
      ]
     },
     "execution_count": 100,
     "metadata": {},
     "output_type": "execute_result"
    }
   ],
   "source": [
    "X = np.array([[5,2], [3,2], [2,7], [1,4], [6,1], [4,5], [2,5], [3.6,3.8]])\n",
    "y = np.array([-1, -1, 1, 1, -1, 1, -1, -1])\n",
    "\n",
    "best_w, best_b = w, b\n",
    "best_cs = clf_score(X, y)\n",
    "\n",
    "for _ in range(epochs):\n",
    "\n",
    "    # 顺序遍及数据集 X\n",
    "    for xi, yi in zip(X, y):\n",
    "        # 如果有分错的\n",
    "        if yi*d(xi) <= 0:\n",
    "            # 更新法向量 w 和 b\n",
    "            w, b = w + yi*xi, b + yi\n",
    "            # 对新得到的决策边界进行评分\n",
    "            cs = clf_score(X, y)\n",
    "            # 如果更好，则进行更新\n",
    "            if cs > best_cs:\n",
    "                best_cs = cs\n",
    "                best_w, best_b = w, b\n",
    "            break\n",
    "\n",
    "\n"
   ]
  },
  {
   "cell_type": "markdown",
   "id": "33137183",
   "metadata": {
    "pycharm": {
     "name": "#%% md\n"
    }
   },
   "source": [
    "### 2.7-1"
   ]
  },
  {
   "cell_type": "code",
   "execution_count": 8,
   "id": "1aa2b0f2",
   "metadata": {
    "pycharm": {
     "name": "#%%\n"
    }
   },
   "outputs": [
    {
     "name": "stderr",
     "output_type": "stream",
     "text": [
      "/var/folders/v2/5qft7fyx4md0d3vhbjvb64wr0000gn/T/ipykernel_3318/1295652580.py:35: UserWarning: You passed a edgecolor/edgecolors ('k') for an unfilled marker ('x').  Matplotlib is ignoring the edgecolor in favor of the facecolor.  This behavior may change in the future.\n",
      "  ax.scatter(x=X[y==cl,0], y=X[y==cl,1], alpha=0.8, color=cmap(cl), marker=markers[cl], edgecolor='k')\n",
      "/Users/jiahuasong/opt/anaconda3/lib/python3.9/site-packages/IPython/core/pylabtools.py:151: UserWarning: Glyph 32447 (\\N{CJK UNIFIED IDEOGRAPH-7EBF}) missing from current font.\n",
      "  fig.canvas.print_figure(bytes_io, **kw)\n",
      "/Users/jiahuasong/opt/anaconda3/lib/python3.9/site-packages/IPython/core/pylabtools.py:151: UserWarning: Glyph 24615 (\\N{CJK UNIFIED IDEOGRAPH-6027}) missing from current font.\n",
      "  fig.canvas.print_figure(bytes_io, **kw)\n",
      "/Users/jiahuasong/opt/anaconda3/lib/python3.9/site-packages/IPython/core/pylabtools.py:151: UserWarning: Glyph 21487 (\\N{CJK UNIFIED IDEOGRAPH-53EF}) missing from current font.\n",
      "  fig.canvas.print_figure(bytes_io, **kw)\n",
      "/Users/jiahuasong/opt/anaconda3/lib/python3.9/site-packages/IPython/core/pylabtools.py:151: UserWarning: Glyph 20998 (\\N{CJK UNIFIED IDEOGRAPH-5206}) missing from current font.\n",
      "  fig.canvas.print_figure(bytes_io, **kw)\n",
      "/Users/jiahuasong/opt/anaconda3/lib/python3.9/site-packages/IPython/core/pylabtools.py:151: UserWarning: Glyph 30340 (\\N{CJK UNIFIED IDEOGRAPH-7684}) missing from current font.\n",
      "  fig.canvas.print_figure(bytes_io, **kw)\n",
      "/Users/jiahuasong/opt/anaconda3/lib/python3.9/site-packages/IPython/core/pylabtools.py:151: UserWarning: Glyph 25968 (\\N{CJK UNIFIED IDEOGRAPH-6570}) missing from current font.\n",
      "  fig.canvas.print_figure(bytes_io, **kw)\n",
      "/Users/jiahuasong/opt/anaconda3/lib/python3.9/site-packages/IPython/core/pylabtools.py:151: UserWarning: Glyph 25454 (\\N{CJK UNIFIED IDEOGRAPH-636E}) missing from current font.\n",
      "  fig.canvas.print_figure(bytes_io, **kw)\n",
      "/Users/jiahuasong/opt/anaconda3/lib/python3.9/site-packages/IPython/core/pylabtools.py:151: UserWarning: Glyph 38598 (\\N{CJK UNIFIED IDEOGRAPH-96C6}) missing from current font.\n",
      "  fig.canvas.print_figure(bytes_io, **kw)\n",
      "/Users/jiahuasong/opt/anaconda3/lib/python3.9/site-packages/IPython/core/pylabtools.py:151: UserWarning: Glyph 38750 (\\N{CJK UNIFIED IDEOGRAPH-975E}) missing from current font.\n",
      "  fig.canvas.print_figure(bytes_io, **kw)\n"
     ]
    },
    {
     "data": {
      "image/png": "[encoded data removed]",
      "text/plain": [
       "<Figure size 432x216 with 2 Axes>"
      ]
     },
     "metadata": {},
     "output_type": "display_data"
    }
   ],
   "source": [
    "import matplotlib.pyplot as plt\n",
    "from matplotlib.colors import ListedColormap\n",
    "from sklearn import datasets\n",
    "import numpy as np\n",
    "\n",
    "# 载入iris数据集\n",
    "iris = datasets.load_iris()\n",
    "sampleCount = 100\n",
    "# 取前面100个数据（即前两个类别），并且只取最后两个特征，这是线性可分数据集\n",
    "X1 = iris.data[:sampleCount, [2,3]]\n",
    "y1 = iris.target[:sampleCount]\n",
    "# 取后面100个数据（即后两个类别），并且只取最后两个特征，这是非线性可分数据集\n",
    "X2 = iris.data[50:50+sampleCount, [2,3]]\n",
    "y2 = iris.target[50:50+sampleCount]\n",
    "\n",
    "# 以下是绘制代码\n",
    "# 设置字体大小\n",
    "plt.rcParams.update({'font.size': 14})\n",
    "# 创建并排的两个subfigure\n",
    "fig, axes = plt.subplots(figsize = (6, 3), nrows=1, ncols=2)\n",
    "plt.subplots_adjust(left=0.001, right=0.999, top=0.999, bottom=0.1, wspace=0.08)\n",
    "\n",
    "# 在两个并排的subfigure中绘制两个数据集\n",
    "cmap = ListedColormap(('darkseagreen', 'blue', 'red'))\n",
    "markers = ('s', 'x', 'o')\n",
    "Xs = (X1, X2)\n",
    "ys = (y1, y2)\n",
    "xlabels = ('线性可分的数据集', '非线性可分的数据集')\n",
    "for ax, xlabel, X, y in zip(axes.flat, xlabels, Xs, ys):\n",
    "    ax.set(xticks=[], yticks=[])\n",
    "    ax.set_xlabel(xlabel)\n",
    "\n",
    "    vmin, vmax = min(y), max(y)\n",
    "    for cl in np.unique(y):\n",
    "        ax.scatter(x=X[y==cl,0], y=X[y==cl,1], alpha=0.8, color=cmap(cl), marker=markers[cl], edgecolor='k')\n",
    "\n",
    "plt.show()"
   ]
  },
  {
   "cell_type": "markdown",
   "id": "db056611",
   "metadata": {
    "pycharm": {
     "name": "#%% md\n"
    }
   },
   "source": [
    "### 2.6-4"
   ]
  },
  {
   "cell_type": "code",
   "execution_count": 101,
   "id": "cb80377d",
   "metadata": {
    "pycharm": {
     "name": "#%%\n"
    }
   },
   "outputs": [
    {
     "name": "stderr",
     "output_type": "stream",
     "text": [
      "/var/folders/v2/5qft7fyx4md0d3vhbjvb64wr0000gn/T/ipykernel_4636/1553428086.py:134: UserWarning: You passed a edgecolor/edgecolors ('k') for an unfilled marker ('x').  Matplotlib is ignoring the edgecolor in favor of the facecolor.  This behavior may change in the future.\n",
      "  ax.scatter(x=X0[y==cl], y=X1[y==cl], c=y[y==cl], alpha=1, vmin = vmin, vmax = vmax, cmap=cm, edgecolors='k', marker = m)\n",
      "/Users/jiahuasong/opt/anaconda3/lib/python3.9/site-packages/IPython/core/pylabtools.py:151: UserWarning: Glyph 65306 (\\N{FULLWIDTH COLON}) missing from current font.\n",
      "  fig.canvas.print_figure(bytes_io, **kw)\n",
      "/Users/jiahuasong/opt/anaconda3/lib/python3.9/site-packages/IPython/core/pylabtools.py:151: UserWarning: Glyph 65292 (\\N{FULLWIDTH COMMA}) missing from current font.\n",
      "  fig.canvas.print_figure(bytes_io, **kw)\n"
     ]
    },
    {
     "data": {
      "image/png": "[encoded data removed]",
      "text/plain": [
       "<Figure size 432x216 with 1 Axes>"
      ]
     },
     "metadata": {},
     "output_type": "display_data"
    }
   ],
   "source": [
    "import numpy as np\n",
    "import matplotlib.pyplot as plt\n",
    "from sklearn.linear_model import Perceptron\n",
    "from sklearn import datasets\n",
    "from matplotlib.colors import ListedColormap\n",
    "\n",
    "# 超参数\n",
    "epochs = 10000 # 固定的迭代次数\n",
    "\n",
    "# 参数\n",
    "w, b = np.array([0, 0]), 0 # np.array 相当于定义向量\n",
    "\n",
    "# 定义 d(x) 函数\n",
    "def d(x):\n",
    "    return np.dot(w,x)+b # np.dot 是向量的点积\n",
    "\n",
    "# 定义 sign 函数\n",
    "def sign(x):\n",
    "    return 1 if x >= 0 else -1\n",
    "\n",
    "# 定义 h(x) 函数\n",
    "def h(x):\n",
    "    return sign(d(x))\n",
    "\n",
    "# 计算决策边界的评分\n",
    "def clf_score(X, y):\n",
    "    score = 0\n",
    "    for xi, yi in zip(X, y):\n",
    "        score += yi*h(xi)\n",
    "    return score\n",
    "\n",
    "# 以下是训练代码\n",
    "# 载入iris数据集\n",
    "iris = datasets.load_iris()\n",
    "# 取后面100个数据，并且只取最后两个特征，以及取出对应的类别\n",
    "sampleNumber = 100\n",
    "X = iris.data[50:50+sampleNumber, [2,3]]\n",
    "# iris 数据集的类别是0, 1, 2，为了运用我们实现的感知机算法，这里将后两个类别改为-1, 1\n",
    "y = np.where(iris.target[50:50+sampleNumber] == 1, -1, 1)\n",
    "\n",
    "# 感知机的口袋算法\n",
    "best_w, best_b = w, b\n",
    "best_cs = clf_score(X, y)\n",
    "for _ in range(epochs):\n",
    "\n",
    "    # 顺序遍及数据集 X\n",
    "    for xi, yi in zip(X, y):\n",
    "        # 如果有分错的\n",
    "        if yi*d(xi) <= 0:\n",
    "            # 更新法向量 w 和 b\n",
    "            w, b = w + yi*xi, b + yi\n",
    "            # 对新得到的决策边界进行评分\n",
    "            cs = clf_score(X, y)\n",
    "            # 如果更好，则进行更新\n",
    "            if cs > best_cs:\n",
    "                best_cs = cs\n",
    "                best_w, best_b = w, b\n",
    "            break\n",
    "\n",
    "w, b = best_w, best_b\n",
    "# 计算准确率\n",
    "accuracy = 1 - (sampleNumber - best_cs)/2/sampleNumber\n",
    "\n",
    "# 下面是绘制的代码，主要展示暴力实现的结果，看不懂也没有关系\n",
    "def make_meshgrid(x, y, h=.02):\n",
    "    \"\"\"Create a mesh of points to plot in\n",
    "\n",
    "    Parameters\n",
    "    ----------\n",
    "    x: data to base x-axis meshgrid on\n",
    "    y: data to base y-axis meshgrid on\n",
    "    h: stepsize for meshgrid, optional\n",
    "\n",
    "    Returns\n",
    "    -------\n",
    "    xx, yy : ndarray\n",
    "    \"\"\"\n",
    "    x_min, x_max = x.min() - 1, x.max() + 1\n",
    "    y_min, y_max = y.min() - 1, y.max() + 1\n",
    "    xx, yy = np.meshgrid(np.arange(x_min, x_max, h),\n",
    "                         np.arange(y_min, y_max, h))\n",
    "    return xx, yy\n",
    "\n",
    "def plot_contours(ax, clf, xx, yy, **params):\n",
    "    \"\"\"Plot the decision boundaries for a classifier.\n",
    "\n",
    "    Parameters\n",
    "    ----------\n",
    "    ax: matplotlib axes object\n",
    "    clf: a classifier\n",
    "    xx: meshgrid ndarray\n",
    "    yy: meshgrid ndarray\n",
    "    params: dictionary of params to pass to contourf, optional\n",
    "    \"\"\"\n",
    "    Z = clf.predict(np.c_[xx.ravel(), yy.ravel()])\n",
    "    Z = Z.reshape(xx.shape)\n",
    "    out = ax.contourf(xx, yy, Z, **params)\n",
    "    return out\n",
    "\n",
    "# 训练 skrlearn 中的感知机，这里是为了借用该感知机的接口，便于绘制决策区域\n",
    "clf = Perceptron().fit(X, y)\n",
    "# 根据上面暴力实现得到的 w 和 b 来修改感知机\n",
    "clf.coef_[0][0], clf.coef_[0][1], clf.intercept_[0] = w[0], w[1], b\n",
    "\n",
    "# 设置字体大小\n",
    "plt.rcParams.update({'font.size': 14})\n",
    "# 设置画布和坐标系\n",
    "fig, ax = plt.subplots(figsize = (6, 3), nrows=1, ncols=1)\n",
    "fig.subplots_adjust(left=0.25, right=0.75, top=0.999, bottom=0.08)\n",
    "ax.set_xticks(()),ax.set_yticks(())\n",
    "ax.set_xlabel(r\"epochs：{}，accuracy：{:.2%}\".format(epochs, accuracy))\n",
    "\n",
    "\n",
    "cm = ListedColormap(('blue', 'red'))\n",
    "markers = ('x', 'o')\n",
    "\n",
    "# 决定绘制区域的大小\n",
    "X0, X1 = X[:, 0], X[:, 1]\n",
    "xx, yy = make_meshgrid(X0, X1)\n",
    "ax.set_xlim(xx.min(), xx.max())\n",
    "ax.set_ylim(yy.min(), yy.max())\n",
    "\n",
    "# 绘制决策区域\n",
    "plot_contours(ax, clf, xx, yy, cmap=cm, alpha=0.4)\n",
    "\n",
    "# 绘制决策直线\n",
    "lx = np.linspace(xx.min(), xx.max())\n",
    "ly = - w[0] / w[1] * lx  - b / w[1]\n",
    "ax.plot(lx, ly, 'k-')\n",
    "\n",
    "# 根据类别不同，绘制不同形状的点\n",
    "vmin, vmax = min(y), max(y)\n",
    "for cl, m in zip(np.unique(y), markers):\n",
    "  ax.scatter(x=X0[y==cl], y=X1[y==cl], c=y[y==cl], alpha=1, vmin = vmin, vmax = vmax, cmap=cm, edgecolors='k', marker = m)\n",
    "\n",
    "plt.show()"
   ]
  },
  {
   "cell_type": "code",
   "execution_count": 120,
   "id": "fd6987ca",
   "metadata": {
    "pycharm": {
     "name": "#%%\n"
    }
   },
   "outputs": [
    {
     "data": {
      "text/plain": [
       "0.9"
      ]
     },
     "execution_count": 120,
     "metadata": {},
     "output_type": "execute_result"
    }
   ],
   "source": []
  },
  {
   "cell_type": "markdown",
   "id": "c6643b93",
   "metadata": {
    "pycharm": {
     "name": "#%% md\n"
    }
   },
   "source": [
    "### 2.7-4"
   ]
  },
  {
   "cell_type": "code",
   "execution_count": 122,
   "id": "d1861fb6",
   "metadata": {
    "pycharm": {
     "name": "#%%\n"
    }
   },
   "outputs": [
    {
     "name": "stderr",
     "output_type": "stream",
     "text": [
      "/var/folders/v2/5qft7fyx4md0d3vhbjvb64wr0000gn/T/ipykernel_4636/1622597346.py:36: UserWarning: You passed a edgecolor/edgecolors ('k') for an unfilled marker ('x').  Matplotlib is ignoring the edgecolor in favor of the facecolor.  This behavior may change in the future.\n",
      "  ax.scatter(x=X[y==cl, 0], y=X[y==cl, 1], c=y[y==cl], alpha=1, vmin = vmin, vmax = vmax, cmap=cm, edgecolors='k', marker = m)\n",
      "/Users/jiahuasong/opt/anaconda3/lib/python3.9/site-packages/IPython/core/pylabtools.py:151: UserWarning: Glyph 35757 (\\N{CJK UNIFIED IDEOGRAPH-8BAD}) missing from current font.\n",
      "  fig.canvas.print_figure(bytes_io, **kw)\n",
      "/Users/jiahuasong/opt/anaconda3/lib/python3.9/site-packages/IPython/core/pylabtools.py:151: UserWarning: Glyph 32451 (\\N{CJK UNIFIED IDEOGRAPH-7EC3}) missing from current font.\n",
      "  fig.canvas.print_figure(bytes_io, **kw)\n",
      "/Users/jiahuasong/opt/anaconda3/lib/python3.9/site-packages/IPython/core/pylabtools.py:151: UserWarning: Glyph 38598 (\\N{CJK UNIFIED IDEOGRAPH-96C6}) missing from current font.\n",
      "  fig.canvas.print_figure(bytes_io, **kw)\n",
      "/Users/jiahuasong/opt/anaconda3/lib/python3.9/site-packages/IPython/core/pylabtools.py:151: UserWarning: Glyph 39564 (\\N{CJK UNIFIED IDEOGRAPH-9A8C}) missing from current font.\n",
      "  fig.canvas.print_figure(bytes_io, **kw)\n",
      "/Users/jiahuasong/opt/anaconda3/lib/python3.9/site-packages/IPython/core/pylabtools.py:151: UserWarning: Glyph 35777 (\\N{CJK UNIFIED IDEOGRAPH-8BC1}) missing from current font.\n",
      "  fig.canvas.print_figure(bytes_io, **kw)\n",
      "/Users/jiahuasong/opt/anaconda3/lib/python3.9/site-packages/IPython/core/pylabtools.py:151: UserWarning: Glyph 27979 (\\N{CJK UNIFIED IDEOGRAPH-6D4B}) missing from current font.\n",
      "  fig.canvas.print_figure(bytes_io, **kw)\n",
      "/Users/jiahuasong/opt/anaconda3/lib/python3.9/site-packages/IPython/core/pylabtools.py:151: UserWarning: Glyph 35797 (\\N{CJK UNIFIED IDEOGRAPH-8BD5}) missing from current font.\n",
      "  fig.canvas.print_figure(bytes_io, **kw)\n"
     ]
    },
    {
     "data": {
      "image/png": "[encoded data removed]",
      "text/plain": [
       "<Figure size 648x216 with 3 Axes>"
      ]
     },
     "metadata": {},
     "output_type": "display_data"
    }
   ],
   "source": [
    "#coding:utf-8\n",
    "import matplotlib.pyplot as plt\n",
    "from matplotlib.colors import ListedColormap\n",
    "from sklearn import datasets\n",
    "from sklearn.model_selection import train_test_split\n",
    "import numpy as np\n",
    "\n",
    "# 载入iris数据集\n",
    "iris = datasets.load_iris()\n",
    "# 取后面100个数据，并且只取最后两个特征，以及取出对应的类别\n",
    "sampleNumber = 100\n",
    "X = iris.data[50:50+sampleNumber, [2,3]]\n",
    "# iris 数据集的类别是0, 1, 2，为了运用我们实现的感知机算法，这里将后两个类别改为-1, 1\n",
    "y = np.where(iris.target[50:50+sampleNumber] == 1, -1, 1)\n",
    "\n",
    "# 借助 train_test_split 进行随机分割，按照 6 : 2 : 2 的比例划分为三种数据集\n",
    "X_tv, X_test, y_tv, y_test = train_test_split(X, y, test_size=0.2, random_state=42)\n",
    "X_train, X_val, y_train, y_val = train_test_split(X_tv, y_tv, test_size=0.25, random_state=42)\n",
    "\n",
    "# 以下是绘制代码，看不懂没有关系\n",
    "plt.rcParams.update({'font.size': 18}) # 设置字体大小\n",
    "# 创建并设置排的两个subfigure\n",
    "fig, axes = plt.subplots(figsize = (9, 3), nrows=1, ncols=3)\n",
    "plt.subplots_adjust(left=0.001, right=0.999, top=0.999, bottom=0.1, wspace=0.04)\n",
    "\n",
    "# 在两个并排的subfigure中绘制训练集和测试集\n",
    "cmaps = (ListedColormap(('blue', 'red')), ListedColormap(('dodgerblue', 'bisque')), ListedColormap(('forestgreen', 'peru')))\n",
    "markers, xlabels  = ('x', 'o'), ('训练集', '验证集', '测试集')\n",
    "Xs, ys = (X_train, X_val, X_test), (y_train, y_val, y_test)\n",
    "for ax, xlabel, cm, X, y in zip(axes.flat, xlabels, cmaps, Xs, ys):\n",
    "    ax.set(xticks=[], yticks=[])\n",
    "    ax.set_xlabel(xlabel)\n",
    "\n",
    "    vmin, vmax = min(y), max(y)\n",
    "    for cl, m in zip(np.unique(y), markers):\n",
    "        ax.scatter(x=X[y==cl, 0], y=X[y==cl, 1], c=y[y==cl], alpha=1, vmin = vmin, vmax = vmax, cmap=cm, edgecolors='k', marker = m)\n",
    "\n",
    "plt.show()"
   ]
  },
  {
   "cell_type": "code",
   "execution_count": 14,
   "id": "e41c3565",
   "metadata": {
    "pycharm": {
     "name": "#%%\n"
    }
   },
   "outputs": [
    {
     "name": "stderr",
     "output_type": "stream",
     "text": [
      "/var/folders/v2/5qft7fyx4md0d3vhbjvb64wr0000gn/T/ipykernel_3318/1100928240.py:133: UserWarning: You passed a edgecolor/edgecolors ('k') for an unfilled marker ('x').  Matplotlib is ignoring the edgecolor in favor of the facecolor.  This behavior may change in the future.\n",
      "  ax.scatter(x=X0[y==cl], y=X1[y==cl], c=y[y==cl], alpha=1, vmin = vmin, vmax = vmax, cmap=cm, edgecolors='k', marker = m)\n",
      "/var/folders/v2/5qft7fyx4md0d3vhbjvb64wr0000gn/T/ipykernel_3318/1100928240.py:133: UserWarning: You passed a edgecolor/edgecolors ('k') for an unfilled marker ('x').  Matplotlib is ignoring the edgecolor in favor of the facecolor.  This behavior may change in the future.\n",
      "  ax.scatter(x=X0[y==cl], y=X1[y==cl], c=y[y==cl], alpha=1, vmin = vmin, vmax = vmax, cmap=cm, edgecolors='k', marker = m)\n",
      "/Users/jiahuasong/opt/anaconda3/lib/python3.9/site-packages/IPython/core/pylabtools.py:151: UserWarning: Glyph 65306 (\\N{FULLWIDTH COLON}) missing from current font.\n",
      "  fig.canvas.print_figure(bytes_io, **kw)\n",
      "/Users/jiahuasong/opt/anaconda3/lib/python3.9/site-packages/IPython/core/pylabtools.py:151: UserWarning: Glyph 65292 (\\N{FULLWIDTH COMMA}) missing from current font.\n",
      "  fig.canvas.print_figure(bytes_io, **kw)\n",
      "/Users/jiahuasong/opt/anaconda3/lib/python3.9/site-packages/IPython/core/pylabtools.py:151: UserWarning: Glyph 35757 (\\N{CJK UNIFIED IDEOGRAPH-8BAD}) missing from current font.\n",
      "  fig.canvas.print_figure(bytes_io, **kw)\n",
      "/Users/jiahuasong/opt/anaconda3/lib/python3.9/site-packages/IPython/core/pylabtools.py:151: UserWarning: Glyph 32451 (\\N{CJK UNIFIED IDEOGRAPH-7EC3}) missing from current font.\n",
      "  fig.canvas.print_figure(bytes_io, **kw)\n",
      "/Users/jiahuasong/opt/anaconda3/lib/python3.9/site-packages/IPython/core/pylabtools.py:151: UserWarning: Glyph 38598 (\\N{CJK UNIFIED IDEOGRAPH-96C6}) missing from current font.\n",
      "  fig.canvas.print_figure(bytes_io, **kw)\n",
      "/Users/jiahuasong/opt/anaconda3/lib/python3.9/site-packages/IPython/core/pylabtools.py:151: UserWarning: Glyph 20934 (\\N{CJK UNIFIED IDEOGRAPH-51C6}) missing from current font.\n",
      "  fig.canvas.print_figure(bytes_io, **kw)\n",
      "/Users/jiahuasong/opt/anaconda3/lib/python3.9/site-packages/IPython/core/pylabtools.py:151: UserWarning: Glyph 30830 (\\N{CJK UNIFIED IDEOGRAPH-786E}) missing from current font.\n",
      "  fig.canvas.print_figure(bytes_io, **kw)\n",
      "/Users/jiahuasong/opt/anaconda3/lib/python3.9/site-packages/IPython/core/pylabtools.py:151: UserWarning: Glyph 29575 (\\N{CJK UNIFIED IDEOGRAPH-7387}) missing from current font.\n",
      "  fig.canvas.print_figure(bytes_io, **kw)\n",
      "/Users/jiahuasong/opt/anaconda3/lib/python3.9/site-packages/IPython/core/pylabtools.py:151: UserWarning: Glyph 39564 (\\N{CJK UNIFIED IDEOGRAPH-9A8C}) missing from current font.\n",
      "  fig.canvas.print_figure(bytes_io, **kw)\n",
      "/Users/jiahuasong/opt/anaconda3/lib/python3.9/site-packages/IPython/core/pylabtools.py:151: UserWarning: Glyph 35777 (\\N{CJK UNIFIED IDEOGRAPH-8BC1}) missing from current font.\n",
      "  fig.canvas.print_figure(bytes_io, **kw)\n"
     ]
    },
    {
     "data": {
      "image/png": "[encoded data removed]",
      "text/plain": [
       "<Figure size 432x216 with 2 Axes>"
      ]
     },
     "metadata": {},
     "output_type": "display_data"
    }
   ],
   "source": [
    "import numpy as np\n",
    "import matplotlib.pyplot as plt\n",
    "from sklearn.linear_model import Perceptron\n",
    "from sklearn.model_selection import train_test_split\n",
    "from sklearn import datasets\n",
    "from matplotlib.colors import ListedColormap\n",
    "\n",
    "# 超参数\n",
    "epochs = 3000 # 固定的迭代次数\n",
    "\n",
    "# 参数\n",
    "w, b = np.array([0, 0]), 0 # np.array 相当于定义向量\n",
    "\n",
    "# 定义 d(x) 函数\n",
    "def d(x):\n",
    "    return np.dot(w,x)+b # np.dot 是向量的点积\n",
    "\n",
    "# 定义 sign 函数\n",
    "def sign(x):\n",
    "    return 1 if x >= 0 else -1\n",
    "\n",
    "# 定义 h(x) 函数\n",
    "def h(x):\n",
    "    return sign(d(x))\n",
    "\n",
    "# 计算决策边界的评分\n",
    "def clf_score(X, y):\n",
    "    score = 0\n",
    "    for xi, yi in zip(X, y):\n",
    "        score += yi*h(xi)\n",
    "    return score\n",
    "\n",
    "# 以下是训练代码\n",
    "# 载入iris数据集\n",
    "iris = datasets.load_iris()\n",
    "# 取后面100个数据，并且只取最后两个特征，以及取出对应的类别\n",
    "sampleNumber = 100\n",
    "X = iris.data[50:50+sampleNumber, [2,3]]\n",
    "# iris 数据集的类别是0, 1, 2，为了运用我们实现的感知机算法，这里将后两个类别改为-1, 1\n",
    "y = np.where(iris.target[50:50+sampleNumber] == 1, -1, 1)\n",
    "\n",
    "# 借助 train_test_split 进行随机分割，按照 6 : 2 : 2 的比例划分为三种数据集\n",
    "X_tv, X_test, y_tv, y_test = train_test_split(X, y, test_size=0.2, random_state=42)\n",
    "X_train, X_val, y_train, y_val = train_test_split(X_tv, y_tv, test_size=0.25, random_state=42)\n",
    "\n",
    "# 在训练集上训练\n",
    "best_w, best_b = w, b\n",
    "best_cs = clf_score(X_train, y_train)\n",
    "for _ in range(epochs):\n",
    "\n",
    "    # 顺序遍及数据集 X\n",
    "    for xi, yi in zip(X_train, y_train):\n",
    "        # 如果有分错的\n",
    "        if yi*d(xi) <= 0:\n",
    "            # 更新法向量 w 和 b\n",
    "            w, b = w + yi*xi, b + yi\n",
    "            # 对新得到的决策边界进行评分\n",
    "            cs = clf_score(X_train, y_train)\n",
    "            # 如果更好，则进行更新\n",
    "            if cs > best_cs:\n",
    "                best_cs = cs\n",
    "                best_w, best_b = w, b\n",
    "            break\n",
    "\n",
    "w, b = best_w, best_b\n",
    "# 计算训练集和验证集上的正确率\n",
    "train_accuracy = 1 - (len(X_train) - best_cs)/2/len(X_train)\n",
    "val_accuracy = 1 - (len(X_val) - clf_score(X_val, y_val))/2/len(X_val)\n",
    "\n",
    "\n",
    "# 下面是绘制的代码，看不懂也没有关系\n",
    "def make_meshgrid(x, y, h=.02):\n",
    "    \"\"\"Create a mesh of points to plot in\n",
    "\n",
    "    Parameters\n",
    "    ----------\n",
    "    x: data to base x-axis meshgrid on\n",
    "    y: data to base y-axis meshgrid on\n",
    "    h: stepsize for meshgrid, optional\n",
    "\n",
    "    Returns\n",
    "    -------\n",
    "    xx, yy : ndarray\n",
    "    \"\"\"\n",
    "    x_min, x_max = x.min() - 1, x.max() + 1\n",
    "    y_min, y_max = y.min() - 1, y.max() + 1\n",
    "    xx, yy = np.meshgrid(np.arange(x_min, x_max, h),\n",
    "                         np.arange(y_min, y_max, h))\n",
    "    return xx, yy\n",
    "\n",
    "def plot_contours(ax, clf, xx, yy, **params):\n",
    "    \"\"\"Plot the decision boundaries for a classifier.\n",
    "\n",
    "    Parameters\n",
    "    ----------\n",
    "    ax: matplotlib axes object\n",
    "    clf: a classifier\n",
    "    xx: meshgrid ndarray\n",
    "    yy: meshgrid ndarray\n",
    "    params: dictionary of params to pass to contourf, optional\n",
    "    \"\"\"\n",
    "    Z = clf.predict(np.c_[xx.ravel(), yy.ravel()])\n",
    "    Z = Z.reshape(xx.shape)\n",
    "    out = ax.contourf(xx, yy, Z, **params)\n",
    "    return out\n",
    "\n",
    "# 训练 skrlearn 中的感知机\n",
    "clf = Perceptron(max_iter=40, tol=10).fit(X_train, y_train)\n",
    "# 根据上面暴力实现得到的 w 和 b 来修改感知机\n",
    "clf.coef_[0][0], clf.coef_[0][1], clf.intercept_[0] = w[0], w[1], b\n",
    "\n",
    "# 设置字体大小\n",
    "plt.rcParams.update({'font.size': 13})\n",
    "fig, axes = plt.subplots(figsize = (6, 3), nrows=1, ncols=2)\n",
    "fig.subplots_adjust(left=0.08, right=0.92, top=0.999, bottom=0.1)\n",
    "\n",
    "# 在两个并排的subfigure中绘制训练集和测试集\n",
    "cmaps, markers = (ListedColormap(('blue', 'red')), ListedColormap(('dodgerblue', 'bisque'))), ('x', 'o')\n",
    "xlabels = (r\"epochs：{}，训练集准确率：{:.2%}\".format(epochs, train_accuracy), r\"验证集准确率：{:.2%}\".format(val_accuracy))\n",
    "Xs, ys = (X_train, X_val), (y_train, y_val)\n",
    "for ax, xlabel, cm, X, y in zip(axes.flat, xlabels, cmaps, Xs, ys):\n",
    "    # 绘制决策区域\n",
    "    X0, X1 = X[:, 0], X[:, 1]\n",
    "    xx, yy = make_meshgrid(X0, X1)\n",
    "    plot_contours(ax, clf, xx, yy, cmap=cm, alpha=0.4)\n",
    "    ax.set(xticks=[], yticks=[])\n",
    "    ax.set_xlim(xx.min(), xx.max()), ax.set_ylim(yy.min(), yy.max()) \n",
    "    ax.set_xlabel(xlabel)\n",
    "\n",
    "    # 绘制点集\n",
    "    vmin, vmax = min(y), max(y)\n",
    "    for cl, m in zip(np.unique(y), markers):\n",
    "      ax.scatter(x=X0[y==cl], y=X1[y==cl], c=y[y==cl], alpha=1, vmin = vmin, vmax = vmax, cmap=cm, edgecolors='k', marker = m)\n",
    "\n",
    "    # 绘制决策直线\n",
    "    w1, w2, b = clf.coef_[0][0], clf.coef_[0][1], clf.intercept_[0]\n",
    "    lx = np.linspace(xx.min(), xx.max())\n",
    "    ly = - w1 / w2 * lx  - b / w2\n",
    "    ax.plot(lx, ly, 'k-')\n",
    "\n",
    "plt.show()"
   ]
  },
  {
   "cell_type": "code",
   "execution_count": 137,
   "id": "4524e085",
   "metadata": {
    "pycharm": {
     "name": "#%%\n"
    }
   },
   "outputs": [
    {
     "name": "stderr",
     "output_type": "stream",
     "text": [
      "/var/folders/v2/5qft7fyx4md0d3vhbjvb64wr0000gn/T/ipykernel_4636/3083687530.py:131: UserWarning: You passed a edgecolor/edgecolors ('k') for an unfilled marker ('x').  Matplotlib is ignoring the edgecolor in favor of the facecolor.  This behavior may change in the future.\n",
      "  ax.scatter(x=X0[y_test==cl], y=X1[y_test==cl], c=y_test[y_test==cl], alpha=1, vmin = vmin, vmax = vmax, cmap=cm, edgecolors='k', marker = m)\n",
      "/Users/jiahuasong/opt/anaconda3/lib/python3.9/site-packages/IPython/core/pylabtools.py:151: UserWarning: Glyph 65306 (\\N{FULLWIDTH COLON}) missing from current font.\n",
      "  fig.canvas.print_figure(bytes_io, **kw)\n",
      "/Users/jiahuasong/opt/anaconda3/lib/python3.9/site-packages/IPython/core/pylabtools.py:151: UserWarning: Glyph 65292 (\\N{FULLWIDTH COMMA}) missing from current font.\n",
      "  fig.canvas.print_figure(bytes_io, **kw)\n",
      "/Users/jiahuasong/opt/anaconda3/lib/python3.9/site-packages/IPython/core/pylabtools.py:151: UserWarning: Glyph 27979 (\\N{CJK UNIFIED IDEOGRAPH-6D4B}) missing from current font.\n",
      "  fig.canvas.print_figure(bytes_io, **kw)\n",
      "/Users/jiahuasong/opt/anaconda3/lib/python3.9/site-packages/IPython/core/pylabtools.py:151: UserWarning: Glyph 35797 (\\N{CJK UNIFIED IDEOGRAPH-8BD5}) missing from current font.\n",
      "  fig.canvas.print_figure(bytes_io, **kw)\n",
      "/Users/jiahuasong/opt/anaconda3/lib/python3.9/site-packages/IPython/core/pylabtools.py:151: UserWarning: Glyph 38598 (\\N{CJK UNIFIED IDEOGRAPH-96C6}) missing from current font.\n",
      "  fig.canvas.print_figure(bytes_io, **kw)\n",
      "/Users/jiahuasong/opt/anaconda3/lib/python3.9/site-packages/IPython/core/pylabtools.py:151: UserWarning: Glyph 20934 (\\N{CJK UNIFIED IDEOGRAPH-51C6}) missing from current font.\n",
      "  fig.canvas.print_figure(bytes_io, **kw)\n",
      "/Users/jiahuasong/opt/anaconda3/lib/python3.9/site-packages/IPython/core/pylabtools.py:151: UserWarning: Glyph 30830 (\\N{CJK UNIFIED IDEOGRAPH-786E}) missing from current font.\n",
      "  fig.canvas.print_figure(bytes_io, **kw)\n",
      "/Users/jiahuasong/opt/anaconda3/lib/python3.9/site-packages/IPython/core/pylabtools.py:151: UserWarning: Glyph 29575 (\\N{CJK UNIFIED IDEOGRAPH-7387}) missing from current font.\n",
      "  fig.canvas.print_figure(bytes_io, **kw)\n"
     ]
    },
    {
     "data": {
      "image/png": "[encoded data removed]",
      "text/plain": [
       "<Figure size 432x216 with 1 Axes>"
      ]
     },
     "metadata": {},
     "output_type": "display_data"
    }
   ],
   "source": [
    "import numpy as np\n",
    "import matplotlib.pyplot as plt\n",
    "from sklearn.linear_model import Perceptron\n",
    "from sklearn.model_selection import train_test_split\n",
    "from sklearn import datasets\n",
    "from matplotlib.colors import ListedColormap\n",
    "\n",
    "# 超参数\n",
    "epochs = 500 # 固定的迭代次数\n",
    "\n",
    "# 参数\n",
    "w, b = np.array([0, 0]), 0 # np.array 相当于定义向量\n",
    "\n",
    "# 定义 d(x) 函数\n",
    "def d(x):\n",
    "    return np.dot(w,x)+b # np.dot 是向量的点积\n",
    "\n",
    "# 定义 sign 函数\n",
    "def sign(x):\n",
    "    return 1 if x >= 0 else -1\n",
    "\n",
    "# 定义 h(x) 函数\n",
    "def h(x):\n",
    "    return sign(d(x))\n",
    "\n",
    "# 计算决策边界的评分\n",
    "def clf_score(X, y):\n",
    "    score = 0\n",
    "    for xi, yi in zip(X, y):\n",
    "        score += yi*h(xi)\n",
    "    return score\n",
    "\n",
    "# 以下是训练代码\n",
    "# 载入iris数据集\n",
    "iris = datasets.load_iris()\n",
    "# 取后面100个数据，并且只取最后两个特征，以及取出对应的类别\n",
    "sampleNumber = 100\n",
    "X = iris.data[50:50+sampleNumber, [2,3]]\n",
    "# iris 数据集的类别是0, 1, 2，为了运用我们实现的感知机算法，这里将后两个类别改为-1, 1\n",
    "y = np.where(iris.target[50:50+sampleNumber] == 1, -1, 1)\n",
    "\n",
    "# 借助 train_test_split 进行随机分割，按照 6 : 2 : 2 的比例划分为三种数据集\n",
    "X_tv, X_test, y_tv, y_test = train_test_split(X, y, test_size=0.2, random_state=42)\n",
    "X_train, X_val, y_train, y_val = train_test_split(X_tv, y_tv, test_size=0.25, random_state=42)\n",
    "\n",
    "# 在训练集上训练\n",
    "best_w, best_b = w, b\n",
    "best_cs = clf_score(X_train, y_train)\n",
    "for _ in range(epochs):\n",
    "    # 顺序遍及数据集 X\n",
    "    for xi, yi in zip(X_train, y_train):\n",
    "        # 如果有分错的\n",
    "        if yi*d(xi) <= 0:\n",
    "            # 更新法向量 w 和 b\n",
    "            w, b = w + yi*xi, b + yi\n",
    "            # 对新得到的决策边界进行评分\n",
    "            cs = clf_score(X_train, y_train)\n",
    "            # 如果更好，则进行更新\n",
    "            if cs > best_cs:\n",
    "                best_cs = cs\n",
    "                best_w, best_b = w, b\n",
    "            break\n",
    "\n",
    "w, b = best_w, best_b\n",
    "# 计算训练集和验证集上的正确率\n",
    "train_accuracy = 1 - (len(X_train) - best_cs)/2/len(X_train)\n",
    "val_accuracy = 1 - (len(X_val) - clf_score(X_val, y_val))/2/len(X_val)\n",
    "test_accuracy = 1 - (len(X_test) - clf_score(X_test, y_test))/2/len(X_test)\n",
    "\n",
    "# 下面是绘制的代码，看不懂也没有关系\n",
    "def make_meshgrid(x, y, h=.02):\n",
    "    \"\"\"Create a mesh of points to plot in\n",
    "\n",
    "    Parameters\n",
    "    ----------\n",
    "    x: data to base x-axis meshgrid on\n",
    "    y: data to base y-axis meshgrid on\n",
    "    h: stepsize for meshgrid, optional\n",
    "\n",
    "    Returns\n",
    "    -------\n",
    "    xx, yy : ndarray\n",
    "    \"\"\"\n",
    "    x_min, x_max = x.min() - 1, x.max() + 1\n",
    "    y_min, y_max = y.min() - 1, y.max() + 1\n",
    "    xx, yy = np.meshgrid(np.arange(x_min, x_max, h),\n",
    "                         np.arange(y_min, y_max, h))\n",
    "    return xx, yy\n",
    "\n",
    "def plot_contours(ax, clf, xx, yy, **params):\n",
    "    \"\"\"Plot the decision boundaries for a classifier.\n",
    "\n",
    "    Parameters\n",
    "    ----------\n",
    "    ax: matplotlib axes object\n",
    "    clf: a classifier\n",
    "    xx: meshgrid ndarray\n",
    "    yy: meshgrid ndarray\n",
    "    params: dictionary of params to pass to contourf, optional\n",
    "    \"\"\"\n",
    "    Z = clf.predict(np.c_[xx.ravel(), yy.ravel()])\n",
    "    Z = Z.reshape(xx.shape)\n",
    "    out = ax.contourf(xx, yy, Z, **params)\n",
    "    return out\n",
    "\n",
    "# 训练 skrlearn 中的感知机\n",
    "clf = Perceptron(max_iter=40, tol=10).fit(X_train, y_train)\n",
    "# 根据上面暴力实现得到的 w 和 b 来修改感知机\n",
    "clf.coef_[0][0], clf.coef_[0][1], clf.intercept_[0] = w[0], w[1], b\n",
    "\n",
    "# 设置字体大小\n",
    "plt.rcParams.update({'font.size': 13})\n",
    "fig, ax = plt.subplots(figsize = (6, 3), nrows=1, ncols=1)\n",
    "fig.subplots_adjust(left=0.25, right=0.75, top=0.999, bottom=0.1)\n",
    "\n",
    "# 在两个并排的subfigure中绘制训练集和测试集\n",
    "cm, markers = ListedColormap(('forestgreen', 'peru')), ('x', 'o')\n",
    "xlabel = r\"epochs：{}，测试集准确率：{:.2%}\".format(epochs, test_accuracy)\n",
    "\n",
    "# 绘制决策区域\n",
    "X0, X1 = X_test[:, 0], X_test[:, 1]\n",
    "xx, yy = make_meshgrid(X0, X1)\n",
    "plot_contours(ax, clf, xx, yy, cmap=cm, alpha=0.4)\n",
    "ax.set(xticks=[], yticks=[])\n",
    "ax.set_xlim(xx.min(), xx.max()), ax.set_ylim(yy.min(), yy.max()) \n",
    "ax.set_xlabel(xlabel)\n",
    "\n",
    "# 绘制点集\n",
    "vmin, vmax = min(y), max(y)\n",
    "for cl, m in zip(np.unique(y), markers):\n",
    "  ax.scatter(x=X0[y_test==cl], y=X1[y_test==cl], c=y_test[y_test==cl], alpha=1, vmin = vmin, vmax = vmax, cmap=cm, edgecolors='k', marker = m)\n",
    "\n",
    "# 绘制决策直线\n",
    "w1, w2, b = clf.coef_[0][0], clf.coef_[0][1], clf.intercept_[0]\n",
    "lx = np.linspace(xx.min(), xx.max())\n",
    "ly = - w1 / w2 * lx  - b / w2\n",
    "ax.plot(lx, ly, 'k-')\n",
    "\n",
    "plt.show()"
   ]
  },
  {
   "cell_type": "markdown",
   "id": "dd91a17a",
   "metadata": {
    "pycharm": {
     "name": "#%% md\n"
    }
   },
   "source": [
    "### 2.8-3"
   ]
  },
  {
   "cell_type": "code",
   "execution_count": 132,
   "id": "17af3970",
   "metadata": {
    "pycharm": {
     "name": "#%%\n"
    }
   },
   "outputs": [
    {
     "name": "stdout",
     "output_type": "stream",
     "text": [
      "总共有 100 个数据，其中训练验证集中有 80 个数据，测试集中有 20 个数据。\n",
      "第 1 折，训练集准确率 79.17% ，验证集准确率 87.50%\n",
      "第 2 折，训练集准确率 94.44% ，验证集准确率 87.50%\n",
      "第 3 折，训练集准确率 95.83% ，验证集准确率 75.00%\n",
      "第 4 折，训练集准确率 94.44% ，验证集准确率 100.00%\n",
      "第 5 折，训练集准确率 94.44% ，验证集准确率 87.50%\n",
      "第 6 折，训练集准确率 94.44% ，验证集准确率 100.00%\n",
      "第 7 折，训练集准确率 94.44% ，验证集准确率 100.00%\n",
      "第 8 折，训练集准确率 95.83% ，验证集准确率 87.50%\n",
      "第 9 折，训练集准确率 94.44% ，验证集准确率 100.00%\n",
      "第 10 折，训练集准确率 95.83% ，验证集准确率 87.50%\n",
      "epochs = 100，验证集准确率的平均值为 91.25%。\n"
     ]
    }
   ],
   "source": [
    "import numpy as np\n",
    "import matplotlib.pyplot as plt\n",
    "from sklearn.model_selection import train_test_split\n",
    "from sklearn import datasets\n",
    "from sklearn.model_selection import KFold\n",
    "from matplotlib.colors import ListedColormap\n",
    "\n",
    "# 超参数\n",
    "epochs = 100 # 固定的迭代次数\n",
    "\n",
    "# 参数\n",
    "w, b = np.array([0, 0]), 0 # np.array 相当于定义向量\n",
    "\n",
    "# 定义 d(x) 函数\n",
    "def d(x):\n",
    "    return np.dot(w,x)+b # np.dot 是向量的点积\n",
    "\n",
    "# 定义 sign 函数\n",
    "def sign(x):\n",
    "    return 1 if x >= 0 else -1\n",
    "\n",
    "# 定义 h(x) 函数\n",
    "def h(x):\n",
    "    return sign(d(x))\n",
    "\n",
    "# 计算决策边界的评分\n",
    "def clf_score(X, y):\n",
    "    score = 0\n",
    "    for xi, yi in zip(X, y):\n",
    "        score += yi*h(xi)\n",
    "    return score\n",
    "\n",
    "# 感知机的口袋算法\n",
    "def PLA_pocket(X, y):\n",
    "    global epochs, w, b\n",
    "\n",
    "    w, b = np.array([0, 0]), 0 # np.array 相当于定义向量\n",
    "    best_w, best_b = w, b\n",
    "    best_cs = clf_score(X, y)\n",
    "    for _ in range(epochs):\n",
    "\n",
    "        # 顺序遍及数据集 X\n",
    "        for xi, yi in zip(X, y):\n",
    "            # 如果有分错的\n",
    "            if yi*d(xi) <= 0:\n",
    "                # 更新法向量 lw 和 lb\n",
    "                w, b = w + yi*xi, b + yi\n",
    "                # 对新得到的决策边界进行评分\n",
    "                cs = clf_score(X, y)\n",
    "                # 如果更好，则进行更新\n",
    "                if cs > best_cs:\n",
    "                    best_cs = cs\n",
    "                    best_w, best_b = w, b\n",
    "                break\n",
    "\n",
    "    w, b = best_w, best_b\n",
    "\n",
    "# 以下是训练代码\n",
    "# 载入iris数据集\n",
    "iris = datasets.load_iris()\n",
    "# 取后面100个数据，并且只取最后两个特征，以及取出对应的类别\n",
    "sampleNumber = 100\n",
    "X = iris.data[50:50+sampleNumber, [2,3]]\n",
    "# iris 数据集的类别是0, 1, 2，为了运用我们实现的感知机算法，这里将后两个类别改为-1, 1\n",
    "y = np.where(iris.target[50:50+sampleNumber] == 1, -1, 1)\n",
    "\n",
    "# 借助 train_test_split 进行随机分割，按照 8 : 2  的比例划分为训练验证集、测试集\n",
    "rs = 42\n",
    "X_tv, X_test, y_tv, y_test = train_test_split(X, y, test_size=0.2, random_state=rs)\n",
    "print(r'总共有 {} 个数据，其中训练验证集中有 {} 个数据，测试集中有 {} 个数据。'.format(len(X), len(X_tv), len(X_test)))\n",
    "\n",
    "# 在 X_tv 上进行 k 折交叉验证\n",
    "k = 10\n",
    "kf = KFold(n_splits=k, random_state=rs, shuffle=True)\n",
    "val_accuracy = 0\n",
    "for idx, (train, val) in zip(range(k), kf.split(X_tv)):\n",
    "    X_train, y_train, X_val, y_val = X_tv[train], y_tv[train], X_tv[val], y_tv[val]\n",
    "    PLA_pocket(X_train, y_train)\n",
    "    split_train_accuracy = 1 - (len(X_train) - clf_score(X_train, y_train))/2/len(X_train)\n",
    "    split_val_accuracy = 1 - (len(X_val) - clf_score(X_val, y_val))/2/len(X_val)\n",
    "    print(r'第 {} 折，训练集准确率 {:.2%} ，验证集准确率 {:.2%}'.format(idx + 1, split_train_accuracy, split_val_accuracy))\n",
    "    val_accuracy += split_val_accuracy\n",
    "print(r'epochs = {}，验证集准确率的平均值为 {:.2%}。'.format(epochs, val_accuracy / k))"
   ]
  },
  {
   "cell_type": "code",
   "execution_count": 129,
   "id": "08c1302f",
   "metadata": {
    "pycharm": {
     "name": "#%%\n"
    }
   },
   "outputs": [
    {
     "data": {
      "text/plain": [
       "(80, 2)"
      ]
     },
     "execution_count": 129,
     "metadata": {},
     "output_type": "execute_result"
    }
   ],
   "source": [
    "X_tv.shape"
   ]
  },
  {
   "cell_type": "markdown",
   "id": "13ef230b",
   "metadata": {
    "pycharm": {
     "name": "#%% md\n"
    }
   },
   "source": [
    "### 2.8-6"
   ]
  },
  {
   "cell_type": "code",
   "execution_count": 25,
   "id": "aa5fd08d",
   "metadata": {
    "pycharm": {
     "name": "#%%\n"
    }
   },
   "outputs": [
    {
     "name": "stdout",
     "output_type": "stream",
     "text": [
      "总共有 100 个数据，其中训练验证集中有 80 个数据，测试集中有 20 个数据。\n",
      "epochs = 100，k=10，验证集准确率的平均值为 91.25%。\n",
      "epochs = 100，k=20，验证集准确率的平均值为 91.25%。\n",
      "epochs = 100，k=30，验证集准确率的平均值为 91.67%。\n",
      "epochs = 100，k=40，验证集准确率的平均值为 91.25%。\n",
      "epochs = 200，k=10，验证集准确率的平均值为 91.25%。\n",
      "epochs = 200，k=20，验证集准确率的平均值为 91.25%。\n",
      "epochs = 200，k=30，验证集准确率的平均值为 91.67%。\n",
      "epochs = 200，k=40，验证集准确率的平均值为 91.25%。\n",
      "epochs = 300，k=10，验证集准确率的平均值为 91.25%。\n",
      "epochs = 300，k=20，验证集准确率的平均值为 91.25%。\n",
      "epochs = 300，k=30，验证集准确率的平均值为 91.67%。\n",
      "epochs = 300，k=40，验证集准确率的平均值为 91.25%。\n",
      "epochs = 400，k=10，验证集准确率的平均值为 88.75%。\n",
      "epochs = 400，k=20，验证集准确率的平均值为 91.25%。\n",
      "epochs = 400，k=30，验证集准确率的平均值为 91.67%。\n",
      "epochs = 400，k=40，验证集准确率的平均值为 91.25%。\n"
     ]
    }
   ],
   "source": [
    "import numpy as np\n",
    "import matplotlib.pyplot as plt\n",
    "from sklearn.model_selection import train_test_split\n",
    "from sklearn import datasets\n",
    "from sklearn.model_selection import KFold\n",
    "from matplotlib.colors import ListedColormap\n",
    "\n",
    "# 超参数\n",
    "epochs = 100 # 固定的迭代次数\n",
    "\n",
    "# 参数\n",
    "w, b = np.array([0, 0]), 0 # np.array 相当于定义向量\n",
    "\n",
    "# 定义 d(x) 函数\n",
    "def d(x):\n",
    "    return np.dot(w,x)+b # np.dot 是向量的点积\n",
    "\n",
    "# 定义 sign 函数\n",
    "def sign(x):\n",
    "    return 1 if x >= 0 else -1\n",
    "\n",
    "# 定义 h(x) 函数\n",
    "def h(x):\n",
    "    return sign(d(x))\n",
    "\n",
    "# 计算决策边界的评分\n",
    "def clf_score(X, y):\n",
    "    score = 0\n",
    "    for xi, yi in zip(X, y):\n",
    "        score += yi*h(xi)\n",
    "    return score\n",
    "\n",
    "# 感知机的口袋算法\n",
    "def PLA_pocket(X, y):\n",
    "    global epochs, w, b\n",
    "\n",
    "    w, b = np.array([0, 0]), 0 # np.array 相当于定义向量\n",
    "    best_w, best_b = w, b\n",
    "    best_cs = clf_score(X, y)\n",
    "    for _ in range(epochs):\n",
    "\n",
    "        # 顺序遍及数据集 X\n",
    "        for xi, yi in zip(X, y):\n",
    "            # 如果有分错的\n",
    "            if yi*d(xi) <= 0:\n",
    "                # 更新法向量 lw 和 lb\n",
    "                w, b = w + yi*xi, b + yi\n",
    "                # 对新得到的决策边界进行评分\n",
    "                cs = clf_score(X, y)\n",
    "                # 如果更好，则进行更新\n",
    "                if cs > best_cs:\n",
    "                    best_cs = cs\n",
    "                    best_w, best_b = w, b\n",
    "                break\n",
    "\n",
    "    w, b = best_w, best_b\n",
    "\n",
    "# 以下是训练代码\n",
    "# 载入iris数据集\n",
    "iris = datasets.load_iris()\n",
    "# 取后面100个数据，并且只取最后两个特征，以及取出对应的类别\n",
    "sampleNumber = 100\n",
    "X = iris.data[50:50+sampleNumber, [2,3]]\n",
    "# iris 数据集的类别是0, 1, 2，为了运用我们实现的感知机算法，这里将后两个类别改为-1, 1\n",
    "y = np.where(iris.target[50:50+sampleNumber] == 1, -1, 1)\n",
    "\n",
    "# 借助 train_test_split 进行随机分割，按照 8 : 2  的比例划分为训练验证集、测试集\n",
    "rs = 42\n",
    "X_tv, X_test, y_tv, y_test = train_test_split(X, y, test_size=0.2, random_state=rs)\n",
    "print(r'总共有 {} 个数据，其中训练验证集中有 {} 个数据，测试集中有 {} 个数据。'.format(len(X), len(X_tv), len(X_test)))\n",
    "\n",
    "# 组合两个超参数，计算各种组合得到的验证集准确率的平均值\n",
    "for epochs in  range(100, 500, 100):\n",
    "    for k in range(10, 50, 10):\n",
    "        kf = KFold(n_splits=k, random_state=rs, shuffle=True)\n",
    "        val_accuracy = 0\n",
    "        for idx, (train, val) in zip(range(k), kf.split(X_tv)):\n",
    "            X_train, y_train, X_val, y_val = X_tv[train], y_tv[train], X_tv[val], y_tv[val]\n",
    "            PLA_pocket(X_train, y_train)\n",
    "            val_accuracy += 1 - (len(X_val) - clf_score(X_val, y_val))/2/len(X_val)\n",
    "        print(r'epochs = {}，k={}，验证集准确率的平均值为 {:.2%}。'.format(epochs, k, val_accuracy / k))"
   ]
  },
  {
   "cell_type": "code",
   "execution_count": null,
   "id": "9fb65471",
   "metadata": {
    "pycharm": {
     "name": "#%%\n"
    }
   },
   "outputs": [],
   "source": []
  }
 ],
 "metadata": {
  "kernelspec": {
   "display_name": "Python 3 (ipykernel)",
   "language": "python",
   "name": "python3"
  },
  "language_info": {
   "codemirror_mode": {
    "name": "ipython",
    "version": 3
   },
   "file_extension": ".py",
   "mimetype": "text/x-python",
   "name": "python",
   "nbconvert_exporter": "python",
   "pygments_lexer": "ipython3",
   "version": "3.10.9"
  }
 },
 "nbformat": 4,
 "nbformat_minor": 5
}
