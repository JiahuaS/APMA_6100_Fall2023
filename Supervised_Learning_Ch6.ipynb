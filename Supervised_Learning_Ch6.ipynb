{
 "cells": [
  {
   "cell_type": "markdown",
   "id": "d145e72c",
   "metadata": {},
   "source": [
    "# 7.3"
   ]
  },
  {
   "cell_type": "code",
   "execution_count": 1,
   "id": "0ac67b93",
   "metadata": {},
   "outputs": [
    {
     "ename": "ModuleNotFoundError",
     "evalue": "No module named 'cvxpy'",
     "output_type": "error",
     "traceback": [
      "\u001b[0;31m---------------------------------------------------------------------------\u001b[0m",
      "\u001b[0;31mModuleNotFoundError\u001b[0m                       Traceback (most recent call last)",
      "Cell \u001b[0;32mIn[1], line 2\u001b[0m\n\u001b[1;32m      1\u001b[0m \u001b[38;5;66;03m# 导入凸优化库\u001b[39;00m\n\u001b[0;32m----> 2\u001b[0m \u001b[38;5;28;01mimport\u001b[39;00m \u001b[38;5;21;01mcvxpy\u001b[39;00m \u001b[38;5;28;01mas\u001b[39;00m \u001b[38;5;21;01mcp\u001b[39;00m\n\u001b[1;32m      3\u001b[0m \u001b[38;5;66;03m# 输入要优化的目标，这里是 min 1/2||w||^2\u001b[39;00m\n\u001b[1;32m      4\u001b[0m objective \u001b[38;5;241m=\u001b[39m cp\u001b[38;5;241m.\u001b[39mMinimize(\u001b[38;5;241m0.5\u001b[39m\u001b[38;5;241m*\u001b[39mcp\u001b[38;5;241m.\u001b[39mnorm(w)\u001b[38;5;241m*\u001b[39m\u001b[38;5;241m*\u001b[39m\u001b[38;5;241m2\u001b[39m) \n",
      "\u001b[0;31mModuleNotFoundError\u001b[0m: No module named 'cvxpy'"
     ]
    }
   ],
   "source": [
    "# 导入凸优化库\n",
    "import cvxpy as cp\n",
    "# 输入要优化的目标，这里是 min 1/2||w||^2\n",
    "objective = cp.Minimize(0.5*cp.norm(w)**2) \n",
    "# 输入约束条件，这里使 y*(wx+b) >= 1\n",
    "constraints = [cp.multiply(y, x*w + b) >= 1 ]\n",
    "#构造凸优化问题\n",
    "prob = cp.Problem(objective, constraints)\n",
    "#解出结果\n",
    "prob.solve()"
   ]
  },
  {
   "cell_type": "code",
   "execution_count": 3,
   "id": "fcf18358",
   "metadata": {},
   "outputs": [
    {
     "name": "stderr",
     "output_type": "stream",
     "text": [
      "/var/folders/v2/5qft7fyx4md0d3vhbjvb64wr0000gn/T/ipykernel_1689/1081115998.py:41: UserWarning: You passed a edgecolor/edgecolors ('k') for an unfilled marker ('x').  Matplotlib is ignoring the edgecolor in favor of the facecolor.  This behavior may change in the future.\n",
      "  ax.scatter(x=X[y==cl, 0], y=X[y==cl, 1], alpha=1, c=color, edgecolors='k', marker = m, zorder=9)\n"
     ]
    },
    {
     "data": {
      "image/png": "[encoded data removed]",
      "text/plain": [
       "<Figure size 432x216 with 1 Axes>"
      ]
     },
     "metadata": {},
     "output_type": "display_data"
    }
   ],
   "source": [
    "import numpy as np\n",
    "import cvxpy as cp\n",
    "import matplotlib.pyplot as plt\n",
    "from sklearn import datasets\n",
    "from matplotlib.colors import ListedColormap\n",
    "\n",
    "# 三个点的数据集\n",
    "X = np.array([[3, 3],[4, 3],[1, 1],])\n",
    "y = np.array([1,1,-1,])\n",
    "\n",
    "\n",
    "# 凸优化\n",
    "n = X.shape[1]\t# 样本的特征个数\n",
    "w = cp.Variable((n,1)) \t# 有多少个特征，就对应几维的 w\n",
    "b = cp.Variable() \t\t# 一维向量\n",
    "objective = cp.Minimize(0.5*cp.norm(w)**2) # 优化的目标，即 min 1/2||w||^2\n",
    "constraints = [cp.multiply(y.reshape(-1,1), X@w + b) >= 1 ] #约束条件，即 y*(wx+b) >= 1，X 是矩阵所以用 @\n",
    "prob = cp.Problem(objective, constraints) # 构造凸优化问题\n",
    "prob.solve() # 解出结果\n",
    "\n",
    "# 根据优化求出的 w 和 b 构造决策边界\n",
    "def h(xx):\n",
    "\treturn - w.value[0]/w.value[1] * xx  - b.value / w.value[1]\n",
    "\n",
    "# 设置字体大小\n",
    "plt.rcParams.update({'font.size': 13})\n",
    "# 找出数据的边界\n",
    "x1_min, x1_max = -1, 5.5\n",
    "x2_min, x2_max = -1, 5.5\n",
    "# 设置画布和坐标系\n",
    "fig, ax = plt.subplots(figsize = (6, 3), nrows=1, ncols=1)\n",
    "fig.subplots_adjust(left=0.25, right=0.75, top=0.999, bottom=0.1)\n",
    "ax.set_xticks(()),ax.set_yticks(())\n",
    "ax.set_xlim(x1_min-0.3, x1_max+0.3),ax.set_ylim(x2_min-0.3, x2_max+0.3)\n",
    "ax.set_xlabel(r'$w^T=({:.2f},{:.2f}), b={:.2f}$'.format(w.value[0][0], w.value[1][0], b.value))\n",
    "\n",
    "# 根据类别不同，绘制不同形状的点\n",
    "markers = ('x', 'o')\n",
    "colors = ('blue', 'red')\n",
    "for cl, m, color in zip(np.unique(y), markers, colors):\n",
    "\tax.scatter(x=X[y==cl, 0], y=X[y==cl, 1], alpha=1, c=color, edgecolors='k', marker = m, zorder=9)\n",
    "\n",
    "# 绘制决策边界的宽度\n",
    "xx1 = np.arange(x1_min-1, x1_max+1, 0.1)\n",
    "ax.plot(xx1, h(xx1)+1/w.value[1], 'r--', lw=1, alpha=0.4)\t# 宽度上界\n",
    "ax.plot(xx1, h(xx1), 'k', lw=1)\t\t\t\t\t\t\t\t# 决策边界\n",
    "ax.plot(xx1, h(xx1)-1/w.value[1], 'b--', lw=1, alpha=0.4)\t# 宽度下界\n",
    "ax.fill_between(xx1, h(xx1)-1/w.value[1], h(xx1)+1/w.value[1], color='skyblue', alpha=0.2)\n",
    "\n",
    "plt.show()"
   ]
  },
  {
   "cell_type": "markdown",
   "id": "06f90687",
   "metadata": {},
   "source": [
    "# 7.5"
   ]
  },
  {
   "cell_type": "code",
   "execution_count": 26,
   "id": "d224c6c1",
   "metadata": {},
   "outputs": [
    {
     "name": "stdout",
     "output_type": "stream",
     "text": [
      "λ1 ≈ 0.250000, λ2 ≈ 0.000000, λ3 ≈ 0.250000\n",
      "w1 ≈ 0.500000, w2 ≈ 0.500000, b ≈ -2.000000\n"
     ]
    }
   ],
   "source": [
    "import numpy as np\n",
    "import cvxpy as cp\n",
    "import matplotlib.pyplot as plt\n",
    "from sklearn import datasets\n",
    "from matplotlib.colors import ListedColormap\n",
    "\n",
    "# 三个点的数据集\n",
    "X = np.array([[3, 3],[4, 3],[1, 1],])\n",
    "y = np.array([1,1,-1,])\n",
    "\n",
    "# 凸优化\n",
    "m = X.shape[0]\t# 样本数\n",
    "# 构造约束条件\n",
    "lambdas = cp.Variable(m)\n",
    "constraint_1 = [lambdas[i] >=0 for i in range(m)]\n",
    "constraint_2 = [lambdas@y.T == 0]\n",
    "# 构造优化的目标\n",
    "yX = y.reshape(-1,1)*X\n",
    "K = yX@yX.T\n",
    "objective_dual = cp.Minimize(1/2*cp.quad_form(lambdas,K)-cp.sum(lambdas))\n",
    "# 构造凸优化问题并求解\n",
    "prob_dual = cp.Problem(objective_dual,constraint_1+constraint_2)\n",
    "prob_dual.solve()\n",
    "\n",
    "# 得到支持向量\n",
    "lambdas = lambdas.value\n",
    "support_y = y[lambdas > 0.00001]\n",
    "support_X = X[lambdas > 0.00001]\n",
    "support_lambdas = lambdas[lambdas > 0.00001]\n",
    "\n",
    "# 根据支持向量算出 w 和 b\n",
    "w = np.sum((support_lambdas*support_y).reshape(-1, 1)*support_X, axis=0)\n",
    "b = support_y[0] - np.sum((support_lambdas*support_y).reshape(-1, 1)*support_X@support_X[0].reshape(-1,1))\n",
    "\n",
    "print('λ1 ≈ {:.6f}, λ2 ≈ {:.6f}, λ3 ≈ {:.6f}'.format(lambdas[0], lambdas[1], lambdas[2]))\n",
    "print('w1 ≈ {:.6f}, w2 ≈ {:.6f}, b ≈ {:.6f}'.format(w[0], w[1], b))"
   ]
  },
  {
   "cell_type": "markdown",
   "id": "4a7b824f",
   "metadata": {},
   "source": [
    "# 7.6"
   ]
  },
  {
   "cell_type": "code",
   "execution_count": 28,
   "id": "d54d784f",
   "metadata": {},
   "outputs": [
    {
     "ename": "DCPError",
     "evalue": "Problem does not follow DCP rules. Specifically:\nThe objective is not DCP. Its following subexpressions are not:\nQuadForm(var151, [[ 10.6272       1.412352   -48.647232     6.815808   -42.306336\n  -57.62664   ]\n [  1.412352     3.47410432 -27.62662912   0.97788928 -25.35245056\n   -9.245952  ]\n [-48.647232   -27.62662912 358.94849792 -31.66421248 320.70492736\n  274.0139008 ]\n [  6.815808     0.97788928 -31.66421248   4.37293312 -27.56605504\n  -36.9939456 ]\n [-42.306336   -25.35245056 320.70492736 -27.56605504 286.86827296\n  238.93857936]\n [-57.62664     -9.245952   274.0139008  -36.9939456  238.93857936\n  313.25070352]])",
     "output_type": "error",
     "traceback": [
      "\u001b[0;31m---------------------------------------------------------------------------\u001b[0m",
      "\u001b[0;31mDCPError\u001b[0m                                  Traceback (most recent call last)",
      "Input \u001b[0;32mIn [28]\u001b[0m, in \u001b[0;36m<cell line: 24>\u001b[0;34m()\u001b[0m\n\u001b[1;32m     22\u001b[0m \u001b[38;5;66;03m# 构造凸优化问题并求解\u001b[39;00m\n\u001b[1;32m     23\u001b[0m prob_dual \u001b[38;5;241m=\u001b[39m cp\u001b[38;5;241m.\u001b[39mProblem(objective_dual,constraint_1\u001b[38;5;241m+\u001b[39mconstraint_2)\n\u001b[0;32m---> 24\u001b[0m \u001b[43mprob_dual\u001b[49m\u001b[38;5;241;43m.\u001b[39;49m\u001b[43msolve\u001b[49m\u001b[43m(\u001b[49m\u001b[43m)\u001b[49m\n\u001b[1;32m     26\u001b[0m \u001b[38;5;66;03m# 得到支持向量\u001b[39;00m\n\u001b[1;32m     27\u001b[0m lambdas \u001b[38;5;241m=\u001b[39m lambdas\u001b[38;5;241m.\u001b[39mvalue\n",
      "File \u001b[0;32m~/opt/anaconda3/lib/python3.9/site-packages/cvxpy/problems/problem.py:493\u001b[0m, in \u001b[0;36mProblem.solve\u001b[0;34m(self, *args, **kwargs)\u001b[0m\n\u001b[1;32m    491\u001b[0m \u001b[38;5;28;01melse\u001b[39;00m:\n\u001b[1;32m    492\u001b[0m     solve_func \u001b[38;5;241m=\u001b[39m Problem\u001b[38;5;241m.\u001b[39m_solve\n\u001b[0;32m--> 493\u001b[0m \u001b[38;5;28;01mreturn\u001b[39;00m \u001b[43msolve_func\u001b[49m\u001b[43m(\u001b[49m\u001b[38;5;28;43mself\u001b[39;49m\u001b[43m,\u001b[49m\u001b[43m \u001b[49m\u001b[38;5;241;43m*\u001b[39;49m\u001b[43margs\u001b[49m\u001b[43m,\u001b[49m\u001b[43m \u001b[49m\u001b[38;5;241;43m*\u001b[39;49m\u001b[38;5;241;43m*\u001b[39;49m\u001b[43mkwargs\u001b[49m\u001b[43m)\u001b[49m\n",
      "File \u001b[0;32m~/opt/anaconda3/lib/python3.9/site-packages/cvxpy/problems/problem.py:1054\u001b[0m, in \u001b[0;36mProblem._solve\u001b[0;34m(self, solver, warm_start, verbose, gp, qcp, requires_grad, enforce_dpp, ignore_dpp, canon_backend, **kwargs)\u001b[0m\n\u001b[1;32m   1051\u001b[0m         \u001b[38;5;28mself\u001b[39m\u001b[38;5;241m.\u001b[39munpack(chain\u001b[38;5;241m.\u001b[39mretrieve(soln))\n\u001b[1;32m   1052\u001b[0m         \u001b[38;5;28;01mreturn\u001b[39;00m \u001b[38;5;28mself\u001b[39m\u001b[38;5;241m.\u001b[39mvalue\n\u001b[0;32m-> 1054\u001b[0m data, solving_chain, inverse_data \u001b[38;5;241m=\u001b[39m \u001b[38;5;28;43mself\u001b[39;49m\u001b[38;5;241;43m.\u001b[39;49m\u001b[43mget_problem_data\u001b[49m\u001b[43m(\u001b[49m\n\u001b[1;32m   1055\u001b[0m \u001b[43m    \u001b[49m\u001b[43msolver\u001b[49m\u001b[43m,\u001b[49m\u001b[43m \u001b[49m\u001b[43mgp\u001b[49m\u001b[43m,\u001b[49m\u001b[43m \u001b[49m\u001b[43menforce_dpp\u001b[49m\u001b[43m,\u001b[49m\u001b[43m \u001b[49m\u001b[43mignore_dpp\u001b[49m\u001b[43m,\u001b[49m\u001b[43m \u001b[49m\u001b[43mverbose\u001b[49m\u001b[43m,\u001b[49m\u001b[43m \u001b[49m\u001b[43mcanon_backend\u001b[49m\u001b[43m,\u001b[49m\u001b[43m \u001b[49m\u001b[43mkwargs\u001b[49m\n\u001b[1;32m   1056\u001b[0m \u001b[43m\u001b[49m\u001b[43m)\u001b[49m\n\u001b[1;32m   1058\u001b[0m \u001b[38;5;28;01mif\u001b[39;00m verbose:\n\u001b[1;32m   1059\u001b[0m     \u001b[38;5;28mprint\u001b[39m(_NUM_SOLVER_STR)\n",
      "File \u001b[0;32m~/opt/anaconda3/lib/python3.9/site-packages/cvxpy/problems/problem.py:631\u001b[0m, in \u001b[0;36mProblem.get_problem_data\u001b[0;34m(self, solver, gp, enforce_dpp, ignore_dpp, verbose, canon_backend, solver_opts)\u001b[0m\n\u001b[1;32m    629\u001b[0m \u001b[38;5;28;01mif\u001b[39;00m key \u001b[38;5;241m!=\u001b[39m \u001b[38;5;28mself\u001b[39m\u001b[38;5;241m.\u001b[39m_cache\u001b[38;5;241m.\u001b[39mkey:\n\u001b[1;32m    630\u001b[0m     \u001b[38;5;28mself\u001b[39m\u001b[38;5;241m.\u001b[39m_cache\u001b[38;5;241m.\u001b[39minvalidate()\n\u001b[0;32m--> 631\u001b[0m     solving_chain \u001b[38;5;241m=\u001b[39m \u001b[38;5;28;43mself\u001b[39;49m\u001b[38;5;241;43m.\u001b[39;49m\u001b[43m_construct_chain\u001b[49m\u001b[43m(\u001b[49m\n\u001b[1;32m    632\u001b[0m \u001b[43m        \u001b[49m\u001b[43msolver\u001b[49m\u001b[38;5;241;43m=\u001b[39;49m\u001b[43msolver\u001b[49m\u001b[43m,\u001b[49m\u001b[43m \u001b[49m\u001b[43mgp\u001b[49m\u001b[38;5;241;43m=\u001b[39;49m\u001b[43mgp\u001b[49m\u001b[43m,\u001b[49m\n\u001b[1;32m    633\u001b[0m \u001b[43m        \u001b[49m\u001b[43menforce_dpp\u001b[49m\u001b[38;5;241;43m=\u001b[39;49m\u001b[43menforce_dpp\u001b[49m\u001b[43m,\u001b[49m\n\u001b[1;32m    634\u001b[0m \u001b[43m        \u001b[49m\u001b[43mignore_dpp\u001b[49m\u001b[38;5;241;43m=\u001b[39;49m\u001b[43mignore_dpp\u001b[49m\u001b[43m,\u001b[49m\n\u001b[1;32m    635\u001b[0m \u001b[43m        \u001b[49m\u001b[43mcanon_backend\u001b[49m\u001b[38;5;241;43m=\u001b[39;49m\u001b[43mcanon_backend\u001b[49m\u001b[43m,\u001b[49m\n\u001b[1;32m    636\u001b[0m \u001b[43m        \u001b[49m\u001b[43msolver_opts\u001b[49m\u001b[38;5;241;43m=\u001b[39;49m\u001b[43msolver_opts\u001b[49m\u001b[43m)\u001b[49m\n\u001b[1;32m    637\u001b[0m     \u001b[38;5;28mself\u001b[39m\u001b[38;5;241m.\u001b[39m_cache\u001b[38;5;241m.\u001b[39mkey \u001b[38;5;241m=\u001b[39m key\n\u001b[1;32m    638\u001b[0m     \u001b[38;5;28mself\u001b[39m\u001b[38;5;241m.\u001b[39m_cache\u001b[38;5;241m.\u001b[39msolving_chain \u001b[38;5;241m=\u001b[39m solving_chain\n",
      "File \u001b[0;32m~/opt/anaconda3/lib/python3.9/site-packages/cvxpy/problems/problem.py:883\u001b[0m, in \u001b[0;36mProblem._construct_chain\u001b[0;34m(self, solver, gp, enforce_dpp, ignore_dpp, canon_backend, solver_opts)\u001b[0m\n\u001b[1;32m    881\u001b[0m candidate_solvers \u001b[38;5;241m=\u001b[39m \u001b[38;5;28mself\u001b[39m\u001b[38;5;241m.\u001b[39m_find_candidate_solvers(solver\u001b[38;5;241m=\u001b[39msolver, gp\u001b[38;5;241m=\u001b[39mgp)\n\u001b[1;32m    882\u001b[0m \u001b[38;5;28mself\u001b[39m\u001b[38;5;241m.\u001b[39m_sort_candidate_solvers(candidate_solvers)\n\u001b[0;32m--> 883\u001b[0m \u001b[38;5;28;01mreturn\u001b[39;00m \u001b[43mconstruct_solving_chain\u001b[49m\u001b[43m(\u001b[49m\u001b[38;5;28;43mself\u001b[39;49m\u001b[43m,\u001b[49m\u001b[43m \u001b[49m\u001b[43mcandidate_solvers\u001b[49m\u001b[43m,\u001b[49m\u001b[43m \u001b[49m\u001b[43mgp\u001b[49m\u001b[38;5;241;43m=\u001b[39;49m\u001b[43mgp\u001b[49m\u001b[43m,\u001b[49m\n\u001b[1;32m    884\u001b[0m \u001b[43m                               \u001b[49m\u001b[43menforce_dpp\u001b[49m\u001b[38;5;241;43m=\u001b[39;49m\u001b[43menforce_dpp\u001b[49m\u001b[43m,\u001b[49m\n\u001b[1;32m    885\u001b[0m \u001b[43m                               \u001b[49m\u001b[43mignore_dpp\u001b[49m\u001b[38;5;241;43m=\u001b[39;49m\u001b[43mignore_dpp\u001b[49m\u001b[43m,\u001b[49m\n\u001b[1;32m    886\u001b[0m \u001b[43m                               \u001b[49m\u001b[43mcanon_backend\u001b[49m\u001b[38;5;241;43m=\u001b[39;49m\u001b[43mcanon_backend\u001b[49m\u001b[43m,\u001b[49m\n\u001b[1;32m    887\u001b[0m \u001b[43m                               \u001b[49m\u001b[43msolver_opts\u001b[49m\u001b[38;5;241;43m=\u001b[39;49m\u001b[43msolver_opts\u001b[49m\u001b[43m)\u001b[49m\n",
      "File \u001b[0;32m~/opt/anaconda3/lib/python3.9/site-packages/cvxpy/reductions/solvers/solving_chain.py:184\u001b[0m, in \u001b[0;36mconstruct_solving_chain\u001b[0;34m(problem, candidates, gp, enforce_dpp, ignore_dpp, canon_backend, solver_opts)\u001b[0m\n\u001b[1;32m    182\u001b[0m \u001b[38;5;28;01mif\u001b[39;00m \u001b[38;5;28mlen\u001b[39m(problem\u001b[38;5;241m.\u001b[39mvariables()) \u001b[38;5;241m==\u001b[39m \u001b[38;5;241m0\u001b[39m:\n\u001b[1;32m    183\u001b[0m     \u001b[38;5;28;01mreturn\u001b[39;00m SolvingChain(reductions\u001b[38;5;241m=\u001b[39m[ConstantSolver()])\n\u001b[0;32m--> 184\u001b[0m reductions \u001b[38;5;241m=\u001b[39m \u001b[43m_reductions_for_problem_class\u001b[49m\u001b[43m(\u001b[49m\u001b[43mproblem\u001b[49m\u001b[43m,\u001b[49m\u001b[43m \u001b[49m\u001b[43mcandidates\u001b[49m\u001b[43m,\u001b[49m\u001b[43m \u001b[49m\u001b[43mgp\u001b[49m\u001b[43m,\u001b[49m\u001b[43m \u001b[49m\u001b[43msolver_opts\u001b[49m\u001b[43m)\u001b[49m\n\u001b[1;32m    186\u001b[0m \u001b[38;5;66;03m# Process DPP status of the problem.\u001b[39;00m\n\u001b[1;32m    187\u001b[0m dpp_context \u001b[38;5;241m=\u001b[39m \u001b[38;5;124m'\u001b[39m\u001b[38;5;124mdcp\u001b[39m\u001b[38;5;124m'\u001b[39m \u001b[38;5;28;01mif\u001b[39;00m \u001b[38;5;129;01mnot\u001b[39;00m gp \u001b[38;5;28;01melse\u001b[39;00m \u001b[38;5;124m'\u001b[39m\u001b[38;5;124mdgp\u001b[39m\u001b[38;5;124m'\u001b[39m\n",
      "File \u001b[0;32m~/opt/anaconda3/lib/python3.9/site-packages/cvxpy/reductions/solvers/solving_chain.py:102\u001b[0m, in \u001b[0;36m_reductions_for_problem_class\u001b[0;34m(problem, candidates, gp, solver_opts)\u001b[0m\n\u001b[1;32m     99\u001b[0m     \u001b[38;5;28;01melif\u001b[39;00m problem\u001b[38;5;241m.\u001b[39mis_dqcp():\n\u001b[1;32m    100\u001b[0m         append \u001b[38;5;241m+\u001b[39m\u001b[38;5;241m=\u001b[39m (\u001b[38;5;124m\"\u001b[39m\u001b[38;5;130;01m\\n\u001b[39;00m\u001b[38;5;124mHowever, the problem does follow DQCP rules. \u001b[39m\u001b[38;5;124m\"\u001b[39m\n\u001b[1;32m    101\u001b[0m                    \u001b[38;5;124m\"\u001b[39m\u001b[38;5;124mConsider calling solve() with `qcp=True`.\u001b[39m\u001b[38;5;124m\"\u001b[39m)\n\u001b[0;32m--> 102\u001b[0m     \u001b[38;5;28;01mraise\u001b[39;00m DCPError(\n\u001b[1;32m    103\u001b[0m         \u001b[38;5;124m\"\u001b[39m\u001b[38;5;124mProblem does not follow DCP rules. Specifically:\u001b[39m\u001b[38;5;130;01m\\n\u001b[39;00m\u001b[38;5;124m\"\u001b[39m \u001b[38;5;241m+\u001b[39m append)\n\u001b[1;32m    104\u001b[0m \u001b[38;5;28;01melif\u001b[39;00m gp \u001b[38;5;129;01mand\u001b[39;00m \u001b[38;5;129;01mnot\u001b[39;00m problem\u001b[38;5;241m.\u001b[39mis_dgp():\n\u001b[1;32m    105\u001b[0m     append \u001b[38;5;241m=\u001b[39m build_non_disciplined_error_msg(problem, \u001b[38;5;124m'\u001b[39m\u001b[38;5;124mDGP\u001b[39m\u001b[38;5;124m'\u001b[39m)\n",
      "\u001b[0;31mDCPError\u001b[0m: Problem does not follow DCP rules. Specifically:\nThe objective is not DCP. Its following subexpressions are not:\nQuadForm(var151, [[ 10.6272       1.412352   -48.647232     6.815808   -42.306336\n  -57.62664   ]\n [  1.412352     3.47410432 -27.62662912   0.97788928 -25.35245056\n   -9.245952  ]\n [-48.647232   -27.62662912 358.94849792 -31.66421248 320.70492736\n  274.0139008 ]\n [  6.815808     0.97788928 -31.66421248   4.37293312 -27.56605504\n  -36.9939456 ]\n [-42.306336   -25.35245056 320.70492736 -27.56605504 286.86827296\n  238.93857936]\n [-57.62664     -9.245952   274.0139008  -36.9939456  238.93857936\n  313.25070352]])"
     ]
    }
   ],
   "source": [
    "import numpy as np\n",
    "import cvxpy as cp\n",
    "import matplotlib.pyplot as plt\n",
    "from sklearn import datasets\n",
    "from matplotlib.colors import ListedColormap\n",
    "\n",
    "# 数据集\n",
    "X = np.array([[-1.8, 0.6], [0.48, -1.36], [3.68, -3.64], [1.44, 0.52], [3.42, 3.5], [-4.18, 1.68], ])\n",
    "Z = X**2\t# 特征转换\n",
    "y = np.array([1, 1, -1, 1, -1, -1, ])\n",
    "\n",
    "# 凸优化\n",
    "m = Z.shape[0]\t# 样本数\n",
    "# 构造约束条件\n",
    "lambdas = cp.Variable(m)\n",
    "constraint_1 = [lambdas[i] >=0 for i in range(m)]\n",
    "constraint_2 = [lambdas@y.T == 0]\n",
    "# 构造优化的目标\n",
    "yZ = y.reshape(-1,1)*Z\n",
    "K = yZ@yZ.T\n",
    "objective_dual = cp.Minimize(1/2*cp.quad_form(lambdas,K)-cp.sum(lambdas))\n",
    "# 构造凸优化问题并求解\n",
    "prob_dual = cp.Problem(objective_dual,constraint_1+constraint_2)\n",
    "prob_dual.solve()\n",
    "\n",
    "# 得到支持向量\n",
    "lambdas = lambdas.value\n",
    "support_y = y[lambdas > 0.00001]\n",
    "support_Z = Z[lambdas > 0.00001]\n",
    "support_lambdas = lambdas[lambdas > 0.00001]\n",
    "\n",
    "# 根据支持向量算出 w 和 b\n",
    "w = np.sum((support_lambdas*support_y).reshape(-1, 1)*support_Z, axis=0)\n",
    "b = support_y[0] - np.sum((support_lambdas*support_y).reshape(-1, 1)*support_Z@support_Z[0].reshape(-1,1))\n",
    "\n",
    "print('λ1 ≈ {:.3f}, λ2 ≈ {:.3f}, λ3 ≈ {:.3f}, λ4 ≈ {:.3f}, λ5 ≈ {:.3f}, λ6 ≈ {:.3f}'.format(lambdas[0], lambdas[1], lambdas[2], lambdas[3], lambdas[4], lambdas[5]))\n",
    "print('w1 ≈ {:.6f}, w2 ≈ {:.6f}, b ≈ {:.6f}'.format(w[0], w[1], b))"
   ]
  },
  {
   "cell_type": "code",
   "execution_count": 29,
   "id": "fbd9877d",
   "metadata": {},
   "outputs": [
    {
     "ename": "DCPError",
     "evalue": "Problem does not follow DCP rules. Specifically:\nThe objective is not DCP. Its following subexpressions are not:\nQuadForm(var192, [[ 10.6272       1.412352   -48.647232     6.815808   -42.306336\n  -57.62664   ]\n [  1.412352     3.47410432 -27.62662912   0.97788928 -25.35245056\n   -9.245952  ]\n [-48.647232   -27.62662912 358.94849792 -31.66421248 320.70492736\n  274.0139008 ]\n [  6.815808     0.97788928 -31.66421248   4.37293312 -27.56605504\n  -36.9939456 ]\n [-42.306336   -25.35245056 320.70492736 -27.56605504 286.86827296\n  238.93857936]\n [-57.62664     -9.245952   274.0139008  -36.9939456  238.93857936\n  313.25070352]])",
     "output_type": "error",
     "traceback": [
      "\u001b[0;31m---------------------------------------------------------------------------\u001b[0m",
      "\u001b[0;31mDCPError\u001b[0m                                  Traceback (most recent call last)",
      "Input \u001b[0;32mIn [29]\u001b[0m, in \u001b[0;36m<cell line: 18>\u001b[0;34m()\u001b[0m\n\u001b[1;32m     16\u001b[0m \u001b[38;5;66;03m# 构造凸优化问题并求解\u001b[39;00m\n\u001b[1;32m     17\u001b[0m prob_dual \u001b[38;5;241m=\u001b[39m cp\u001b[38;5;241m.\u001b[39mProblem(objective_dual,constraint_1\u001b[38;5;241m+\u001b[39mconstraint_2)\n\u001b[0;32m---> 18\u001b[0m \u001b[43mprob_dual\u001b[49m\u001b[38;5;241;43m.\u001b[39;49m\u001b[43msolve\u001b[49m\u001b[43m(\u001b[49m\u001b[43m)\u001b[49m\n\u001b[1;32m     20\u001b[0m \u001b[38;5;66;03m# 得到支持向量\u001b[39;00m\n\u001b[1;32m     21\u001b[0m lambdas \u001b[38;5;241m=\u001b[39m lambdas\u001b[38;5;241m.\u001b[39mvalue\n",
      "File \u001b[0;32m~/opt/anaconda3/lib/python3.9/site-packages/cvxpy/problems/problem.py:493\u001b[0m, in \u001b[0;36mProblem.solve\u001b[0;34m(self, *args, **kwargs)\u001b[0m\n\u001b[1;32m    491\u001b[0m \u001b[38;5;28;01melse\u001b[39;00m:\n\u001b[1;32m    492\u001b[0m     solve_func \u001b[38;5;241m=\u001b[39m Problem\u001b[38;5;241m.\u001b[39m_solve\n\u001b[0;32m--> 493\u001b[0m \u001b[38;5;28;01mreturn\u001b[39;00m \u001b[43msolve_func\u001b[49m\u001b[43m(\u001b[49m\u001b[38;5;28;43mself\u001b[39;49m\u001b[43m,\u001b[49m\u001b[43m \u001b[49m\u001b[38;5;241;43m*\u001b[39;49m\u001b[43margs\u001b[49m\u001b[43m,\u001b[49m\u001b[43m \u001b[49m\u001b[38;5;241;43m*\u001b[39;49m\u001b[38;5;241;43m*\u001b[39;49m\u001b[43mkwargs\u001b[49m\u001b[43m)\u001b[49m\n",
      "File \u001b[0;32m~/opt/anaconda3/lib/python3.9/site-packages/cvxpy/problems/problem.py:1054\u001b[0m, in \u001b[0;36mProblem._solve\u001b[0;34m(self, solver, warm_start, verbose, gp, qcp, requires_grad, enforce_dpp, ignore_dpp, canon_backend, **kwargs)\u001b[0m\n\u001b[1;32m   1051\u001b[0m         \u001b[38;5;28mself\u001b[39m\u001b[38;5;241m.\u001b[39munpack(chain\u001b[38;5;241m.\u001b[39mretrieve(soln))\n\u001b[1;32m   1052\u001b[0m         \u001b[38;5;28;01mreturn\u001b[39;00m \u001b[38;5;28mself\u001b[39m\u001b[38;5;241m.\u001b[39mvalue\n\u001b[0;32m-> 1054\u001b[0m data, solving_chain, inverse_data \u001b[38;5;241m=\u001b[39m \u001b[38;5;28;43mself\u001b[39;49m\u001b[38;5;241;43m.\u001b[39;49m\u001b[43mget_problem_data\u001b[49m\u001b[43m(\u001b[49m\n\u001b[1;32m   1055\u001b[0m \u001b[43m    \u001b[49m\u001b[43msolver\u001b[49m\u001b[43m,\u001b[49m\u001b[43m \u001b[49m\u001b[43mgp\u001b[49m\u001b[43m,\u001b[49m\u001b[43m \u001b[49m\u001b[43menforce_dpp\u001b[49m\u001b[43m,\u001b[49m\u001b[43m \u001b[49m\u001b[43mignore_dpp\u001b[49m\u001b[43m,\u001b[49m\u001b[43m \u001b[49m\u001b[43mverbose\u001b[49m\u001b[43m,\u001b[49m\u001b[43m \u001b[49m\u001b[43mcanon_backend\u001b[49m\u001b[43m,\u001b[49m\u001b[43m \u001b[49m\u001b[43mkwargs\u001b[49m\n\u001b[1;32m   1056\u001b[0m \u001b[43m\u001b[49m\u001b[43m)\u001b[49m\n\u001b[1;32m   1058\u001b[0m \u001b[38;5;28;01mif\u001b[39;00m verbose:\n\u001b[1;32m   1059\u001b[0m     \u001b[38;5;28mprint\u001b[39m(_NUM_SOLVER_STR)\n",
      "File \u001b[0;32m~/opt/anaconda3/lib/python3.9/site-packages/cvxpy/problems/problem.py:631\u001b[0m, in \u001b[0;36mProblem.get_problem_data\u001b[0;34m(self, solver, gp, enforce_dpp, ignore_dpp, verbose, canon_backend, solver_opts)\u001b[0m\n\u001b[1;32m    629\u001b[0m \u001b[38;5;28;01mif\u001b[39;00m key \u001b[38;5;241m!=\u001b[39m \u001b[38;5;28mself\u001b[39m\u001b[38;5;241m.\u001b[39m_cache\u001b[38;5;241m.\u001b[39mkey:\n\u001b[1;32m    630\u001b[0m     \u001b[38;5;28mself\u001b[39m\u001b[38;5;241m.\u001b[39m_cache\u001b[38;5;241m.\u001b[39minvalidate()\n\u001b[0;32m--> 631\u001b[0m     solving_chain \u001b[38;5;241m=\u001b[39m \u001b[38;5;28;43mself\u001b[39;49m\u001b[38;5;241;43m.\u001b[39;49m\u001b[43m_construct_chain\u001b[49m\u001b[43m(\u001b[49m\n\u001b[1;32m    632\u001b[0m \u001b[43m        \u001b[49m\u001b[43msolver\u001b[49m\u001b[38;5;241;43m=\u001b[39;49m\u001b[43msolver\u001b[49m\u001b[43m,\u001b[49m\u001b[43m \u001b[49m\u001b[43mgp\u001b[49m\u001b[38;5;241;43m=\u001b[39;49m\u001b[43mgp\u001b[49m\u001b[43m,\u001b[49m\n\u001b[1;32m    633\u001b[0m \u001b[43m        \u001b[49m\u001b[43menforce_dpp\u001b[49m\u001b[38;5;241;43m=\u001b[39;49m\u001b[43menforce_dpp\u001b[49m\u001b[43m,\u001b[49m\n\u001b[1;32m    634\u001b[0m \u001b[43m        \u001b[49m\u001b[43mignore_dpp\u001b[49m\u001b[38;5;241;43m=\u001b[39;49m\u001b[43mignore_dpp\u001b[49m\u001b[43m,\u001b[49m\n\u001b[1;32m    635\u001b[0m \u001b[43m        \u001b[49m\u001b[43mcanon_backend\u001b[49m\u001b[38;5;241;43m=\u001b[39;49m\u001b[43mcanon_backend\u001b[49m\u001b[43m,\u001b[49m\n\u001b[1;32m    636\u001b[0m \u001b[43m        \u001b[49m\u001b[43msolver_opts\u001b[49m\u001b[38;5;241;43m=\u001b[39;49m\u001b[43msolver_opts\u001b[49m\u001b[43m)\u001b[49m\n\u001b[1;32m    637\u001b[0m     \u001b[38;5;28mself\u001b[39m\u001b[38;5;241m.\u001b[39m_cache\u001b[38;5;241m.\u001b[39mkey \u001b[38;5;241m=\u001b[39m key\n\u001b[1;32m    638\u001b[0m     \u001b[38;5;28mself\u001b[39m\u001b[38;5;241m.\u001b[39m_cache\u001b[38;5;241m.\u001b[39msolving_chain \u001b[38;5;241m=\u001b[39m solving_chain\n",
      "File \u001b[0;32m~/opt/anaconda3/lib/python3.9/site-packages/cvxpy/problems/problem.py:883\u001b[0m, in \u001b[0;36mProblem._construct_chain\u001b[0;34m(self, solver, gp, enforce_dpp, ignore_dpp, canon_backend, solver_opts)\u001b[0m\n\u001b[1;32m    881\u001b[0m candidate_solvers \u001b[38;5;241m=\u001b[39m \u001b[38;5;28mself\u001b[39m\u001b[38;5;241m.\u001b[39m_find_candidate_solvers(solver\u001b[38;5;241m=\u001b[39msolver, gp\u001b[38;5;241m=\u001b[39mgp)\n\u001b[1;32m    882\u001b[0m \u001b[38;5;28mself\u001b[39m\u001b[38;5;241m.\u001b[39m_sort_candidate_solvers(candidate_solvers)\n\u001b[0;32m--> 883\u001b[0m \u001b[38;5;28;01mreturn\u001b[39;00m \u001b[43mconstruct_solving_chain\u001b[49m\u001b[43m(\u001b[49m\u001b[38;5;28;43mself\u001b[39;49m\u001b[43m,\u001b[49m\u001b[43m \u001b[49m\u001b[43mcandidate_solvers\u001b[49m\u001b[43m,\u001b[49m\u001b[43m \u001b[49m\u001b[43mgp\u001b[49m\u001b[38;5;241;43m=\u001b[39;49m\u001b[43mgp\u001b[49m\u001b[43m,\u001b[49m\n\u001b[1;32m    884\u001b[0m \u001b[43m                               \u001b[49m\u001b[43menforce_dpp\u001b[49m\u001b[38;5;241;43m=\u001b[39;49m\u001b[43menforce_dpp\u001b[49m\u001b[43m,\u001b[49m\n\u001b[1;32m    885\u001b[0m \u001b[43m                               \u001b[49m\u001b[43mignore_dpp\u001b[49m\u001b[38;5;241;43m=\u001b[39;49m\u001b[43mignore_dpp\u001b[49m\u001b[43m,\u001b[49m\n\u001b[1;32m    886\u001b[0m \u001b[43m                               \u001b[49m\u001b[43mcanon_backend\u001b[49m\u001b[38;5;241;43m=\u001b[39;49m\u001b[43mcanon_backend\u001b[49m\u001b[43m,\u001b[49m\n\u001b[1;32m    887\u001b[0m \u001b[43m                               \u001b[49m\u001b[43msolver_opts\u001b[49m\u001b[38;5;241;43m=\u001b[39;49m\u001b[43msolver_opts\u001b[49m\u001b[43m)\u001b[49m\n",
      "File \u001b[0;32m~/opt/anaconda3/lib/python3.9/site-packages/cvxpy/reductions/solvers/solving_chain.py:184\u001b[0m, in \u001b[0;36mconstruct_solving_chain\u001b[0;34m(problem, candidates, gp, enforce_dpp, ignore_dpp, canon_backend, solver_opts)\u001b[0m\n\u001b[1;32m    182\u001b[0m \u001b[38;5;28;01mif\u001b[39;00m \u001b[38;5;28mlen\u001b[39m(problem\u001b[38;5;241m.\u001b[39mvariables()) \u001b[38;5;241m==\u001b[39m \u001b[38;5;241m0\u001b[39m:\n\u001b[1;32m    183\u001b[0m     \u001b[38;5;28;01mreturn\u001b[39;00m SolvingChain(reductions\u001b[38;5;241m=\u001b[39m[ConstantSolver()])\n\u001b[0;32m--> 184\u001b[0m reductions \u001b[38;5;241m=\u001b[39m \u001b[43m_reductions_for_problem_class\u001b[49m\u001b[43m(\u001b[49m\u001b[43mproblem\u001b[49m\u001b[43m,\u001b[49m\u001b[43m \u001b[49m\u001b[43mcandidates\u001b[49m\u001b[43m,\u001b[49m\u001b[43m \u001b[49m\u001b[43mgp\u001b[49m\u001b[43m,\u001b[49m\u001b[43m \u001b[49m\u001b[43msolver_opts\u001b[49m\u001b[43m)\u001b[49m\n\u001b[1;32m    186\u001b[0m \u001b[38;5;66;03m# Process DPP status of the problem.\u001b[39;00m\n\u001b[1;32m    187\u001b[0m dpp_context \u001b[38;5;241m=\u001b[39m \u001b[38;5;124m'\u001b[39m\u001b[38;5;124mdcp\u001b[39m\u001b[38;5;124m'\u001b[39m \u001b[38;5;28;01mif\u001b[39;00m \u001b[38;5;129;01mnot\u001b[39;00m gp \u001b[38;5;28;01melse\u001b[39;00m \u001b[38;5;124m'\u001b[39m\u001b[38;5;124mdgp\u001b[39m\u001b[38;5;124m'\u001b[39m\n",
      "File \u001b[0;32m~/opt/anaconda3/lib/python3.9/site-packages/cvxpy/reductions/solvers/solving_chain.py:102\u001b[0m, in \u001b[0;36m_reductions_for_problem_class\u001b[0;34m(problem, candidates, gp, solver_opts)\u001b[0m\n\u001b[1;32m     99\u001b[0m     \u001b[38;5;28;01melif\u001b[39;00m problem\u001b[38;5;241m.\u001b[39mis_dqcp():\n\u001b[1;32m    100\u001b[0m         append \u001b[38;5;241m+\u001b[39m\u001b[38;5;241m=\u001b[39m (\u001b[38;5;124m\"\u001b[39m\u001b[38;5;130;01m\\n\u001b[39;00m\u001b[38;5;124mHowever, the problem does follow DQCP rules. \u001b[39m\u001b[38;5;124m\"\u001b[39m\n\u001b[1;32m    101\u001b[0m                    \u001b[38;5;124m\"\u001b[39m\u001b[38;5;124mConsider calling solve() with `qcp=True`.\u001b[39m\u001b[38;5;124m\"\u001b[39m)\n\u001b[0;32m--> 102\u001b[0m     \u001b[38;5;28;01mraise\u001b[39;00m DCPError(\n\u001b[1;32m    103\u001b[0m         \u001b[38;5;124m\"\u001b[39m\u001b[38;5;124mProblem does not follow DCP rules. Specifically:\u001b[39m\u001b[38;5;130;01m\\n\u001b[39;00m\u001b[38;5;124m\"\u001b[39m \u001b[38;5;241m+\u001b[39m append)\n\u001b[1;32m    104\u001b[0m \u001b[38;5;28;01melif\u001b[39;00m gp \u001b[38;5;129;01mand\u001b[39;00m \u001b[38;5;129;01mnot\u001b[39;00m problem\u001b[38;5;241m.\u001b[39mis_dgp():\n\u001b[1;32m    105\u001b[0m     append \u001b[38;5;241m=\u001b[39m build_non_disciplined_error_msg(problem, \u001b[38;5;124m'\u001b[39m\u001b[38;5;124mDGP\u001b[39m\u001b[38;5;124m'\u001b[39m)\n",
      "\u001b[0;31mDCPError\u001b[0m: Problem does not follow DCP rules. Specifically:\nThe objective is not DCP. Its following subexpressions are not:\nQuadForm(var192, [[ 10.6272       1.412352   -48.647232     6.815808   -42.306336\n  -57.62664   ]\n [  1.412352     3.47410432 -27.62662912   0.97788928 -25.35245056\n   -9.245952  ]\n [-48.647232   -27.62662912 358.94849792 -31.66421248 320.70492736\n  274.0139008 ]\n [  6.815808     0.97788928 -31.66421248   4.37293312 -27.56605504\n  -36.9939456 ]\n [-42.306336   -25.35245056 320.70492736 -27.56605504 286.86827296\n  238.93857936]\n [-57.62664     -9.245952   274.0139008  -36.9939456  238.93857936\n  313.25070352]])"
     ]
    }
   ],
   "source": [
    "# 数据集\n",
    "X = np.array([[-1.8, 0.6], [0.48, -1.36], [3.68, -3.64], [1.44, 0.52], [3.42, 3.5], [-4.18, 1.68], ])\n",
    "Z = X**2\t# 特征转换\n",
    "y = np.array([1, 1, -1, 1, -1, -1, ])\n",
    "\n",
    "# 凸优化\n",
    "m = Z.shape[0]\t# 样本数\n",
    "# 构造约束条件\n",
    "lambdas = cp.Variable(m)\n",
    "constraint_1 = [lambdas[i] >=0 for i in range(m)]\n",
    "constraint_2 = [lambdas@y.T == 0]\n",
    "# 构造优化的目标\n",
    "yZ = y.reshape(-1,1)*Z\n",
    "K = yZ@yZ.T\n",
    "objective_dual = cp.Minimize(1/2*cp.quad_form(lambdas,K)-cp.sum(lambdas))\n",
    "# 构造凸优化问题并求解\n",
    "prob_dual = cp.Problem(objective_dual,constraint_1+constraint_2)\n",
    "prob_dual.solve()\n",
    "\n",
    "# 得到支持向量\n",
    "lambdas = lambdas.value\n",
    "support_y = y[lambdas > 0.00001]\n",
    "support_Z = Z[lambdas > 0.00001]\n",
    "support_lambdas = lambdas[lambdas > 0.00001]\n",
    "\n",
    "# 根据支持向量算出 w 和 b\n",
    "w = np.sum((support_lambdas*support_y).reshape(-1, 1)*support_Z, axis=0)\n",
    "b = support_y[0] - np.sum((support_lambdas*support_y).reshape(-1, 1)*support_Z@support_Z[0].reshape(-1,1))"
   ]
  },
  {
   "cell_type": "code",
   "execution_count": 30,
   "id": "ebf62d21",
   "metadata": {},
   "outputs": [
    {
     "name": "stdout",
     "output_type": "stream",
     "text": [
      "λ1 ≈ 0.148, λ2 ≈ 0.074, λ3 ≈ -0.000, λ4 ≈ 0.074\n",
      "w1 ≈ -0.222222, w2 ≈ -0.222222, w3 ≈ 0.444444, b ≈ 1.000000\n"
     ]
    }
   ],
   "source": [
    "import numpy as np\n",
    "import cvxpy as cp\n",
    "import matplotlib.pyplot as plt\n",
    "from sklearn import datasets\n",
    "from matplotlib.colors import ListedColormap\n",
    "\n",
    "# 数据集\n",
    "X = np.array([[-1,-1], [-1,2], [2,2], [2,-1]])\n",
    "Z = np.hstack((X**2, (X[:,0]*X[:,1]).reshape(-1, 1), )) # 特征转换\n",
    "y = np.array([1, -1, 1, -1, ])\n",
    "\n",
    "# 凸优化\n",
    "m = Z.shape[0]\t# 样本数\n",
    "# 构造约束条件\n",
    "lambdas = cp.Variable(m)\n",
    "constraint_1 = [lambdas[i] >=0 for i in range(m)]\n",
    "constraint_2 = [lambdas@y.T == 0]\n",
    "# 构造优化的目标\n",
    "yZ = y.reshape(-1,1)*Z\n",
    "K = yZ@yZ.T\n",
    "objective_dual = cp.Minimize(1/2*cp.quad_form(lambdas,K)-cp.sum(lambdas))\n",
    "# 构造凸优化问题并求解\n",
    "prob_dual = cp.Problem(objective_dual,constraint_1+constraint_2)\n",
    "prob_dual.solve()\n",
    "\n",
    "# 得到支持向量\n",
    "lambdas = lambdas.value\n",
    "support_y = y[lambdas > 0.00001]\n",
    "support_Z = Z[lambdas > 0.00001]\n",
    "support_lambdas = lambdas[lambdas > 0.00001]\n",
    "\n",
    "# 根据支持向量算出 w 和 b\n",
    "w = np.sum((support_lambdas*support_y).reshape(-1, 1)*support_Z, axis=0)\n",
    "b = support_y[0] - np.sum((support_lambdas*support_y).reshape(-1, 1)*support_Z@support_Z[0].reshape(-1,1))\n",
    "\n",
    "print('λ1 ≈ {:.3f}, λ2 ≈ {:.3f}, λ3 ≈ {:.3f}, λ4 ≈ {:.3f}'.format(lambdas[0], lambdas[1], lambdas[2], lambdas[3]))\n",
    "print('w1 ≈ {:.6f}, w2 ≈ {:.6f}, w3 ≈ {:.6f}, b ≈ {:.6f}'.format(w[0], w[1], w[2], b))"
   ]
  },
  {
   "cell_type": "markdown",
   "id": "d668f782",
   "metadata": {},
   "source": [
    "# 7.7"
   ]
  },
  {
   "cell_type": "code",
   "execution_count": 31,
   "id": "2af4a9c9",
   "metadata": {},
   "outputs": [
    {
     "name": "stdout",
     "output_type": "stream",
     "text": [
      "λ1 ≈ 0.089, λ2 ≈ 0.044, λ3 ≈ -0.000, λ4 ≈ 0.044\n"
     ]
    }
   ],
   "source": [
    "import numpy as np\n",
    "import cvxpy as cp\n",
    "import matplotlib.pyplot as plt\n",
    "from sklearn import datasets\n",
    "from matplotlib.colors import ListedColormap\n",
    "\n",
    "# 数据集\n",
    "X = np.array([[-1,-1], [-1,2], [2,2], [2,-1]])\n",
    "y = np.array([1, -1, 1, -1, ])\n",
    "\n",
    "# 核函数\n",
    "def kernel(x1, x2):\n",
    "\treturn (x1@x2.T)**2\n",
    "\n",
    "# 凸优化\n",
    "m = X.shape[0]\t# 样本数\n",
    "# 构造约束条件\n",
    "lambdas = cp.Variable(m)\n",
    "constraint_1 = [lambdas[i] >=0 for i in range(m)]\n",
    "constraint_2 = [lambdas@y.T == 0]\n",
    "# 构造 K 矩阵\n",
    "K = np.array([])\n",
    "for i in range(m):\n",
    "\tfor j in  range(m):\n",
    "\t\tK = np.append(K,y[i]*kernel(X[i],X[j])*y[j])\n",
    "K = K.reshape(m,m)\n",
    "# 构造优化目标\n",
    "objective_dual = cp.Minimize(1/2*cp.quad_form(lambdas,K)-cp.sum(lambdas))\n",
    "# 构造凸优化问题并求解\n",
    "prob_dual = cp.Problem(objective_dual,constraint_1+constraint_2)\n",
    "prob_dual.solve()\n",
    "\n",
    "lambdas = lambdas.value\n",
    "print('λ1 ≈ {:.3f}, λ2 ≈ {:.3f}, λ3 ≈ {:.3f}, λ4 ≈ {:.3f}'.format(lambdas[0], lambdas[1], lambdas[2], lambdas[3]))"
   ]
  },
  {
   "cell_type": "code",
   "execution_count": 32,
   "id": "12b45899",
   "metadata": {},
   "outputs": [
    {
     "name": "stdout",
     "output_type": "stream",
     "text": [
      "λ1 ≈ 0.250, λ2 ≈ 0.000, λ3 ≈ 0.250\n"
     ]
    }
   ],
   "source": [
    "import numpy as np\n",
    "import cvxpy as cp\n",
    "import matplotlib.pyplot as plt\n",
    "from sklearn import datasets\n",
    "from matplotlib.colors import ListedColormap\n",
    "\n",
    "# 数据集\n",
    "X = np.array([[3, 3],[4, 3],[1, 1],])\n",
    "y = np.array([1,1,-1,])\n",
    "\n",
    "# 线性核\n",
    "def linear_kernel(x1, x2):\n",
    "\treturn x1@x2.T\n",
    "\n",
    "# 凸优化\n",
    "m = X.shape[0]\t# 样本数\n",
    "# 构造约束条件\n",
    "lambdas = cp.Variable(m)\n",
    "constraint_1 = [lambdas[i] >=0 for i in range(m)]\n",
    "constraint_2 = [lambdas@y.T == 0]\n",
    "# 构造 K 矩阵\n",
    "K = np.array([])\n",
    "for i in range(m):\n",
    "\tfor j in  range(m):\n",
    "\t\tK = np.append(K,y[i]*linear_kernel(X[i],X[j])*y[j])\n",
    "K = K.reshape(m,m)\n",
    "# 构造优化目标\n",
    "objective_dual = cp.Minimize(1/2*cp.quad_form(lambdas,K)-cp.sum(lambdas))\n",
    "# 构造凸优化问题并求解\n",
    "prob_dual = cp.Problem(objective_dual,constraint_1+constraint_2)\n",
    "prob_dual.solve()\n",
    "\n",
    "lambdas = lambdas.value\n",
    "print('λ1 ≈ {:.3f}, λ2 ≈ {:.3f}, λ3 ≈ {:.3f}'.format(lambdas[0], lambdas[1], lambdas[2]))"
   ]
  },
  {
   "cell_type": "markdown",
   "id": "a4af96e7",
   "metadata": {},
   "source": [
    "# 7.8"
   ]
  },
  {
   "cell_type": "code",
   "execution_count": 33,
   "id": "80cd936d",
   "metadata": {},
   "outputs": [
    {
     "name": "stdout",
     "output_type": "stream",
     "text": [
      "λ1 ≈ 0.074, λ2 ≈ 0.037, λ3 ≈ 0.000, λ4 ≈ 0.037\n"
     ]
    }
   ],
   "source": [
    "import numpy as np\n",
    "import cvxpy as cp\n",
    "import matplotlib.pyplot as plt\n",
    "from sklearn import datasets\n",
    "from matplotlib.colors import ListedColormap\n",
    "\n",
    "# 数据集\n",
    "X = np.array([[-1,-1], [-1,2], [2,2], [2,-1]])\n",
    "y = np.array([1, -1, 1, -1, ])\n",
    "\n",
    "# 核函数\n",
    "def kernel(x1, x2):\n",
    "\treturn 1+x1@x2.T+(x1@x2.T)**2\n",
    "\n",
    "# 凸优化\n",
    "m = X.shape[0]\t# 样本数\n",
    "# 构造约束条件\n",
    "lambdas = cp.Variable(m)\n",
    "constraint_1 = [lambdas[i] >=0 for i in range(m)]\n",
    "constraint_2 = [lambdas@y.T == 0]\n",
    "# 构造 K 矩阵\n",
    "K = np.array([])\n",
    "for i in range(m):\n",
    "\tfor j in  range(m):\n",
    "\t\tK = np.append(K,y[i]*kernel(X[i],X[j])*y[j])\n",
    "K = K.reshape(m,m)\n",
    "# 构造优化目标\n",
    "objective_dual = cp.Minimize(1/2*cp.quad_form(lambdas,K)-cp.sum(lambdas))\n",
    "# 构造凸优化问题并求解\n",
    "prob_dual = cp.Problem(objective_dual,constraint_1+constraint_2)\n",
    "prob_dual.solve()\n",
    "\n",
    "lambdas = lambdas.value\n",
    "print('λ1 ≈ {:.3f}, λ2 ≈ {:.3f}, λ3 ≈ {:.3f}, λ4 ≈ {:.3f}'.format(lambdas[0], lambdas[1], lambdas[2], lambdas[3]))"
   ]
  },
  {
   "cell_type": "code",
   "execution_count": 38,
   "id": "795b3067",
   "metadata": {},
   "outputs": [
    {
     "name": "stdout",
     "output_type": "stream",
     "text": [
      "λ1 ≈ 0.003, λ2 ≈ 0.002, λ3 ≈ 0.000, λ4 ≈ 0.002\n"
     ]
    }
   ],
   "source": [
    "import numpy as np\n",
    "import cvxpy as cp\n",
    "import matplotlib.pyplot as plt\n",
    "from sklearn import datasets\n",
    "from matplotlib.colors import ListedColormap\n",
    "\n",
    "zeta = 1\n",
    "gamma = 2\n",
    "d = 3\n",
    "\n",
    "# 数据集\n",
    "X = np.array([[-1,-1], [-1,2], [2,2], [2,-1]])\n",
    "y = np.array([1, -1, 1, -1, ])\n",
    "\n",
    "# 多项式核\n",
    "def polynomial_kernel(x1, x2):\n",
    "\treturn (zeta+gamma*x1@x2.T)**d\n",
    "\n",
    "# 凸优化\n",
    "m = X.shape[0]\t# 样本数\n",
    "# 构造约束条件\n",
    "lambdas = cp.Variable(m)\n",
    "constraint_1 = [lambdas[i] >=0 for i in range(m)]\n",
    "constraint_2 = [lambdas@y.T == 0]\n",
    "# 构造 K 矩阵\n",
    "K = np.array([])\n",
    "for i in range(m):\n",
    "\tfor j in  range(m):\n",
    "\t\tK = np.append(K,y[i]*polynomial_kernel(X[i],X[j])*y[j])\n",
    "K = K.reshape(m,m)\n",
    "# 构造优化目标\n",
    "objective_dual = cp.Minimize(1/2*cp.quad_form(lambdas,K)-cp.sum(lambdas))\n",
    "# 构造凸优化问题并求解\n",
    "prob_dual = cp.Problem(objective_dual,constraint_1+constraint_2)\n",
    "prob_dual.solve()\n",
    "\n",
    "lambdas = lambdas.value\n",
    "print('λ1 ≈ {:.3f}, λ2 ≈ {:.3f}, λ3 ≈ {:.3f}, λ4 ≈ {:.3f}'.format(lambdas[0], lambdas[1], lambdas[2], lambdas[3]))"
   ]
  },
  {
   "cell_type": "code",
   "execution_count": 39,
   "id": "db4f2065",
   "metadata": {},
   "outputs": [
    {
     "data": {
      "image/png": "[encoded data removed]",
      "text/plain": [
       "<Figure size 432x216 with 1 Axes>"
      ]
     },
     "metadata": {},
     "output_type": "display_data"
    }
   ],
   "source": [
    "import matplotlib.pyplot as plt\n",
    "from matplotlib.colors import ListedColormap\n",
    "import numpy as np\n",
    "import cvxpy as cp\n",
    "\n",
    "# 可以修改以下 3 个超参\n",
    "zeta = 1\n",
    "gamma = 6\n",
    "d = 11\n",
    "\n",
    "# 数据集\n",
    "X = np.array([[-1,-1], [-1,2], [2,2], [2,-1]])\n",
    "y = np.array([1, -1, 1, -1, ])\n",
    "\n",
    "# 多项式核\n",
    "def polynomial_kernel(x1, x2):\n",
    "\treturn (zeta+gamma*x1@x2.T)**d\n",
    "\n",
    "# 凸优化\n",
    "m = X.shape[0]\t# 样本数\n",
    "# 构造约束条件\n",
    "lambdas = cp.Variable(m)\n",
    "constraint_1 = [lambdas[i] >=0 for i in range(m)]\n",
    "constraint_2 = [lambdas@y.T == 0]\n",
    "# 构造 K 矩阵\n",
    "K = np.array([])\n",
    "for i in range(m):\n",
    "\tfor j in  range(m):\n",
    "\t\tK = np.append(K,y[i]*polynomial_kernel(X[i],X[j])*y[j])\n",
    "K = K.reshape(m,m)\n",
    "# 构造优化目标\n",
    "objective_dual = cp.Minimize(1/2*cp.quad_form(lambdas,K)-cp.sum(lambdas))\n",
    "# 构造凸优化问题并求解\n",
    "prob_dual = cp.Problem(objective_dual,constraint_1+constraint_2)\n",
    "prob_dual.solve()\n",
    "\n",
    "# 得到支持向量\n",
    "epsilon = 0.00000000000000000001\n",
    "lambdas = lambdas.value\n",
    "support_y = y[lambdas > epsilon]\n",
    "support_X = X[lambdas > epsilon]\n",
    "support_lambdas = lambdas[lambdas > epsilon]\n",
    "\n",
    "# 根据 f(x) 构造 h(x)\n",
    "def h(x):\n",
    "\treturn np.where(f(x) < 0, -1, 1)\n",
    "\n",
    "# 根据支持向量构造 f(x)\n",
    "def f(x):\n",
    "\twx = 0\n",
    "\tb = support_y[0]\n",
    "\tfor xk, yk, lambdak, in zip(support_X, support_y, support_lambdas,):\n",
    "\t\twx += lambdak*yk*polynomial_kernel(xk, x)\n",
    "\t\tb -= lambdak*yk*polynomial_kernel(xk, support_X[0])\n",
    "\treturn wx+b\n",
    "\n",
    "# 以下是绘制代码\n",
    "# 设置字体大小\n",
    "plt.rcParams.update({'font.size': 13})\n",
    "# 设置subfigure\n",
    "fig, ax = plt.subplots(figsize = (6, 3))\n",
    "fig.subplots_adjust(left=0.15, right=0.85, top=0.999, bottom=0.001)\n",
    "\n",
    "xy_min, xy_max = -3, 4\n",
    "ax.set(xticks=[], yticks=[])\n",
    "ax.set_xlim(xy_min, xy_max),ax.set_ylim(xy_min, xy_max)\n",
    "\n",
    "# 绘制数据集\n",
    "markers = ('X', 'o')\n",
    "colors = ('blue', 'red')\n",
    "for cl, m, color in zip(np.unique(y), markers, colors):\n",
    "\tax.scatter(X[y==cl, 0], X[y==cl, 1], alpha=1, c=color, edgecolors='w', marker = m, zorder=9, s=7**2)\n",
    "\n",
    "# 绘制决策区域\n",
    "cm = ListedColormap(('blue', 'red'))\n",
    "resolution = 0.03\n",
    "xx1, xx2 = np.meshgrid(np.arange(xy_min, xy_max, resolution), np.arange(xy_min, xy_max, resolution))\n",
    "xx = np.column_stack((xx1.ravel(), xx2.ravel()))\n",
    "yy = h(xx).reshape(xx1.shape)\n",
    "ax.contourf(xx1, xx2, yy, alpha=0.4, cmap=cm)\n",
    "\n",
    "# 绘制决策边界的宽度\n",
    "xx1, xx2 = np.meshgrid(np.arange(-6, 6, 0.1), np.arange(-6, 6, 0.1))\n",
    "xx = np.column_stack((xx1.ravel(), xx2.ravel()))\n",
    "ax.contour(xx1, xx2, f(xx).reshape(xx1.shape), [-1, 1], colors=('b', 'r'), antialiased=True, linestyles='dashed', linewidths=1, alpha=0.6)\n",
    "ax.contour(xx1, xx2, f(xx).reshape(xx1.shape), [0], antialiased=True, colors='k', linewidths=1)\n",
    "\n",
    "plt.show()"
   ]
  },
  {
   "cell_type": "markdown",
   "id": "0b83b48e",
   "metadata": {},
   "source": [
    "# 7.8"
   ]
  },
  {
   "cell_type": "code",
   "execution_count": 40,
   "id": "e04cbb45",
   "metadata": {},
   "outputs": [
    {
     "data": {
      "image/png": "[encoded data removed]",
      "text/plain": [
       "<Figure size 432x216 with 1 Axes>"
      ]
     },
     "metadata": {},
     "output_type": "display_data"
    }
   ],
   "source": [
    "import matplotlib.pyplot as plt\n",
    "from matplotlib.colors import ListedColormap\n",
    "import numpy as np\n",
    "import cvxpy as cp\n",
    "\n",
    "# 可以修改以下这个超参\n",
    "gamma = 1\n",
    "\n",
    "# 数据集\n",
    "X = np.array([[-1,-1], [-1,2], [2,2], [2,-1]])\n",
    "y = np.array([1, -1, 1, -1, ])\n",
    "\n",
    "# 高斯核\n",
    "def gaussian_kernel(x1, x2):\n",
    "\tif x1.shape[0] > 2 or x2.shape[0] > 2:\n",
    "\t\treturn (np.exp(-gamma*np.linalg.norm(x1-x2, axis=1)**2))\n",
    "\treturn (np.exp(-gamma*np.linalg.norm(x1-x2)**2))\n",
    "\n",
    "# 凸优化\n",
    "m = X.shape[0]\t# 样本数\n",
    "# 构造约束条件\n",
    "lambdas = cp.Variable(m)\n",
    "constraint_1 = [lambdas[i] >=0 for i in range(m)]\n",
    "constraint_2 = [lambdas@y.T == 0]\n",
    "# 构造 K 矩阵\n",
    "K = np.array([])\n",
    "for i in range(m):\n",
    "\tfor j in  range(m):\n",
    "\t\tK = np.append(K,y[i]*gaussian_kernel(X[i],X[j])*y[j])\n",
    "K = K.reshape(m,m)\n",
    "# 构造优化目标\n",
    "objective_dual = cp.Minimize(1/2*cp.quad_form(lambdas,K)-cp.sum(lambdas))\n",
    "# 构造凸优化问题并求解\n",
    "prob_dual = cp.Problem(objective_dual,constraint_1+constraint_2)\n",
    "prob_dual.solve()\n",
    "\n",
    "# 得到支持向量\n",
    "epsilon = 0.00000000000000000001\n",
    "lambdas = lambdas.value\n",
    "support_y = y[lambdas > epsilon]\n",
    "support_X = X[lambdas > epsilon]\n",
    "support_lambdas = lambdas[lambdas > epsilon]\n",
    "\n",
    "# 根据 f(x) 构造 h(x)\n",
    "def h(x):\n",
    "\treturn np.where(f(x) < 0, -1, 1)\n",
    "\n",
    "# 根据支持向量构造 f(x)\n",
    "def f(x):\n",
    "\twx = 0\n",
    "\tb = support_y[0]\n",
    "\tfor xk, yk, lambdak, in zip(support_X, support_y, support_lambdas,):\n",
    "\t\twx += lambdak*yk*gaussian_kernel(xk, x)\n",
    "\t\tb -= lambdak*yk*gaussian_kernel(xk, support_X[0])\n",
    "\treturn wx+b\n",
    "\n",
    "# 以下是绘制代码\n",
    "# 设置字体大小\n",
    "plt.rcParams.update({'font.size': 13})\n",
    "# 设置subfigure\n",
    "fig, ax = plt.subplots(figsize = (6, 3))\n",
    "fig.subplots_adjust(left=0.15, right=0.85, top=0.999, bottom=0.001)\n",
    "\n",
    "xy_min, xy_max = -3, 4\n",
    "ax.set(xticks=[], yticks=[])\n",
    "ax.set_xlim(xy_min, xy_max),ax.set_ylim(xy_min, xy_max)\n",
    "\n",
    "# 绘制数据集\n",
    "markers = ('X', 'o')\n",
    "colors = ('blue', 'red')\n",
    "for cl, m, color in zip(np.unique(y), markers, colors):\n",
    "\tax.scatter(X[y==cl, 0], X[y==cl, 1], alpha=1, c=color, edgecolors='w', marker = m, zorder=9, s=7**2)\n",
    "\n",
    "# 绘制决策区域\n",
    "cm = ListedColormap(('blue', 'red'))\n",
    "resolution = 0.03\n",
    "xx1, xx2 = np.meshgrid(np.arange(xy_min, xy_max, resolution), np.arange(xy_min, xy_max, resolution))\n",
    "xx = np.column_stack((xx1.ravel(), xx2.ravel()))\n",
    "yy = h(xx).reshape(xx1.shape)\n",
    "ax.contourf(xx1, xx2, yy, alpha=0.4, cmap=cm)\n",
    "\n",
    "# 绘制决策边界的宽度\n",
    "xx1, xx2 = np.meshgrid(np.arange(-6, 6, 0.1), np.arange(-6, 6, 0.1))\n",
    "xx = np.column_stack((xx1.ravel(), xx2.ravel()))\n",
    "ax.contour(xx1, xx2, f(xx).reshape(xx1.shape), [0], antialiased=True, colors='k', linewidths=1)\n",
    "\n",
    "plt.show()"
   ]
  },
  {
   "cell_type": "markdown",
   "id": "8d1667d7",
   "metadata": {},
   "source": [
    "# 7.10"
   ]
  },
  {
   "cell_type": "code",
   "execution_count": 4,
   "id": "be9869fe",
   "metadata": {},
   "outputs": [
    {
     "name": "stderr",
     "output_type": "stream",
     "text": [
      "/var/folders/v2/5qft7fyx4md0d3vhbjvb64wr0000gn/T/ipykernel_15925/2193066516.py:45: UserWarning: You passed a edgecolor/edgecolors ('k') for an unfilled marker ('x').  Matplotlib is ignoring the edgecolor in favor of the facecolor.  This behavior may change in the future.\n",
      "  ax.scatter(x=X[y==cl, 0], y=X[y==cl, 1], alpha=1, c=color, edgecolors='k', marker = m, zorder=9)\n"
     ]
    },
    {
     "data": {
      "image/png": "[encoded data removed]",
      "text/plain": [
       "<Figure size 432x216 with 1 Axes>"
      ]
     },
     "metadata": {},
     "output_type": "display_data"
    }
   ],
   "source": [
    "import numpy as np\n",
    "import cvxpy as cp\n",
    "import matplotlib.pyplot as plt\n",
    "from sklearn import datasets\n",
    "from matplotlib.colors import ListedColormap\n",
    "\n",
    "# 超参\n",
    "C = 1\n",
    "\n",
    "# 三个点的数据集\n",
    "X = np.array([[3, 3],[5, 2],[6,3],[6,1],[1, 1],[4,1],[-1,2],[0,3]])\n",
    "y = np.array([1,1,1,1,-1,-1,-1,-1])\n",
    "\n",
    "# 凸优化\n",
    "m = X.shape[0]\t# 样本数\n",
    "n = X.shape[1]\t# 样本的特征个数\n",
    "w = cp.Variable((n,1)) \t# 有多少个特征，就对应几维的 w\n",
    "b = cp.Variable() \t\t# 一维向量\n",
    "xi = cp.Variable((m,1)) # 有多少样本点，就有多少 xi \n",
    "objective = cp.Minimize(0.5*cp.norm(w)**2+C*cp.sum(xi)) # 优化的目标，即 min 1/2||w||^2+C Σ xi\n",
    "constraints = [cp.multiply(y.reshape(-1,1), X@w + b) >= 1 - xi, xi >= 0 ] #约束条件，即 y*(wx+b) >= 1-xi，xi > 0, X 是矩阵所以用 @\n",
    "prob = cp.Problem(objective, constraints) # 构造凸优化问题\n",
    "prob.solve() # 解出结果\n",
    "\n",
    "# 根据优化求出的 w 和 b 构造决策边界\n",
    "def h(xx):\n",
    "\treturn - w.value[0]/w.value[1] * xx  - b.value / w.value[1]\n",
    "\n",
    "# 设置字体大小\n",
    "plt.rcParams.update({'font.size': 13})\n",
    "# 找出数据的边界\n",
    "x1_min, x1_max = -2, 6\n",
    "x2_min, x2_max = -1.7, 6.3\n",
    "# 设置画布和坐标系\n",
    "fig, ax = plt.subplots(figsize = (6, 3), nrows=1, ncols=1)\n",
    "fig.subplots_adjust(left=0.25, right=0.75, top=0.999, bottom=0.1)\n",
    "ax.set_xticks(()),ax.set_yticks(())\n",
    "ax.set_xlim(x1_min-0.3, x1_max+0.3),ax.set_ylim(x2_min-0.3, x2_max+0.3)\n",
    "ax.set_xlabel(r'$C={}, w^T=({:.2f},{:.2f}), b={:.2f}$'.format(C, w.value[0][0], w.value[1][0], b.value))\n",
    "\n",
    "# 根据类别不同，绘制不同形状的点\n",
    "markers = ('x', 'o')\n",
    "colors = ('blue', 'red')\n",
    "for cl, m, color in zip(np.unique(y), markers, colors):\n",
    "\tax.scatter(x=X[y==cl, 0], y=X[y==cl, 1], alpha=1, c=color, edgecolors='k', marker = m, zorder=9)\n",
    "\n",
    "# 绘制决策边界的宽度\n",
    "xx1 = np.arange(x1_min-1, x1_max+1, 0.1)\n",
    "ax.plot(xx1, h(xx1)+1/w.value[1], 'r--', lw=1, alpha=0.4)\t# 宽度上界\n",
    "ax.plot(xx1, h(xx1), 'k', lw=1)\t\t\t\t\t\t\t\t# 决策边界\n",
    "ax.plot(xx1, h(xx1)-1/w.value[1], 'b--', lw=1, alpha=0.4)\t# 宽度下界\n",
    "ax.fill_between(xx1, h(xx1)-1/w.value[1], h(xx1)+1/w.value[1], color='skyblue', alpha=0.2)\n",
    "\n",
    "plt.show()"
   ]
  },
  {
   "cell_type": "markdown",
   "id": "5d804cee",
   "metadata": {},
   "source": [
    "# 7.11"
   ]
  },
  {
   "cell_type": "code",
   "execution_count": 5,
   "id": "040db10f",
   "metadata": {},
   "outputs": [
    {
     "name": "stdout",
     "output_type": "stream",
     "text": [
      "λ1 ≈ 0.20000, λ2 ≈ 0.00000, λ3 ≈ 0.20000\n"
     ]
    }
   ],
   "source": [
    "import numpy as np\n",
    "import cvxpy as cp\n",
    "import matplotlib.pyplot as plt\n",
    "from sklearn import datasets\n",
    "from matplotlib.colors import ListedColormap\n",
    "\n",
    "C = 0.2\n",
    "\n",
    "# 三个点的数据集\n",
    "X = np.array([[3, 3],[4, 3],[1, 1],])\n",
    "y = np.array([1,1,-1,])\n",
    "\n",
    "# 凸优化\n",
    "m = X.shape[0]\t# 样本数\n",
    "# 构造约束条件\n",
    "lambdas = cp.Variable(m)\n",
    "constraint_1 = [lambdas[i] >=0 for i in range(m)]\n",
    "constraint_2 = [lambdas[i] <=C for i in range(m)]\n",
    "constraint_3 = [lambdas@y.T == 0]\n",
    "# 构造优化的目标\n",
    "yX = y.reshape(-1,1)*X\n",
    "K = yX@yX.T\n",
    "objective_dual = cp.Minimize(1/2*cp.quad_form(lambdas,K)-cp.sum(lambdas))\n",
    "# 构造凸优化问题并求解\n",
    "prob_dual = cp.Problem(objective_dual,constraint_1+constraint_2+constraint_3)\n",
    "prob_dual.solve()\n",
    "\n",
    "# 得到支持向量\n",
    "lambdas = lambdas.value\n",
    "support_y = y[lambdas > 0.00001]\n",
    "support_X = X[lambdas > 0.00001]\n",
    "support_lambdas = lambdas[lambdas > 0.00001]\n",
    "\n",
    "print('λ1 ≈ {:.5f}, λ2 ≈ {:.5f}, λ3 ≈ {:.5f}'.format(lambdas[0], lambdas[1], lambdas[2]))"
   ]
  },
  {
   "cell_type": "code",
   "execution_count": null,
   "id": "e340e4c2",
   "metadata": {},
   "outputs": [],
   "source": []
  },
  {
   "cell_type": "code",
   "execution_count": null,
   "id": "3e5a3bd5",
   "metadata": {},
   "outputs": [],
   "source": []
  },
  {
   "cell_type": "code",
   "execution_count": null,
   "id": "fca95da7",
   "metadata": {},
   "outputs": [],
   "source": []
  }
 ],
 "metadata": {
  "kernelspec": {
   "display_name": "Python 3 (ipykernel)",
   "language": "python",
   "name": "python3"
  },
  "language_info": {
   "codemirror_mode": {
    "name": "ipython",
    "version": 3
   },
   "file_extension": ".py",
   "mimetype": "text/x-python",
   "name": "python",
   "nbconvert_exporter": "python",
   "pygments_lexer": "ipython3",
   "version": "3.10.9"
  }
 },
 "nbformat": 4,
 "nbformat_minor": 5
}
