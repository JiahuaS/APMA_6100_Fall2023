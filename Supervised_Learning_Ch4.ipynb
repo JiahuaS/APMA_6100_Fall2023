{
 "cells": [
  {
   "cell_type": "markdown",
   "id": "8d39de03",
   "metadata": {
    "pycharm": {
     "name": "#%% md\n"
    }
   },
   "source": [
    "### 5.1-3"
   ]
  },
  {
   "cell_type": "code",
   "execution_count": 3,
   "id": "a90d4250",
   "metadata": {
    "pycharm": {
     "name": "#%%\n"
    }
   },
   "outputs": [
    {
     "name": "stdout",
     "output_type": "stream",
     "text": [
      "w0 = 18, w1 = -3.6035999999999966, w_2 =-8.355200000000004\n"
     ]
    }
   ],
   "source": [
    "import numpy as np\n",
    "\n",
    "# 初始化 w 和 w0\n",
    "w, w0 = np.array([0, 0]), 0 # np.array 相当于定义向量\n",
    "\n",
    "# 定义 d(x) 函数\n",
    "def d(x):\n",
    "    return np.dot(w,x)+w0 # np.dot 是向量的点积\n",
    "\n",
    "# 定义 sign 函数\n",
    "def sign(x):\n",
    "    return 1 if x >= 0 else -1\n",
    "\n",
    "# 定义 h(x) 函数\n",
    "def h(x):\n",
    "    return sign(d(x))\n",
    "\n",
    "# 计算决策边界的评分\n",
    "def clf_score(X, y):\n",
    "    score = 0\n",
    "    for xi, yi in zip(X, y):\n",
    "        score += yi*h(xi)\n",
    "    return score\n",
    "\n",
    "# 数据集\n",
    "X = np.array([[-1.8, 0.6], [0.48, -1.36], [3.68, -3.64], [1.44, 0.52], [3.42, 3.5], [-4.18, 1.68], ])\n",
    "Z = X**2 # 转换为 z1z2 坐标系中的点\n",
    "y = np.array([1, 1, -1, 1, -1, -1, ])\n",
    "\n",
    "# 感知机的口袋算法\n",
    "best_w, best_w0 = w, w0\n",
    "best_cs = clf_score(Z, y)\n",
    "epochs = 100\n",
    "for _ in range(epochs):\n",
    "\n",
    "    # 顺序遍及数据集 X\n",
    "    for zi, yi in zip(Z, y):\n",
    "        # 如果有分错的\n",
    "        if yi*d(zi) <= 0:\n",
    "            # 更新法向量 w 和 w0\n",
    "            w, w0 = w + yi*zi, w0 + yi\n",
    "            # 对新得到的决策边界进行评分\n",
    "            cs = clf_score(Z, y)\n",
    "            # 如果更好，则进行更新\n",
    "            if cs > best_cs:\n",
    "                best_cs = cs\n",
    "                best_w, best_w0 = w, w0\n",
    "            break\n",
    "\n",
    "w, w0 = best_w, best_w0\n",
    "print('w0 = {}, w1 = {}, w_2 ={}'.format(w0, w[0], w[1]))"
   ]
  },
  {
   "cell_type": "markdown",
   "id": "8426de4c",
   "metadata": {
    "pycharm": {
     "name": "#%% md\n"
    }
   },
   "source": [
    "### 5.1-4"
   ]
  },
  {
   "cell_type": "code",
   "execution_count": 4,
   "id": "6ce43f93",
   "metadata": {
    "pycharm": {
     "name": "#%%\n"
    }
   },
   "outputs": [
    {
     "name": "stdout",
     "output_type": "stream",
     "text": [
      "特征转换后的数据集为：\n",
      "        z1       z2       z3    z4    z5    y\n",
      "0   3.2400   0.3600  -1.0800 -1.80  0.60  1.0\n",
      "1   0.2304   1.8496  -0.6528  0.48 -1.36  1.0\n",
      "2  13.5424  13.2496 -13.3952  3.68 -3.64 -1.0\n",
      "3   2.0736   0.2704   0.7488  1.44  0.52  1.0\n",
      "4  11.6964  12.2500  11.9700  3.42  3.50 -1.0\n",
      "5  17.4724   2.8224  -7.0224 -4.18  1.68 -1.0\n",
      "感知机口袋算法的结果为：\n",
      "w0 = 23.00, w1 = -0.66, w_2 =-10.56, w3=3.27, w4=-8.50, w5=-6.58\n"
     ]
    }
   ],
   "source": [
    "import numpy as np\n",
    "import pandas as pd\n",
    "\n",
    "\n",
    "# 初始化 w 和 w0\n",
    "w, w0 = np.array([0, 0, 0, 0, 0]), 0 # np.array 相当于定义向量\n",
    "\n",
    "# 定义 d(x) 函数\n",
    "def d(x):\n",
    "    return np.dot(w,x)+w0 # np.dot 是向量的点积\n",
    "\n",
    "# 定义 sign 函数\n",
    "def sign(x):\n",
    "    return 1 if x >= 0 else -1\n",
    "\n",
    "# 定义 h(x) 函数\n",
    "def h(x):\n",
    "    return sign(d(x))\n",
    "\n",
    "# 计算决策边界的评分\n",
    "def clf_score(X, y):\n",
    "    score = 0\n",
    "    for xi, yi in zip(X, y):\n",
    "        score += yi*h(xi)\n",
    "    return score\n",
    "\n",
    "# 数据集\n",
    "X = np.array([[-1.8, 0.6], [0.48, -1.36], [3.68, -3.64], [1.44, 0.52], [3.42, 3.5], [-4.18, 1.68], ])\n",
    "Z = np.hstack((X**2, (X[:,0]*X[:,1]).reshape(-1, 1), X, )) # 转换为 z1z2z3z4z5 坐标系中的点\n",
    "y = np.array([1, 1, -1, 1, -1, -1, ])\n",
    "\n",
    "print(\"特征转换后的数据集为：\")\n",
    "Zy = np.hstack((Z, y.reshape(-1, 1)))\n",
    "df = pd.DataFrame(Zy, columns=('z1', 'z2', 'z3', 'z4', 'z5', 'y'))\n",
    "print(df)\n",
    "\n",
    "# 感知机的口袋算法\n",
    "best_w, best_w0 = w, w0\n",
    "best_cs = clf_score(Z, y)\n",
    "epochs = 100\n",
    "for _ in range(epochs):\n",
    "\n",
    "    # 顺序遍及数据集 X\n",
    "    for zi, yi in zip(Z, y):\n",
    "        # 如果有分错的\n",
    "        if yi*d(zi) <= 0:\n",
    "            # 更新法向量 w 和 w0\n",
    "            w, w0 = w + yi*zi, w0 + yi\n",
    "            # 对新得到的决策边界进行评分\n",
    "            cs = clf_score(Z, y)\n",
    "            # 如果更好，则进行更新\n",
    "            if cs > best_cs:\n",
    "                best_cs = cs\n",
    "                best_w, best_w0 = w, w0\n",
    "            break\n",
    "\n",
    "w, w0 = best_w, best_w0\n",
    "print(\"感知机口袋算法的结果为：\")\n",
    "print('w0 = {:.02f}, w1 = {:.02f}, w_2 ={:.02f}, w3={:.02f}, w4={:.02f}, w5={:.02f}'.format(w0, w[0], w[1], w[2], w[3], w[4]))"
   ]
  },
  {
   "cell_type": "markdown",
   "id": "a28cc29d",
   "metadata": {
    "pycharm": {
     "name": "#%% md\n"
    }
   },
   "source": [
    "### 5.2-1"
   ]
  },
  {
   "cell_type": "code",
   "execution_count": 19,
   "id": "bdf2106c",
   "metadata": {
    "pycharm": {
     "name": "#%%\n"
    }
   },
   "outputs": [
    {
     "data": {
      "image/png": "[encoded data removed]",
      "text/plain": [
       "<Figure size 432x216 with 1 Axes>"
      ]
     },
     "metadata": {},
     "output_type": "display_data"
    }
   ],
   "source": [
    "import matplotlib.pyplot as plt\n",
    "import numpy as np\n",
    "\n",
    "rnd = np.random.RandomState(3)\t# 为了演示，采用固定的随机\n",
    "x_min, x_max = -1, 1\n",
    "\n",
    "# 上帝函数 y=f(x)\n",
    "def f(x):\n",
    "\treturn x**2\n",
    "\n",
    "# 上帝分布 P(Y|X)\n",
    "def P(X):\n",
    "\treturn f(X) + rnd.normal(scale=0.1, size=X.shape)\n",
    "\n",
    "# 通过 P(X, Y) 生成数据集 D\n",
    "X = rnd.uniform(x_min, x_max, 10)   # 通过均匀分布产生 X\n",
    "y = P(X)                            # 通过 P(Y|X) 产生 y\n",
    "\n",
    "# 以下是绘制代码\n",
    "# 设置字体大小\n",
    "plt.rcParams.update({'font.size': 14})\n",
    "# 设置subfigure\n",
    "fig, ax = plt.subplots(figsize = (6, 3))\n",
    "plt.subplots_adjust(left=0.25, right=0.75, top=0.999, bottom=0.08)\n",
    "ax.set(xticks=[], yticks=[])\n",
    "ax.set_xlabel('$x$'),ax.set_ylabel('$y$')\n",
    "ax.set_xlim(x_min, x_max)\n",
    "\n",
    "# 绘制数据集\n",
    "ax.scatter(x=X, y=y)\n",
    "\n",
    "# 绘制上帝函数\n",
    "xx = np.linspace(x_min, x_max)\n",
    "ax.plot(xx, f(xx), 'k--')\n",
    "\n",
    "plt.show()"
   ]
  },
  {
   "cell_type": "code",
   "execution_count": 20,
   "id": "cfcacfb7",
   "metadata": {
    "pycharm": {
     "name": "#%%\n"
    }
   },
   "outputs": [
    {
     "data": {
      "image/png": "[encoded data removed]",
      "text/plain": [
       "<Figure size 432x216 with 2 Axes>"
      ]
     },
     "metadata": {},
     "output_type": "display_data"
    }
   ],
   "source": [
    "import matplotlib.pyplot as plt\n",
    "from matplotlib.colors import ListedColormap\n",
    "import numpy as np\n",
    "\n",
    "rnd = np.random.RandomState(3)\t# 为了演示，采用固定的随机\n",
    "x_min, x_max = -1, 1\n",
    "\n",
    "# 上帝函数 y=f(x)\n",
    "def f(x):\n",
    "\treturn x**2\n",
    "\n",
    "# 上帝分布 P(Y|X)\n",
    "def P(X):\n",
    "\treturn f(X) + rnd.normal(scale=0.1, size=X.shape)\n",
    "\n",
    "# 通过 P(X, Y) 生成数据集 D\n",
    "X = rnd.uniform(x_min, x_max, 10)   # 通过均匀分布产生 X\n",
    "Z = X ** 2 # 坐标转换\n",
    "y = P(X)                            # 通过 P(Y|X) 产生 y\n",
    "\n",
    "# 以下是绘制代码\n",
    "# 设置字体大小\n",
    "plt.rcParams.update({'font.size': 14})\n",
    "# 设置subfigure\n",
    "fig, axes = plt.subplots(figsize = (6, 3), nrows=1, ncols=2)\n",
    "plt.subplots_adjust(left=0.04, right=0.999, top=0.999, bottom=0.1, wspace=0.33)\n",
    "\n",
    "xy_min_maxs = ((x_min, x_max), (-0.1, 1.1))\n",
    "xylabels = (('$x$', '$y$'), ('$z=x^2$', '$y$'), )\n",
    "Xs = (X, Z)\n",
    "for ax, xylabel, xy_min_max, X in zip(axes.flat, xylabels, xy_min_maxs, Xs):\n",
    "\tax.set(xticks=[], yticks=[])\n",
    "\tax.set_xlabel(xylabel[0]),ax.set_ylabel(xylabel[1])\n",
    "\tax.set_xlim(xy_min_max[0], xy_min_max[1])\n",
    "\n",
    "\tax.scatter(x=X, y=y)\n",
    "\n",
    "\n",
    "axes[0].text(1.2, 0.3, '=>')\n",
    "\n",
    "plt.show()"
   ]
  },
  {
   "cell_type": "code",
   "execution_count": 21,
   "id": "097e07b6",
   "metadata": {
    "pycharm": {
     "name": "#%%\n"
    }
   },
   "outputs": [
    {
     "data": {
      "image/png": "[encoded data removed]",
      "text/plain": [
       "<Figure size 432x216 with 2 Axes>"
      ]
     },
     "metadata": {},
     "output_type": "display_data"
    }
   ],
   "source": [
    "import matplotlib.pyplot as plt\n",
    "from matplotlib.colors import ListedColormap\n",
    "import numpy as np\n",
    "\n",
    "rnd = np.random.RandomState(3)\t# 为了演示，采用固定的随机\n",
    "x_min, x_max = -1, 1\n",
    "z_min, z_max = -0.1, 1.1\n",
    "\n",
    "# 上帝函数 y=f(x)\n",
    "def f(x):\n",
    "\treturn x**2\n",
    "\n",
    "# 上帝分布 P(Y|X)\n",
    "def P(X):\n",
    "\treturn f(X) + rnd.normal(scale=0.1, size=X.shape)\n",
    "\n",
    "# 通过 P(X, Y) 生成数据集 D\n",
    "X = rnd.uniform(x_min, x_max, 10)   # 通过均匀分布产生 X\n",
    "Z = X ** 2 # 坐标转换\n",
    "y = P(X)                            # 通过 P(Y|X) 产生 y\n",
    "\n",
    "# 绘制 xy 和 zy 下的数据集\n",
    "# 设置字体大小\n",
    "plt.rcParams.update({'font.size': 14})\n",
    "# 设置subfigure\n",
    "fig, axes = plt.subplots(figsize = (6, 3), nrows=1, ncols=2)\n",
    "plt.subplots_adjust(left=0.04, right=0.999, top=0.999, bottom=0.1, wspace=0.33)\n",
    "\n",
    "xz_min_maxs = ((x_min, x_max), (z_min, z_max))\n",
    "xylabels = (('$x$', '$y$'), ('$z=x^2$', '$y$'), )\n",
    "Xs = (X, Z)\n",
    "for ax, xylabel, min_max, X in zip(axes.flat, xylabels, xz_min_maxs, Xs):\n",
    "\tax.set(xticks=[], yticks=[])\n",
    "\tax.set_xlabel(xylabel[0]),ax.set_ylabel(xylabel[1])\n",
    "\tax.set_xlim(min_max[0], min_max[1])\n",
    "\n",
    "\tax.scatter(x=X, y=y)\n",
    "\n",
    "# 在 zy 坐标系下，通过最小二乘法的矩阵算法来计算 w\n",
    "# 给 Z 增加一行 1\n",
    "Z = Z.reshape(-1, 1)\n",
    "ones = np.ones(Z.shape[0]).reshape(-1, 1)\n",
    "Z = np.hstack((ones, Z))\n",
    "\n",
    "pinvZ = np.linalg.pinv(Z) # 计算伪逆\n",
    "w = np.matmul(pinvZ, y) # 最小二乘法的矩阵算法\n",
    "\n",
    "# 在 zy 坐标系下绘制直线\n",
    "zz = np.linspace(z_min, z_max)\n",
    "yy = w[0] + w[1]*zz\n",
    "axes[1].plot(zz, yy, 'k')\n",
    "\n",
    "# 在 xy 坐标系下绘制抛物线\n",
    "xx = np.linspace(x_min, x_max)\n",
    "yy = w[0] + w[1]*xx**2\n",
    "axes[0].plot(xx, yy, 'k')\n",
    "\n",
    "axes[0].text(1.2, 0.3, '<=')\n",
    "\n",
    "plt.show()"
   ]
  },
  {
   "cell_type": "markdown",
   "id": "e1267cb2",
   "metadata": {
    "pycharm": {
     "name": "#%% md\n"
    }
   },
   "source": [
    "### 5.2-2"
   ]
  },
  {
   "cell_type": "code",
   "execution_count": 34,
   "id": "23bfbefe",
   "metadata": {
    "pycharm": {
     "name": "#%%\n"
    }
   },
   "outputs": [
    {
     "data": {
      "image/png": "[encoded data removed]",
      "text/plain": [
       "<Figure size 432x216 with 1 Axes>"
      ]
     },
     "metadata": {},
     "output_type": "display_data"
    }
   ],
   "source": [
    "import matplotlib.pyplot as plt\n",
    "import numpy as np\n",
    "from sklearn.preprocessing import PolynomialFeatures\n",
    "from sklearn.linear_model import LinearRegression\n",
    "\n",
    "rnd = np.random.RandomState(3)\t# 为了演示，采用固定的随机\n",
    "x_min, x_max = -1, 1\n",
    "\n",
    "# 上帝函数 y=f(x)\n",
    "def f(x):\n",
    "\treturn x**2\n",
    "\n",
    "# 上帝分布 P(Y|X)\n",
    "def P(X):\n",
    "\treturn f(X) + rnd.normal(scale=0.1, size=X.shape)\n",
    "\n",
    "# 通过 P(X, Y) 生成数据集 D\n",
    "X = rnd.uniform(x_min, x_max, 10)   # 通过均匀分布产生 X\n",
    "y = P(X)                            # 通过 P(Y|X) 产生 y\n",
    "\n",
    "# 设置字体大小\n",
    "plt.rcParams.update({'font.size': 14})\n",
    "# 设置subfigure\n",
    "fig, ax = plt.subplots(figsize = (6, 3))\n",
    "plt.subplots_adjust(left=0.25, right=0.75, top=0.999, bottom=0.08)\n",
    "ax.set(xticks=[], yticks=[])\n",
    "ax.set_xlabel('$x$'),ax.set_ylabel('$y$')\n",
    "ax.set_xlim(x_min, x_max)\n",
    "\n",
    "# 绘制数据集\n",
    "ax.scatter(x=X, y=y)\n",
    "\n",
    "# 进行二次多项式回归\n",
    "poly = PolynomialFeatures(degree=2)\t# 建立二次多项式的坐标转换\n",
    "Z = poly.fit_transform(X.reshape(-1, 1)) # 将 X 转化为 Z\n",
    "LR = LinearRegression().fit(Z, y) # 在 zy 坐标系中进行线性回归\n",
    "\n",
    "# 在 xy 坐标中绘制二次曲线\n",
    "xx = np.linspace(x_min, x_max)\n",
    "zz = poly.fit_transform(xx.reshape(-1, 1))\n",
    "ax.plot(xx, LR.predict(zz), 'k-')\n",
    "\n",
    "plt.show()"
   ]
  },
  {
   "cell_type": "code",
   "execution_count": 35,
   "id": "346551e8",
   "metadata": {
    "pycharm": {
     "name": "#%%\n"
    }
   },
   "outputs": [
    {
     "name": "stderr",
     "output_type": "stream",
     "text": [
      "/Users/jiahuasong/opt/anaconda3/lib/python3.9/site-packages/IPython/core/pylabtools.py:151: UserWarning: Glyph 32447 (\\N{CJK UNIFIED IDEOGRAPH-7EBF}) missing from current font.\n",
      "  fig.canvas.print_figure(bytes_io, **kw)\n",
      "/Users/jiahuasong/opt/anaconda3/lib/python3.9/site-packages/IPython/core/pylabtools.py:151: UserWarning: Glyph 24615 (\\N{CJK UNIFIED IDEOGRAPH-6027}) missing from current font.\n",
      "  fig.canvas.print_figure(bytes_io, **kw)\n",
      "/Users/jiahuasong/opt/anaconda3/lib/python3.9/site-packages/IPython/core/pylabtools.py:151: UserWarning: Glyph 22238 (\\N{CJK UNIFIED IDEOGRAPH-56DE}) missing from current font.\n",
      "  fig.canvas.print_figure(bytes_io, **kw)\n",
      "/Users/jiahuasong/opt/anaconda3/lib/python3.9/site-packages/IPython/core/pylabtools.py:151: UserWarning: Glyph 24402 (\\N{CJK UNIFIED IDEOGRAPH-5F52}) missing from current font.\n",
      "  fig.canvas.print_figure(bytes_io, **kw)\n",
      "/Users/jiahuasong/opt/anaconda3/lib/python3.9/site-packages/IPython/core/pylabtools.py:151: UserWarning: Glyph 27425 (\\N{CJK UNIFIED IDEOGRAPH-6B21}) missing from current font.\n",
      "  fig.canvas.print_figure(bytes_io, **kw)\n",
      "/Users/jiahuasong/opt/anaconda3/lib/python3.9/site-packages/IPython/core/pylabtools.py:151: UserWarning: Glyph 22810 (\\N{CJK UNIFIED IDEOGRAPH-591A}) missing from current font.\n",
      "  fig.canvas.print_figure(bytes_io, **kw)\n",
      "/Users/jiahuasong/opt/anaconda3/lib/python3.9/site-packages/IPython/core/pylabtools.py:151: UserWarning: Glyph 39033 (\\N{CJK UNIFIED IDEOGRAPH-9879}) missing from current font.\n",
      "  fig.canvas.print_figure(bytes_io, **kw)\n",
      "/Users/jiahuasong/opt/anaconda3/lib/python3.9/site-packages/IPython/core/pylabtools.py:151: UserWarning: Glyph 24335 (\\N{CJK UNIFIED IDEOGRAPH-5F0F}) missing from current font.\n",
      "  fig.canvas.print_figure(bytes_io, **kw)\n"
     ]
    },
    {
     "data": {
      "image/png": "[encoded data removed]",
      "text/plain": [
       "<Figure size 432x144 with 3 Axes>"
      ]
     },
     "metadata": {},
     "output_type": "display_data"
    }
   ],
   "source": [
    "import matplotlib.pyplot as plt\n",
    "import numpy as np\n",
    "from sklearn.preprocessing import PolynomialFeatures\n",
    "from sklearn.linear_model import LinearRegression\n",
    "\n",
    "rnd = np.random.RandomState(3)\t# 为了演示，采用固定的随机\n",
    "x_min, x_max = -1, 1\n",
    "\n",
    "# 上帝函数 y=f(x)\n",
    "def f(x):\n",
    "\treturn x**2\n",
    "\n",
    "# 上帝分布 P(Y|X)\n",
    "def P(X):\n",
    "\treturn f(X) + rnd.normal(scale=0.1, size=X.shape)\n",
    "\n",
    "# 通过 P(X, Y) 生成数据集 D\n",
    "X = rnd.uniform(x_min, x_max, 10)   # 通过均匀分布产生 X\n",
    "y = P(X)                            # 通过 P(Y|X) 产生 y\n",
    "\n",
    "# 设置字体大小\n",
    "plt.rcParams.update({'font.size': 12})\n",
    "# 设置subfigure\n",
    "fig, axes = plt.subplots(figsize = (6, 2), nrows=1, ncols=3)\n",
    "plt.subplots_adjust(left=0.001, right=0.999, top=0.999, bottom=0.1)\n",
    "\n",
    "# 多项式回归，degree 参数表示多项式的最高次数\n",
    "def poly_regression(degree, ax, X, y):\n",
    "\t# 在 zy 坐标系进行线性回归\n",
    "\tpoly = PolynomialFeatures(degree=degree)    # 建立多项式的坐标转换\n",
    "\tZ = poly.fit_transform(X.reshape(-1, 1))\t# 将 X 转化为 Z  \n",
    "\tLR = LinearRegression().fit(Z, y)\t\t\t# 在 zy 坐标系进行线性回归\n",
    "\n",
    "\t# 在 xy 坐标系绘制多项式曲线\n",
    "\txx = np.linspace(x_min, x_max)\n",
    "\tzz = poly.fit_transform(xx.reshape(-1, 1))\n",
    "\tax.plot(xx, LR.predict(zz), 'k-')\n",
    "\n",
    "xlabels = ('线性回归', '5 次多项式回归', '7 次多项式回归')\n",
    "degrees = (1, 5, 7) # 多项式的最高次数\n",
    "for ax, xlabel, degree, in zip(axes.flat, xlabels, degrees):\n",
    "\tax.set(xticks=[], yticks=[])\n",
    "\tax.set_xlabel(xlabel)\n",
    "\tax.set_xlim(x_min, x_max), ax.set_ylim(-0.2, 0.9)\n",
    "\n",
    "\t# 绘制数据集\n",
    "\tax.scatter(x=X, y=y)\n",
    "\tpoly_regression(degree, ax, X, y)\n",
    "\n",
    "plt.show()"
   ]
  },
  {
   "cell_type": "code",
   "execution_count": 36,
   "id": "27c4539b",
   "metadata": {
    "pycharm": {
     "name": "#%%\n"
    }
   },
   "outputs": [
    {
     "name": "stderr",
     "output_type": "stream",
     "text": [
      "/Users/jiahuasong/opt/anaconda3/lib/python3.9/site-packages/sklearn/utils/deprecation.py:87: FutureWarning: Function load_boston is deprecated; `load_boston` is deprecated in 1.0 and will be removed in 1.2.\n",
      "\n",
      "    The Boston housing prices dataset has an ethical problem. You can refer to\n",
      "    the documentation of this function for further details.\n",
      "\n",
      "    The scikit-learn maintainers therefore strongly discourage the use of this\n",
      "    dataset unless the purpose of the code is to study and educate about\n",
      "    ethical issues in data science and machine learning.\n",
      "\n",
      "    In this special case, you can fetch the dataset from the original\n",
      "    source::\n",
      "\n",
      "        import pandas as pd\n",
      "        import numpy as np\n",
      "\n",
      "\n",
      "        data_url = \"http://lib.stat.cmu.edu/datasets/boston\"\n",
      "        raw_df = pd.read_csv(data_url, sep=\"\\s+\", skiprows=22, header=None)\n",
      "        data = np.hstack([raw_df.values[::2, :], raw_df.values[1::2, :2]])\n",
      "        target = raw_df.values[1::2, 2]\n",
      "\n",
      "    Alternative datasets include the California housing dataset (i.e.\n",
      "    :func:`~sklearn.datasets.fetch_california_housing`) and the Ames housing\n",
      "    dataset. You can load the datasets as follows::\n",
      "\n",
      "        from sklearn.datasets import fetch_california_housing\n",
      "        housing = fetch_california_housing()\n",
      "\n",
      "    for the California housing dataset and::\n",
      "\n",
      "        from sklearn.datasets import fetch_openml\n",
      "        housing = fetch_openml(name=\"house_prices\", as_frame=True)\n",
      "\n",
      "    for the Ames housing dataset.\n",
      "    \n",
      "  warnings.warn(msg, category=FutureWarning)\n"
     ]
    },
    {
     "name": "stdout",
     "output_type": "stream",
     "text": [
      "多项式的最高次数为：1，测试集上的经验误差为：27.195965766883248\n",
      "多项式的最高次数为：2，测试集上的经验误差为：28.93571304218183\n",
      "多项式的最高次数为：3，测试集上的经验误差为：85912.07718510348\n",
      "多项式的最高次数为：4，测试集上的经验误差为：546667.2171124583\n",
      "多项式的最高次数为：5，测试集上的经验误差为：14811.52241188933\n"
     ]
    }
   ],
   "source": [
    "import numpy as np\n",
    "from sklearn.datasets import load_boston\n",
    "from sklearn.model_selection import train_test_split\n",
    "from sklearn.metrics import mean_squared_error\n",
    "from sklearn.preprocessing import PolynomialFeatures\n",
    "from sklearn.linear_model import LinearRegression\n",
    "\n",
    "# 读取波士顿房价数据集\n",
    "X, y = load_boston(return_X_y=True)\n",
    "\n",
    "# 70% 用于训练，30% 用于测试\n",
    "X_train, X_test, y_train, y_test = train_test_split(X, y, test_size =0.3, random_state = 0)\n",
    "\n",
    "degrees = np.array([1, 2, 3, 4, 5])\t# 多项式的最高次数\n",
    "for degree in degrees:\n",
    "\t# 在 zy 坐标系进行线性回归\n",
    "\tpoly = PolynomialFeatures(degree=degree)    \t\t# 建立多项式的坐标转换\n",
    "\tZ_train = poly.fit_transform(X_train)\t\t\t\t# 将 X_train 转化为 Z_train \n",
    "\tLR = LinearRegression().fit(Z_train, y_train)\t\t# 在 zy 坐标系进行线性回归\n",
    "\n",
    "\t# 在 zy 坐标系下计算测试集的\n",
    "\tZ_test = poly.fit_transform(X_test)\t\t\t\t\t# 将 X_test 转化为 Z_test \n",
    "\ty_pred = LR.predict(Z_test)\t\t\t\t\t\t\t# 在 zy 坐标系下进行预测\n",
    "\tprint('多项式的最高次数为：{}，测试集上的经验误差为：{}'.format(degree, mean_squared_error(y_pred, y_test)))"
   ]
  },
  {
   "cell_type": "markdown",
   "id": "84101bec",
   "metadata": {
    "pycharm": {
     "name": "#%% md\n"
    }
   },
   "source": [
    "### 5.3-2"
   ]
  },
  {
   "cell_type": "code",
   "execution_count": 37,
   "id": "79cd45bd",
   "metadata": {
    "pycharm": {
     "name": "#%%\n"
    }
   },
   "outputs": [
    {
     "data": {
      "image/png": "[encoded data removed]",
      "text/plain": [
       "<Figure size 432x216 with 1 Axes>"
      ]
     },
     "metadata": {},
     "output_type": "display_data"
    }
   ],
   "source": [
    "import matplotlib.pyplot as plt\n",
    "import numpy as np\n",
    "\n",
    "rnd = np.random.RandomState(3)\t# 为了演示，采用固定的随机\n",
    "x_min, x_max = 0, 10\n",
    "\n",
    "# 上帝函数 y=f(x)\n",
    "def f(x):\n",
    "\treturn x**5-22*x**4+161*x**3-403*x**2+36*x+938\n",
    "\n",
    "# 上帝分布 P(Y|X)\n",
    "def P(X):\n",
    "\treturn f(X) + rnd.normal(scale=30, size=X.shape)\n",
    "\n",
    "# 通过 P(X, Y) 生成数据集 D\n",
    "X = rnd.uniform(x_min, x_max, 10)   # 通过均匀分布产生 X\n",
    "y = P(X)                            # 通过 P(Y|X) 产生 y\n",
    "\n",
    "# 以下是绘制代码\n",
    "# 设置字体大小\n",
    "plt.rcParams.update({'font.size': 14})\n",
    "# 设置subfigure\n",
    "fig, ax = plt.subplots(figsize = (6, 3))\n",
    "plt.subplots_adjust(left=0.25, right=0.75, top=0.999, bottom=0.08)\n",
    "ax.set(xticks=[], yticks=[])\n",
    "ax.set_xlabel('$x$'),ax.set_ylabel('$y$')\n",
    "ax.set_xlim(x_min, x_max),ax.set_ylim(0, 1000)\n",
    "\n",
    "# 绘制数据集\n",
    "ax.scatter(x=X, y=y)\n",
    "\n",
    "# 绘制上帝函数\n",
    "xx = np.linspace(x_min, x_max)\n",
    "ax.plot(xx, f(xx), 'k--')\n",
    "\n",
    "plt.show()"
   ]
  },
  {
   "cell_type": "code",
   "execution_count": 38,
   "id": "2b765f36",
   "metadata": {
    "pycharm": {
     "name": "#%%\n"
    }
   },
   "outputs": [
    {
     "name": "stderr",
     "output_type": "stream",
     "text": [
      "/Users/jiahuasong/opt/anaconda3/lib/python3.9/site-packages/IPython/core/pylabtools.py:151: UserWarning: Glyph 27425 (\\N{CJK UNIFIED IDEOGRAPH-6B21}) missing from current font.\n",
      "  fig.canvas.print_figure(bytes_io, **kw)\n",
      "/Users/jiahuasong/opt/anaconda3/lib/python3.9/site-packages/IPython/core/pylabtools.py:151: UserWarning: Glyph 22810 (\\N{CJK UNIFIED IDEOGRAPH-591A}) missing from current font.\n",
      "  fig.canvas.print_figure(bytes_io, **kw)\n",
      "/Users/jiahuasong/opt/anaconda3/lib/python3.9/site-packages/IPython/core/pylabtools.py:151: UserWarning: Glyph 39033 (\\N{CJK UNIFIED IDEOGRAPH-9879}) missing from current font.\n",
      "  fig.canvas.print_figure(bytes_io, **kw)\n",
      "/Users/jiahuasong/opt/anaconda3/lib/python3.9/site-packages/IPython/core/pylabtools.py:151: UserWarning: Glyph 24335 (\\N{CJK UNIFIED IDEOGRAPH-5F0F}) missing from current font.\n",
      "  fig.canvas.print_figure(bytes_io, **kw)\n"
     ]
    },
    {
     "data": {
      "image/png": "[encoded data removed]",
      "text/plain": [
       "<Figure size 432x216 with 6 Axes>"
      ]
     },
     "metadata": {},
     "output_type": "display_data"
    }
   ],
   "source": [
    "import matplotlib.pyplot as plt\n",
    "import numpy as np\n",
    "from sklearn.preprocessing import PolynomialFeatures\n",
    "from sklearn.linear_model import LinearRegression\n",
    "from sklearn.model_selection import train_test_split\n",
    "\n",
    "rnd = np.random.RandomState(3)\t# 为了演示，采用固定的随机\n",
    "x_min, x_max = 0, 10\n",
    "\n",
    "# 上帝函数 y=f(x)\n",
    "def f(x):\n",
    "\treturn x**5-22*x**4+161*x**3-403*x**2+36*x+938\n",
    "\n",
    "# 上帝分布 P(Y|X)\n",
    "def P(X):\n",
    "\treturn f(X) + rnd.normal(scale=30, size=X.shape)\n",
    "\n",
    "# 通过 P(X, Y) 生成数据集 D\n",
    "X = rnd.uniform(x_min, x_max, 10)   # 通过均匀分布产生 X\n",
    "y = P(X)                            # 通过 P(Y|X) 产生 y\n",
    "\n",
    "X_train, X_test, y_train, y_test = train_test_split(X, y, test_size =0.3, random_state = 0)\n",
    "\n",
    "# 设置字体大小\n",
    "plt.rcParams.update({'font.size': 11})\n",
    "# 设置subfigure\n",
    "fig, axes = plt.subplots(figsize = (6, 3), nrows=2, ncols=3)\n",
    "plt.subplots_adjust(left=0.001, right=0.999, top=0.999, bottom=0.08)\n",
    "\n",
    "# 多项式回归，degree 参数表示多项式的最高次数\n",
    "def poly_regression(degree, ax, X, y):\n",
    "\t# 在 zy 坐标系进行线性回归\n",
    "\tpoly = PolynomialFeatures(degree=degree)    # 建立多项式的坐标转换\n",
    "\tZ = poly.fit_transform(X.reshape(-1, 1))\t# 将 X 转化为 Z  \n",
    "\tLR = LinearRegression().fit(Z, y)\t\t\t# 在 zy 坐标系进行线性回归\n",
    "\n",
    "\t# 在 xy 坐标系绘制多项式曲线\n",
    "\txx = np.linspace(x_min, x_max)\n",
    "\tzz = poly.fit_transform(xx.reshape(-1, 1))\n",
    "\tax.plot(xx, LR.predict(zz), 'k-')\n",
    "\n",
    "degrees = (1, 2, 3, 5, 7, 10) # 多项式的最高次数\n",
    "for ax, degree, in zip(axes.flat, degrees):\n",
    "\tax.set(xticks=[], yticks=[])\n",
    "\tax.set_xlabel('{} 次多项式'.format(degree))\n",
    "\tax.set_xlim(x_min, x_max),ax.set_ylim(0, 1000)\n",
    "\n",
    "\t# 绘制数据集\n",
    "\tax.scatter(x=X_train, y=y_train, s=4**2)\n",
    "\tpoly_regression(degree, ax, X_train, y_train)\n",
    "\n",
    "plt.show()"
   ]
  },
  {
   "cell_type": "code",
   "execution_count": 39,
   "id": "d4f16d72",
   "metadata": {
    "pycharm": {
     "name": "#%%\n"
    }
   },
   "outputs": [
    {
     "name": "stdout",
     "output_type": "stream",
     "text": [
      "多项式的最高次数为：1，测试集上的经验误差为：94922.35091761773\n",
      "多项式的最高次数为：2，测试集上的经验误差为：68036.2302171701\n",
      "多项式的最高次数为：3，测试集上的经验误差为：9017.364456150466\n",
      "多项式的最高次数为：5，测试集上的经验误差为：4821.151323905658\n",
      "多项式的最高次数为：7，测试集上的经验误差为：105373.5205310372\n",
      "多项式的最高次数为：10，测试集上的经验误差为：12405.712819443308\n"
     ]
    }
   ],
   "source": [
    "import matplotlib.pyplot as plt\n",
    "import numpy as np\n",
    "from sklearn.preprocessing import PolynomialFeatures\n",
    "from sklearn.linear_model import LinearRegression\n",
    "from sklearn.model_selection import train_test_split\n",
    "from sklearn.metrics import mean_squared_error\n",
    "\n",
    "rnd = np.random.RandomState(3)\t# 为了演示，采用固定的随机\n",
    "x_min, x_max = 0, 10\n",
    "\n",
    "# 上帝函数 y=f(x)\n",
    "def f(x):\n",
    "\treturn x**5-22*x**4+161*x**3-403*x**2+36*x+938\n",
    "\n",
    "# 上帝分布 P(Y|X)\n",
    "def P(X):\n",
    "\treturn f(X) + rnd.normal(scale=30, size=X.shape)\n",
    "\n",
    "# 通过 P(X, Y) 生成数据集 D\n",
    "X = rnd.uniform(x_min, x_max, 10)   # 通过均匀分布产生 X\n",
    "y = P(X)                            # 通过 P(Y|X) 产生 y\n",
    "\n",
    "X_train, X_test, y_train, y_test = train_test_split(X, y, test_size =0.3, random_state = 0)\n",
    "\n",
    "degrees = (1, 2, 3, 5, 7, 10) # 多项式的最高次数\n",
    "for degree in degrees:\n",
    "\t# 在 zy 坐标系进行线性回归\n",
    "\tpoly = PolynomialFeatures(degree=degree)    \t\t    # 建立多项式的坐标转换\n",
    "\tZ_train = poly.fit_transform(X_train.reshape(-1, 1))    # 将 X_train 转化为 Z_train \n",
    "\tLR = LinearRegression().fit(Z_train, y_train)\t\t    # 在 zy 坐标系进行线性回归\n",
    "\n",
    "\t# 在 zy 坐标系下计算测试集的\n",
    "\tZ_test = poly.fit_transform(X_test.reshape(-1, 1))\t\t# 将 X_test 转化为 Z_test \n",
    "\ty_pred = LR.predict(Z_test)\t\t\t\t\t\t\t    # 在 zy 坐标系下进行预测\n",
    "\tprint('多项式的最高次数为：{}，测试集上的经验误差为：{}'.format(degree, mean_squared_error(y_pred, y_test)))"
   ]
  },
  {
   "cell_type": "markdown",
   "id": "67d4731b",
   "metadata": {
    "pycharm": {
     "name": "#%% md\n"
    }
   },
   "source": [
    "### 5.3-3"
   ]
  },
  {
   "cell_type": "code",
   "execution_count": 40,
   "id": "b81c8894",
   "metadata": {
    "pycharm": {
     "name": "#%%\n"
    }
   },
   "outputs": [
    {
     "name": "stderr",
     "output_type": "stream",
     "text": [
      "/Users/jiahuasong/opt/anaconda3/lib/python3.9/site-packages/IPython/core/pylabtools.py:151: UserWarning: Glyph 27425 (\\N{CJK UNIFIED IDEOGRAPH-6B21}) missing from current font.\n",
      "  fig.canvas.print_figure(bytes_io, **kw)\n",
      "/Users/jiahuasong/opt/anaconda3/lib/python3.9/site-packages/IPython/core/pylabtools.py:151: UserWarning: Glyph 22810 (\\N{CJK UNIFIED IDEOGRAPH-591A}) missing from current font.\n",
      "  fig.canvas.print_figure(bytes_io, **kw)\n",
      "/Users/jiahuasong/opt/anaconda3/lib/python3.9/site-packages/IPython/core/pylabtools.py:151: UserWarning: Glyph 39033 (\\N{CJK UNIFIED IDEOGRAPH-9879}) missing from current font.\n",
      "  fig.canvas.print_figure(bytes_io, **kw)\n",
      "/Users/jiahuasong/opt/anaconda3/lib/python3.9/site-packages/IPython/core/pylabtools.py:151: UserWarning: Glyph 24335 (\\N{CJK UNIFIED IDEOGRAPH-5F0F}) missing from current font.\n",
      "  fig.canvas.print_figure(bytes_io, **kw)\n"
     ]
    },
    {
     "data": {
      "image/png": "[encoded data removed]",
      "text/plain": [
       "<Figure size 432x216 with 6 Axes>"
      ]
     },
     "metadata": {},
     "output_type": "display_data"
    }
   ],
   "source": [
    "import matplotlib.pyplot as plt\n",
    "import numpy as np\n",
    "from sklearn.preprocessing import PolynomialFeatures\n",
    "from sklearn.linear_model import LinearRegression\n",
    "from sklearn.model_selection import train_test_split\n",
    "\n",
    "rnd = np.random.RandomState(3)\t# 为了演示，采用固定的随机\n",
    "x_min, x_max = 0, 10\n",
    "\n",
    "# 上帝函数 y=f(x)\n",
    "def f(x):\n",
    "\treturn x**5-22*x**4+161*x**3-403*x**2+36*x+938\n",
    "\n",
    "# 上帝分布 P(Y|X)\n",
    "def P(X):\n",
    "\treturn f(X) + rnd.normal(scale=30, size=X.shape)\n",
    "\n",
    "# 通过 P(X, Y) 生成数据集 D\n",
    "X = rnd.uniform(x_min, x_max, 50)   # 通过均匀分布产生 X\n",
    "y = P(X)                            # 通过 P(Y|X) 产生 y\n",
    "\n",
    "X_train, X_test, y_train, y_test = train_test_split(X, y, test_size =0.3, random_state = 0)\n",
    "\n",
    "# 设置字体大小\n",
    "plt.rcParams.update({'font.size': 11})\n",
    "# 设置subfigure\n",
    "fig, axes = plt.subplots(figsize = (6, 3), nrows=2, ncols=3)\n",
    "plt.subplots_adjust(left=0.001, right=0.999, top=0.999, bottom=0.08)\n",
    "\n",
    "# 多项式回归，degree 参数表示多项式的最高次数\n",
    "def poly_regression(degree, ax, X, y):\n",
    "\t# 在 zy 坐标系进行线性回归\n",
    "\tpoly = PolynomialFeatures(degree=degree)    # 建立多项式的坐标转换\n",
    "\tZ = poly.fit_transform(X.reshape(-1, 1))\t# 将 X 转化为 Z  \n",
    "\tLR = LinearRegression().fit(Z, y)\t\t\t# 在 zy 坐标系进行线性回归\n",
    "\n",
    "\t# 在 xy 坐标系绘制多项式曲线\n",
    "\txx = np.linspace(x_min, x_max)\n",
    "\tzz = poly.fit_transform(xx.reshape(-1, 1))\n",
    "\tax.plot(xx, LR.predict(zz), 'k-')\n",
    "\n",
    "degrees = (1, 2, 3, 5, 7, 10) # 多项式的最高次数\n",
    "for ax, degree, in zip(axes.flat, degrees):\n",
    "\tax.set(xticks=[], yticks=[])\n",
    "\tax.set_xlabel('{} 次多项式'.format(degree))\n",
    "\tax.set_xlim(x_min, x_max),ax.set_ylim(0, 1000)\n",
    "\n",
    "\t# 绘制数据集\n",
    "\tax.scatter(x=X_train, y=y_train, s=4**2)\n",
    "\tpoly_regression(degree, ax, X_train, y_train)\n",
    "\n",
    "plt.show()"
   ]
  },
  {
   "cell_type": "code",
   "execution_count": 41,
   "id": "196afbf5",
   "metadata": {
    "pycharm": {
     "name": "#%%\n"
    }
   },
   "outputs": [
    {
     "name": "stdout",
     "output_type": "stream",
     "text": [
      "多项式的最高次数为：1，测试集上的经验误差为：69302.13930154055\n",
      "多项式的最高次数为：2，测试集上的经验误差为：37991.32593575171\n",
      "多项式的最高次数为：3，测试集上的经验误差为：23266.002623488897\n",
      "多项式的最高次数为：5，测试集上的经验误差为：967.8656307127442\n",
      "多项式的最高次数为：7，测试集上的经验误差为：990.6270081600568\n",
      "多项式的最高次数为：10，测试集上的经验误差为：808.7782460259259\n"
     ]
    }
   ],
   "source": [
    "import matplotlib.pyplot as plt\n",
    "import numpy as np\n",
    "from sklearn.preprocessing import PolynomialFeatures\n",
    "from sklearn.linear_model import LinearRegression\n",
    "from sklearn.model_selection import train_test_split\n",
    "from sklearn.metrics import mean_squared_error\n",
    "\n",
    "rnd = np.random.RandomState(3)\t# 为了演示，采用固定的随机\n",
    "x_min, x_max = 0, 10\n",
    "\n",
    "# 上帝函数 y=f(x)\n",
    "def f(x):\n",
    "\treturn x**5-22*x**4+161*x**3-403*x**2+36*x+938\n",
    "\n",
    "# 上帝分布 P(Y|X)\n",
    "def P(X):\n",
    "\treturn f(X) + rnd.normal(scale=30, size=X.shape)\n",
    "\n",
    "# 通过 P(X, Y) 生成数据集 D\n",
    "X = rnd.uniform(x_min, x_max, 50)   # 通过均匀分布产生 X\n",
    "y = P(X)                            # 通过 P(Y|X) 产生 y\n",
    "\n",
    "X_train, X_test, y_train, y_test = train_test_split(X, y, test_size =0.3, random_state = 0)\n",
    "\n",
    "degrees = (1, 2, 3, 5, 7, 10) # 多项式的最高次数\n",
    "for degree in degrees:\n",
    "\t# 在 zy 坐标系进行线性回归\n",
    "\tpoly = PolynomialFeatures(degree=degree)    \t\t    # 建立多项式的坐标转换\n",
    "\tZ_train = poly.fit_transform(X_train.reshape(-1, 1))    # 将 X_train 转化为 Z_train \n",
    "\tLR = LinearRegression().fit(Z_train, y_train)\t\t    # 在 zy 坐标系进行线性回归\n",
    "\n",
    "\t# 在 zy 坐标系下计算测试集的\n",
    "\tZ_test = poly.fit_transform(X_test.reshape(-1, 1))\t\t# 将 X_test 转化为 Z_test \n",
    "\ty_pred = LR.predict(Z_test)\t\t\t\t\t\t\t    # 在 zy 坐标系下进行预测\n",
    "\tprint('多项式的最高次数为：{}，测试集上的经验误差为：{}'.format(degree, mean_squared_error(y_pred, y_test)))"
   ]
  },
  {
   "cell_type": "markdown",
   "id": "33d2d1cb",
   "metadata": {
    "pycharm": {
     "name": "#%% md\n"
    }
   },
   "source": [
    "### 5.4-7"
   ]
  },
  {
   "cell_type": "code",
   "execution_count": 42,
   "id": "90b04251",
   "metadata": {
    "pycharm": {
     "name": "#%%\n"
    }
   },
   "outputs": [
    {
     "name": "stdout",
     "output_type": "stream",
     "text": [
      "多项式的最高次数为：1，测试集上的经验误差为：69302.13930154055\n",
      "多项式的最高次数为：2，测试集上的经验误差为：37991.32593575171\n",
      "多项式的最高次数为：3，测试集上的经验误差为：23266.002623488897\n",
      "多项式的最高次数为：5，测试集上的经验误差为：967.8656307127442\n",
      "多项式的最高次数为：7，测试集上的经验误差为：990.6270081600568\n",
      "多项式的最高次数为：10，测试集上的经验误差为：808.7782460259259\n"
     ]
    }
   ],
   "source": [
    "import matplotlib.pyplot as plt\n",
    "import numpy as np\n",
    "from sklearn.preprocessing import PolynomialFeatures\n",
    "from sklearn.linear_model import LinearRegression\n",
    "from sklearn.model_selection import train_test_split\n",
    "from sklearn.metrics import mean_squared_error\n",
    "\n",
    "rnd = np.random.RandomState(3)\t# 为了演示，采用固定的随机\n",
    "x_min, x_max = 0, 10\n",
    "\n",
    "# 上帝函数 y=f(x)\n",
    "def f(x):\n",
    "\treturn x**5-22*x**4+161*x**3-403*x**2+36*x+938\n",
    "\n",
    "# 上帝分布 P(Y|X)\n",
    "def P(X):\n",
    "\treturn f(X) + rnd.normal(scale=30, size=X.shape)\n",
    "\n",
    "# 通过 P(X, Y) 生成数据集 D\n",
    "X = rnd.uniform(x_min, x_max, 50)   # 通过均匀分布产生 X\n",
    "y = P(X)                            # 通过 P(Y|X) 产生 y\n",
    "\n",
    "X_train, X_test, y_train, y_test = train_test_split(X, y, test_size =0.3, random_state = 0)\n",
    "\n",
    "degrees = (1, 2, 3, 5, 7, 10) # 多项式的最高次数\n",
    "for degree in degrees:\n",
    "\t# 在 zy 坐标系进行线性回归\n",
    "\tpoly = PolynomialFeatures(degree=degree)    \t\t    # 建立多项式的坐标转换\n",
    "\tZ_train = poly.fit_transform(X_train.reshape(-1, 1))    # 将 X_train 转化为 Z_train \n",
    "\tLR = LinearRegression().fit(Z_train, y_train)\t\t    # 在 zy 坐标系进行线性回归\n",
    "\n",
    "\t# 在 zy 坐标系下计算测试集的\n",
    "\tZ_test = poly.fit_transform(X_test.reshape(-1, 1))\t\t# 将 X_test 转化为 Z_test \n",
    "\ty_pred = LR.predict(Z_test)\t\t\t\t\t\t\t    # 在 zy 坐标系下进行预测\n",
    "\tprint('多项式的最高次数为：{}，测试集上的经验误差为：{}'.format(degree, mean_squared_error(y_pred, y_test)))"
   ]
  },
  {
   "cell_type": "code",
   "execution_count": 43,
   "id": "96eda13f",
   "metadata": {
    "pycharm": {
     "name": "#%%\n"
    }
   },
   "outputs": [
    {
     "data": {
      "image/png": "[encoded data removed]",
      "text/plain": [
       "<Figure size 432x216 with 1 Axes>"
      ]
     },
     "metadata": {},
     "output_type": "display_data"
    }
   ],
   "source": [
    "import matplotlib.pyplot as plt\n",
    "import numpy as np\n",
    "\n",
    "rnd = np.random.RandomState(3)\t# 为了演示，采用固定的随机\n",
    "x_min, x_max = -1, 1\n",
    "\n",
    "# 上帝函数 y=f(x)\n",
    "def f(x):\n",
    "\treturn x**2\n",
    "\n",
    "# 上帝分布 P(Y|X)\n",
    "def P(X):\n",
    "\treturn f(X) + rnd.normal(scale=0.1, size=X.shape)\n",
    "\n",
    "# 通过 P(X, Y) 生成数据集 D\n",
    "X = rnd.uniform(x_min, x_max, 10)   # 通过均匀分布产生 X\n",
    "y = P(X)                            # 通过 P(Y|X) 产生 y\n",
    "\n",
    "# 利用范德蒙行列式进行特征转换\n",
    "Z = np.vander(X, 11, increasing=True)\n",
    "\n",
    "# 在转换后的坐标系下完成最小二乘法\n",
    "pinvZ = np.linalg.pinv(Z) \t# 计算伪逆\n",
    "w = pinvZ @ y \t\t\t\t# 最小二乘法的矩阵算法\n",
    "\n",
    "# 以下是绘制代码\n",
    "# 设置字体大小\n",
    "plt.rcParams.update({'font.size': 14})\n",
    "# 设置subfigure\n",
    "fig, ax = plt.subplots(figsize = (6, 3))\n",
    "plt.subplots_adjust(left=0.25, right=0.75, top=0.999, bottom=0.08)\n",
    "ax.set(xticks=[], yticks=[])\n",
    "ax.set_xlabel('$x$'),ax.set_ylabel('$y$')\n",
    "ax.set_xlim(x_min, x_max),ax.set_ylim(-0.2, 1.1)\n",
    "\n",
    "# 绘制数据集 D\n",
    "ax.scatter(x=X, y=y)\n",
    "\n",
    "# 绘制拟合的 10 次多项式曲线\n",
    "def h(xx):\n",
    "\treturn w[0]+w[1]*xx+w[2]*xx**2+w[3]*xx**3+w[4]*xx**4+w[5]*xx**5+w[6]*xx**6+w[7]*xx**7+w[8]*xx**8+w[9]*xx**9+w[10]*xx**10\n",
    "xx = np.linspace(x_min, x_max)\n",
    "ax.plot(xx, h(xx), 'k--')\n",
    "\n",
    "plt.show()"
   ]
  },
  {
   "cell_type": "code",
   "execution_count": 55,
   "id": "1d0631a5",
   "metadata": {
    "pycharm": {
     "name": "#%%\n"
    }
   },
   "outputs": [
    {
     "data": {
      "image/png": "[encoded data removed]",
      "text/plain": [
       "<Figure size 432x216 with 1 Axes>"
      ]
     },
     "metadata": {},
     "output_type": "display_data"
    }
   ],
   "source": [
    "import matplotlib.pyplot as plt\n",
    "import numpy as np\n",
    "\n",
    "lambVal = 0.0001 # 岭回归中的 lambda，越大对模型复杂度的惩罚越大\n",
    "\n",
    "rnd = np.random.RandomState(3)\t# 为了演示，采用固定的随机\n",
    "x_min, x_max = -1, 1\n",
    "\n",
    "# 上帝函数 y=f(x)\n",
    "def f(x):\n",
    "\treturn x**2\n",
    "\n",
    "# 上帝分布 P(Y|X)\n",
    "def P(X):\n",
    "\treturn f(X) + rnd.normal(scale=0.1, size=X.shape)\n",
    "\n",
    "# 通过 P(X, Y) 生成数据集 D\n",
    "X = rnd.uniform(x_min, x_max, 10)   # 通过均匀分布产生 X\n",
    "y = P(X)                            # 通过 P(Y|X) 产生 y\n",
    "\n",
    "# 利用范德蒙行列式进行特征转换\n",
    "Z = np.vander(X, 11, increasing=True)\n",
    "\n",
    "# 在转换后的坐标系下完成岭回归\n",
    "zTz = Z.T @ Z\n",
    "I = np.eye(zTz.shape[0])\n",
    "w = np.linalg.inv(zTz + lambVal*I) @ Z.T @ y\n",
    "\n",
    "# 以下是绘制代码\n",
    "# 设置字体大小\n",
    "plt.rcParams.update({'font.size': 14})\n",
    "# 设置subfigure\n",
    "fig, ax = plt.subplots(figsize = (6, 3))\n",
    "plt.subplots_adjust(left=0.25, right=0.75, top=0.999, bottom=0.08)\n",
    "ax.set(xticks=[], yticks=[])\n",
    "ax.set_xlabel('$x$'),ax.set_ylabel('$y$')\n",
    "ax.set_xlim(x_min, x_max),ax.set_ylim(-0.2, 1.1)\n",
    "\n",
    "# 绘制数据集 D\n",
    "ax.scatter(x=X, y=y)\n",
    "\n",
    "# 绘制拟合的 10 次多项式曲线\n",
    "def h(xx):\n",
    "\treturn w[0]+w[1]*xx+w[2]*xx**2+w[3]*xx**3+w[4]*xx**4+w[5]*xx**5+w[6]*xx**6+w[7]*xx**7+w[8]*xx**8+w[9]*xx**9+w[10]*xx**10\n",
    "xx = np.linspace(x_min, x_max)\n",
    "ax.plot(xx, h(xx), 'k--')\n",
    "\n",
    "plt.show()"
   ]
  },
  {
   "cell_type": "markdown",
   "id": "4f4be0d2",
   "metadata": {
    "pycharm": {
     "name": "#%% md\n"
    }
   },
   "source": [
    "### 5.6-2"
   ]
  },
  {
   "cell_type": "code",
   "execution_count": 56,
   "id": "b58be9de",
   "metadata": {
    "pycharm": {
     "name": "#%%\n"
    }
   },
   "outputs": [
    {
     "name": "stderr",
     "output_type": "stream",
     "text": [
      "/var/folders/v2/5qft7fyx4md0d3vhbjvb64wr0000gn/T/ipykernel_91606/489605779.py:66: UserWarning: You passed a edgecolor/edgecolors ('k') for an unfilled marker ('x').  Matplotlib is ignoring the edgecolor in favor of the facecolor.  This behavior may change in the future.\n",
      "  ax.scatter(x=X[y==cl, 1], y=X[y==cl, 2], c=y[y==cl], alpha=1, vmin = vmin, vmax = vmax, cmap=cm, edgecolors='k', marker = m)\n"
     ]
    },
    {
     "data": {
      "image/png": "[encoded data removed]",
      "text/plain": [
       "<Figure size 432x216 with 1 Axes>"
      ]
     },
     "metadata": {},
     "output_type": "display_data"
    }
   ],
   "source": [
    "import matplotlib.pyplot as plt\n",
    "from matplotlib.colors import ListedColormap\n",
    "import numpy as np\n",
    "from sklearn import datasets\n",
    "\n",
    "# 初始化权重向量 w \n",
    "w = np.array([0, 0, 0])\n",
    "\n",
    "# 定义 d(x) 函数\n",
    "def d(x):\n",
    "    return x @ w.reshape(-1, 1) # 利用矩阵乘法来完成点积\n",
    "\n",
    "# 定义 h(x) 函数\n",
    "def h(x):\n",
    "    return np.sign(d(x))\n",
    "\n",
    "# 计算决策边界的评分\n",
    "def clf_score(X, y):\n",
    "    score = 0\n",
    "    for xi, yi in zip(X, y):\n",
    "        score += yi*h(xi)\n",
    "    return score\n",
    "\n",
    "# 载入iris数据集\n",
    "iris = datasets.load_iris()\n",
    "# 取前面100个数据，并且只取最后两个特征，以及取出对应的类别\n",
    "sampleNumber = 100\n",
    "X = np.insert(iris.data[50:50+sampleNumber, [2,3]], 0, 1, axis=1)\t# 给每个xi第一列增加1\n",
    "y = np.where(iris.target[50:50+sampleNumber] == 1, -1, 1)\t\t\t# 将鸢尾花的两种类别转为-1和1\n",
    "\n",
    "# 感知机的口袋算法\n",
    "best_w = w\n",
    "best_cs = clf_score(X, y)\n",
    "epochs = 2000\n",
    "for _ in range(epochs):\n",
    "\n",
    "    # 顺序遍及数据集 X\n",
    "    for xi, yi in zip(X, y):\n",
    "        # 如果有分错的\n",
    "        if yi*d(xi) <= 0:\n",
    "            # 更新权重向量w \n",
    "            w = w + yi*xi\n",
    "            # 对新得到的决策边界进行评分\n",
    "            cs = clf_score(X, y)\n",
    "            # 如果更好，则进行更新\n",
    "            if cs > best_cs:\n",
    "                best_cs = cs\n",
    "                best_w = w\n",
    "            break\n",
    "\n",
    "w = best_w\n",
    "\n",
    "# 下面是绘制代码\n",
    "# 设置字体大小\n",
    "plt.rcParams.update({'font.size': 14})\n",
    "# 设置subfigure\n",
    "fig, ax = plt.subplots(figsize = (6, 3))\n",
    "fig.subplots_adjust(left=0.25, right=0.75, top=0.999, bottom=0.001)\n",
    "ax.set(xticks=[], yticks=[])\n",
    "\n",
    "# 绘制数据集\n",
    "markers = ('x', 'o')\n",
    "vmin, vmax = min(y), max(y)\n",
    "cm = ListedColormap(('blue', 'red'))\n",
    "for cl, m in zip(np.unique(y), markers):\n",
    "\tax.scatter(x=X[y==cl, 1], y=X[y==cl, 2], c=y[y==cl], alpha=1, vmin = vmin, vmax = vmax, cmap=cm, edgecolors='k', marker = m)\n",
    "\n",
    "# 绘制决策区域\n",
    "resolution = 0.01\n",
    "x1_min, x1_max = X[:, 1].min() - 0.2, X[:, 1].max() + 0.2\n",
    "x2_min, x2_max = X[:, 2].min() - 0.2, X[:, 2].max() + 0.2\n",
    "xx1, xx2 = np.meshgrid(np.arange(x1_min, x1_max, resolution), np.arange(x2_min, x2_max, resolution))\n",
    "xx = np.insert(np.column_stack((xx1.ravel(), xx2.ravel())), 0, 1, axis=1)\n",
    "yy = h(xx).reshape(xx1.shape)\n",
    "ax.contourf(xx1, xx2, yy, alpha=0.4, cmap=cm)\n",
    "\n",
    "plt.show()"
   ]
  },
  {
   "cell_type": "code",
   "execution_count": 57,
   "id": "a2b0e7b7",
   "metadata": {
    "pycharm": {
     "name": "#%%\n"
    }
   },
   "outputs": [
    {
     "data": {
      "image/png": "[encoded data removed]",
      "text/plain": [
       "<Figure size 432x216 with 1 Axes>"
      ]
     },
     "metadata": {},
     "output_type": "display_data"
    }
   ],
   "source": [
    "import numpy as np\n",
    "import matplotlib.pyplot as plt\n",
    "\n",
    "# 父子身高数据集\n",
    "X0 = np.array([1.51, 1.64, 1.6, 1.73, 1.82, 1.87]).reshape(-1, 1)\n",
    "X = np.insert(X0, 0, 1, axis=1)\t# 构造 X，即给 X0 增加一行 1\n",
    "y = np.array([1.63, 1.7, 1.71, 1.72, 1.76, 1.86])\n",
    "\n",
    "pinvX = np.linalg.pinv(X)   # 计算伪逆\n",
    "w = pinvX @ y               # 最小二乘法的矩阵算法\n",
    "\n",
    "# 下面是绘制代码\n",
    "# 设置字体大小\n",
    "plt.rcParams.update({'font.size': 14})\n",
    "# 设置subfigure\n",
    "fig, ax = plt.subplots(figsize = (6, 3))\n",
    "fig.subplots_adjust(left=0.25, right=0.75, top=0.999, bottom=0.001)\n",
    "ax.set(xticks=[], yticks=[])\n",
    "\n",
    "# 绘制数据集\n",
    "ax.scatter(x=X0, y=y)\n",
    "# 绘制回归直线\n",
    "def h(x):\n",
    "\treturn w[0]+w[1]*x\n",
    "x_min, x_max = X0.min() - 0.2, X0.max() + 0.2\n",
    "xx = np.arange(x_min, x_max, 0.1)\n",
    "ax.plot(xx, h(xx), 'k')\n",
    "\n",
    "plt.show()"
   ]
  },
  {
   "cell_type": "markdown",
   "id": "3ec8bf89",
   "metadata": {
    "pycharm": {
     "name": "#%% md\n"
    }
   },
   "source": [
    "### 5.6-3"
   ]
  },
  {
   "cell_type": "code",
   "execution_count": 58,
   "id": "e39a042e",
   "metadata": {
    "pycharm": {
     "name": "#%%\n"
    }
   },
   "outputs": [
    {
     "name": "stderr",
     "output_type": "stream",
     "text": [
      "/var/folders/v2/5qft7fyx4md0d3vhbjvb64wr0000gn/T/ipykernel_91606/4140131312.py:75: UserWarning: You passed a edgecolor/edgecolors ('k') for an unfilled marker ('x').  Matplotlib is ignoring the edgecolor in favor of the facecolor.  This behavior may change in the future.\n",
      "  ax.scatter(x=X[y==cl, 1], y=X[y==cl, 2], c=y[y==cl], alpha=1, vmin = vmin, vmax = vmax, cmap=cm, edgecolors='k', marker = m)\n",
      "/var/folders/v2/5qft7fyx4md0d3vhbjvb64wr0000gn/T/ipykernel_91606/4140131312.py:75: UserWarning: You passed a edgecolor/edgecolors ('k') for an unfilled marker ('x').  Matplotlib is ignoring the edgecolor in favor of the facecolor.  This behavior may change in the future.\n",
      "  ax.scatter(x=X[y==cl, 1], y=X[y==cl, 2], c=y[y==cl], alpha=1, vmin = vmin, vmax = vmax, cmap=cm, edgecolors='k', marker = m)\n",
      "/Users/jiahuasong/opt/anaconda3/lib/python3.9/site-packages/IPython/core/pylabtools.py:151: UserWarning: Glyph 20934 (\\N{CJK UNIFIED IDEOGRAPH-51C6}) missing from current font.\n",
      "  fig.canvas.print_figure(bytes_io, **kw)\n",
      "/Users/jiahuasong/opt/anaconda3/lib/python3.9/site-packages/IPython/core/pylabtools.py:151: UserWarning: Glyph 30830 (\\N{CJK UNIFIED IDEOGRAPH-786E}) missing from current font.\n",
      "  fig.canvas.print_figure(bytes_io, **kw)\n",
      "/Users/jiahuasong/opt/anaconda3/lib/python3.9/site-packages/IPython/core/pylabtools.py:151: UserWarning: Glyph 29575 (\\N{CJK UNIFIED IDEOGRAPH-7387}) missing from current font.\n",
      "  fig.canvas.print_figure(bytes_io, **kw)\n"
     ]
    },
    {
     "data": {
      "image/png": "[encoded data removed]",
      "text/plain": [
       "<Figure size 432x216 with 2 Axes>"
      ]
     },
     "metadata": {},
     "output_type": "display_data"
    }
   ],
   "source": [
    "# POCKET\n",
    "import matplotlib.pyplot as plt\n",
    "from matplotlib.colors import ListedColormap\n",
    "import numpy as np\n",
    "from sklearn import datasets\n",
    "from sklearn.metrics import accuracy_score\n",
    "\n",
    "# 定义 d(x) 函数\n",
    "def d(x):\n",
    "    return x @ w.reshape(-1, 1) # 利用矩阵乘法来完成点积\n",
    "\n",
    "# 定义 h(x) 函数\n",
    "def h(x):\n",
    "    return np.sign(d(x))\n",
    "\n",
    "# 计算决策边界的评分\n",
    "def clf_score(X, y):\n",
    "    score = 0\n",
    "    for xi, yi in zip(X, y):\n",
    "        score += yi*h(xi)\n",
    "    return score\n",
    "\n",
    "# 载入breast_cancer数据集\n",
    "breast_cancer = datasets.load_breast_cancer()\n",
    "# 取前面100个数据，并且只取两个特征，以及取出对应的类别\n",
    "sampleNumber = 100\n",
    "X = np.insert(breast_cancer.data[:sampleNumber, [0,26]], 0, 1, axis=1)\t# 给每个xi第一列增加1\n",
    "y = np.where(breast_cancer.target[:sampleNumber] == 1, -1, 1)\t\t\t# 将两种类别转为-1和1\n",
    "\n",
    "# 口袋算法\n",
    "def pocket_class(epochs):\n",
    "\t# 初始化权重向量 w \n",
    "\tglobal w \n",
    "\tw = np.array([0, 0, 0])\n",
    "\n",
    "\t# 感知机的口袋算法\n",
    "\tbest_w = w\n",
    "\tbest_cs = clf_score(X, y)\n",
    "\tfor _ in range(epochs):\n",
    "\n",
    "\t    # 顺序遍及数据集 X\n",
    "\t    for xi, yi in zip(X, y):\n",
    "\t        # 如果有分错的\n",
    "\t        if yi*d(xi) <= 0:\n",
    "\t            # 更新权重向量w \n",
    "\t            w = w + yi*xi\n",
    "\t            # 对新得到的决策边界进行评分\n",
    "\t            cs = clf_score(X, y)\n",
    "\t            # 如果更好，则进行更新\n",
    "\t            if cs > best_cs:\n",
    "\t                best_cs = cs\n",
    "\t                best_w = w\n",
    "\t            break\n",
    "\tw = best_w\n",
    "\n",
    "# 下面是绘制代码\n",
    "# 设置字体大小\n",
    "plt.rcParams.update({'font.size': 14})\n",
    "# 设置subfigure\n",
    "fig, axes = plt.subplots(figsize = (6, 3), nrows=1, ncols=2)\n",
    "fig.subplots_adjust(left=0.001, right=0.999, top=0.999, bottom=0.1)\n",
    "\n",
    "epochses = (120, 130)\n",
    "for ax, epochs, in zip(axes.flat, epochses):\n",
    "\t# 用不同的超参数来调用口袋算法\n",
    "\tpocket_class(epochs)\n",
    "\n",
    "\tax.set(xticks=[], yticks=[])\n",
    "\tax.set_xlabel('epochs = {}, 准确率 = {}'.format(epochs, accuracy_score(y, h(X))))\n",
    "\n",
    "\t# 绘制数据集\n",
    "\tmarkers = ('x', 'o')\n",
    "\tvmin, vmax = min(y), max(y)\n",
    "\tcm = ListedColormap(('blue', 'red'))\n",
    "\tfor cl, m in zip(np.unique(y), markers):\n",
    "\t\tax.scatter(x=X[y==cl, 1], y=X[y==cl, 2], c=y[y==cl], alpha=1, vmin = vmin, vmax = vmax, cmap=cm, edgecolors='k', marker = m)\n",
    "\n",
    "\t# # 绘制决策区域\n",
    "\tresolution = 0.01\n",
    "\tx1_min, x1_max = X[:, 1].min() - 0.2, X[:, 1].max() + 0.2\n",
    "\tx2_min, x2_max = X[:, 2].min() - 0.2, X[:, 2].max() + 0.2\n",
    "\txx1, xx2 = np.meshgrid(np.arange(x1_min, x1_max, resolution), np.arange(x2_min, x2_max, resolution))\n",
    "\txx = np.insert(np.column_stack((xx1.ravel(), xx2.ravel())), 0, 1, axis=1)\n",
    "\tyy = h(xx).reshape(xx1.shape)\n",
    "\tax.contourf(xx1, xx2, yy, alpha=0.4, cmap=cm)\n",
    "\n",
    "plt.show()"
   ]
  },
  {
   "cell_type": "code",
   "execution_count": 59,
   "id": "1f79979d",
   "metadata": {
    "pycharm": {
     "name": "#%%\n"
    }
   },
   "outputs": [
    {
     "name": "stderr",
     "output_type": "stream",
     "text": [
      "/var/folders/v2/5qft7fyx4md0d3vhbjvb64wr0000gn/T/ipykernel_91606/1564743564.py:50: UserWarning: You passed a edgecolor/edgecolors ('k') for an unfilled marker ('x').  Matplotlib is ignoring the edgecolor in favor of the facecolor.  This behavior may change in the future.\n",
      "  ax.scatter(x=X[y==cl, 1], y=X[y==cl, 2], c=y[y==cl], alpha=1, vmin = vmin, vmax = vmax, cmap=cm, edgecolors='k', marker = m)\n",
      "/Users/jiahuasong/opt/anaconda3/lib/python3.9/site-packages/IPython/core/pylabtools.py:151: UserWarning: Glyph 36890 (\\N{CJK UNIFIED IDEOGRAPH-901A}) missing from current font.\n",
      "  fig.canvas.print_figure(bytes_io, **kw)\n",
      "/Users/jiahuasong/opt/anaconda3/lib/python3.9/site-packages/IPython/core/pylabtools.py:151: UserWarning: Glyph 36807 (\\N{CJK UNIFIED IDEOGRAPH-8FC7}) missing from current font.\n",
      "  fig.canvas.print_figure(bytes_io, **kw)\n",
      "/Users/jiahuasong/opt/anaconda3/lib/python3.9/site-packages/IPython/core/pylabtools.py:151: UserWarning: Glyph 26368 (\\N{CJK UNIFIED IDEOGRAPH-6700}) missing from current font.\n",
      "  fig.canvas.print_figure(bytes_io, **kw)\n",
      "/Users/jiahuasong/opt/anaconda3/lib/python3.9/site-packages/IPython/core/pylabtools.py:151: UserWarning: Glyph 23567 (\\N{CJK UNIFIED IDEOGRAPH-5C0F}) missing from current font.\n",
      "  fig.canvas.print_figure(bytes_io, **kw)\n",
      "/Users/jiahuasong/opt/anaconda3/lib/python3.9/site-packages/IPython/core/pylabtools.py:151: UserWarning: Glyph 20108 (\\N{CJK UNIFIED IDEOGRAPH-4E8C}) missing from current font.\n",
      "  fig.canvas.print_figure(bytes_io, **kw)\n",
      "/Users/jiahuasong/opt/anaconda3/lib/python3.9/site-packages/IPython/core/pylabtools.py:151: UserWarning: Glyph 20056 (\\N{CJK UNIFIED IDEOGRAPH-4E58}) missing from current font.\n",
      "  fig.canvas.print_figure(bytes_io, **kw)\n",
      "/Users/jiahuasong/opt/anaconda3/lib/python3.9/site-packages/IPython/core/pylabtools.py:151: UserWarning: Glyph 27861 (\\N{CJK UNIFIED IDEOGRAPH-6CD5}) missing from current font.\n",
      "  fig.canvas.print_figure(bytes_io, **kw)\n",
      "/Users/jiahuasong/opt/anaconda3/lib/python3.9/site-packages/IPython/core/pylabtools.py:151: UserWarning: Glyph 24471 (\\N{CJK UNIFIED IDEOGRAPH-5F97}) missing from current font.\n",
      "  fig.canvas.print_figure(bytes_io, **kw)\n",
      "/Users/jiahuasong/opt/anaconda3/lib/python3.9/site-packages/IPython/core/pylabtools.py:151: UserWarning: Glyph 21040 (\\N{CJK UNIFIED IDEOGRAPH-5230}) missing from current font.\n",
      "  fig.canvas.print_figure(bytes_io, **kw)\n",
      "/Users/jiahuasong/opt/anaconda3/lib/python3.9/site-packages/IPython/core/pylabtools.py:151: UserWarning: Glyph 65292 (\\N{FULLWIDTH COMMA}) missing from current font.\n",
      "  fig.canvas.print_figure(bytes_io, **kw)\n",
      "/Users/jiahuasong/opt/anaconda3/lib/python3.9/site-packages/IPython/core/pylabtools.py:151: UserWarning: Glyph 20854 (\\N{CJK UNIFIED IDEOGRAPH-5176}) missing from current font.\n",
      "  fig.canvas.print_figure(bytes_io, **kw)\n",
      "/Users/jiahuasong/opt/anaconda3/lib/python3.9/site-packages/IPython/core/pylabtools.py:151: UserWarning: Glyph 20934 (\\N{CJK UNIFIED IDEOGRAPH-51C6}) missing from current font.\n",
      "  fig.canvas.print_figure(bytes_io, **kw)\n",
      "/Users/jiahuasong/opt/anaconda3/lib/python3.9/site-packages/IPython/core/pylabtools.py:151: UserWarning: Glyph 30830 (\\N{CJK UNIFIED IDEOGRAPH-786E}) missing from current font.\n",
      "  fig.canvas.print_figure(bytes_io, **kw)\n",
      "/Users/jiahuasong/opt/anaconda3/lib/python3.9/site-packages/IPython/core/pylabtools.py:151: UserWarning: Glyph 29575 (\\N{CJK UNIFIED IDEOGRAPH-7387}) missing from current font.\n",
      "  fig.canvas.print_figure(bytes_io, **kw)\n"
     ]
    },
    {
     "data": {
      "image/png": "[encoded data removed]",
      "text/plain": [
       "<Figure size 432x216 with 1 Axes>"
      ]
     },
     "metadata": {},
     "output_type": "display_data"
    }
   ],
   "source": [
    "# LSM\n",
    "import matplotlib.pyplot as plt\n",
    "from matplotlib.colors import ListedColormap\n",
    "import numpy as np\n",
    "from sklearn import datasets\n",
    "from sklearn.metrics import accuracy_score\n",
    "\n",
    "# 初始化权重向量 w \n",
    "w = np.array([0, 0, 0])\n",
    "\n",
    "# 定义 d(x) 函数\n",
    "def d(x):\n",
    "    return x @ w.reshape(-1, 1) # 利用矩阵乘法来完成点积\n",
    "\n",
    "# 定义 h(x) 函数\n",
    "def h(x):\n",
    "    return np.sign(d(x))\n",
    "\n",
    "# 计算决策边界的评分\n",
    "def clf_score(X, y):\n",
    "    score = 0\n",
    "    for xi, yi in zip(X, y):\n",
    "        score += yi*h(xi)\n",
    "    return score\n",
    "\n",
    "# 载入breast_cancer数据集\n",
    "breast_cancer = datasets.load_breast_cancer()\n",
    "# 取前面100个数据，并且只取两个特征，以及取出对应的类别\n",
    "sampleNumber = 100\n",
    "X = np.insert(breast_cancer.data[:sampleNumber, [0,26]], 0, 1, axis=1)\t# 给每个xi第一列增加1\n",
    "y = np.where(breast_cancer.target[:sampleNumber] == 1, -1, 1)\t\t\t# 将两种类别转为-1和1\n",
    "\n",
    "# 通过最小二乘法求出 w\n",
    "pinvX = np.linalg.pinv(X)   # 计算伪逆\n",
    "w = pinvX @ y               # 最小二乘法的矩阵算法\n",
    "\n",
    "# # 下面是绘制代码\n",
    "# # 设置字体大小\n",
    "plt.rcParams.update({'font.size': 14})\n",
    "# 设置subfigure\n",
    "fig, ax = plt.subplots(figsize = (6, 3))\n",
    "fig.subplots_adjust(left=0.25, right=0.75, top=0.999, bottom=0.1)\n",
    "ax.set(xticks=[], yticks=[])\n",
    "ax.set_xlabel('通过最小二乘法得到 w，其准确率 = {}'.format(accuracy_score(y, h(X))))\n",
    "\n",
    "# 绘制数据集\n",
    "markers = ('x', 'o')\n",
    "vmin, vmax = min(y), max(y)\n",
    "cm = ListedColormap(('blue', 'red'))\n",
    "for cl, m in zip(np.unique(y), markers):\n",
    "\tax.scatter(x=X[y==cl, 1], y=X[y==cl, 2], c=y[y==cl], alpha=1, vmin = vmin, vmax = vmax, cmap=cm, edgecolors='k', marker = m)\n",
    "\n",
    "# # 绘制决策区域\n",
    "resolution = 0.01\n",
    "x1_min, x1_max = X[:, 1].min() - 0.2, X[:, 1].max() + 0.2\n",
    "x2_min, x2_max = X[:, 2].min() - 0.2, X[:, 2].max() + 0.2\n",
    "xx1, xx2 = np.meshgrid(np.arange(x1_min, x1_max, resolution), np.arange(x2_min, x2_max, resolution))\n",
    "xx = np.insert(np.column_stack((xx1.ravel(), xx2.ravel())), 0, 1, axis=1)\n",
    "yy = h(xx).reshape(xx1.shape)\n",
    "ax.contourf(xx1, xx2, yy, alpha=0.4, cmap=cm)\n",
    "\n",
    "plt.show()"
   ]
  },
  {
   "cell_type": "code",
   "execution_count": 60,
   "id": "60567c77",
   "metadata": {
    "pycharm": {
     "name": "#%%\n"
    }
   },
   "outputs": [
    {
     "name": "stderr",
     "output_type": "stream",
     "text": [
      "/var/folders/v2/5qft7fyx4md0d3vhbjvb64wr0000gn/T/ipykernel_91606/4192597501.py:73: UserWarning: You passed a edgecolor/edgecolors ('k') for an unfilled marker ('x').  Matplotlib is ignoring the edgecolor in favor of the facecolor.  This behavior may change in the future.\n",
      "  ax.scatter(x=X[y==cl, 1], y=X[y==cl, 2], c=y[y==cl], alpha=1, vmin = vmin, vmax = vmax, cmap=cm, edgecolors='k', marker = m)\n",
      "/Users/jiahuasong/opt/anaconda3/lib/python3.9/site-packages/IPython/core/pylabtools.py:151: UserWarning: Glyph 22312 (\\N{CJK UNIFIED IDEOGRAPH-5728}) missing from current font.\n",
      "  fig.canvas.print_figure(bytes_io, **kw)\n",
      "/Users/jiahuasong/opt/anaconda3/lib/python3.9/site-packages/IPython/core/pylabtools.py:151: UserWarning: Glyph 26368 (\\N{CJK UNIFIED IDEOGRAPH-6700}) missing from current font.\n",
      "  fig.canvas.print_figure(bytes_io, **kw)\n",
      "/Users/jiahuasong/opt/anaconda3/lib/python3.9/site-packages/IPython/core/pylabtools.py:151: UserWarning: Glyph 23567 (\\N{CJK UNIFIED IDEOGRAPH-5C0F}) missing from current font.\n",
      "  fig.canvas.print_figure(bytes_io, **kw)\n",
      "/Users/jiahuasong/opt/anaconda3/lib/python3.9/site-packages/IPython/core/pylabtools.py:151: UserWarning: Glyph 20108 (\\N{CJK UNIFIED IDEOGRAPH-4E8C}) missing from current font.\n",
      "  fig.canvas.print_figure(bytes_io, **kw)\n",
      "/Users/jiahuasong/opt/anaconda3/lib/python3.9/site-packages/IPython/core/pylabtools.py:151: UserWarning: Glyph 20056 (\\N{CJK UNIFIED IDEOGRAPH-4E58}) missing from current font.\n",
      "  fig.canvas.print_figure(bytes_io, **kw)\n",
      "/Users/jiahuasong/opt/anaconda3/lib/python3.9/site-packages/IPython/core/pylabtools.py:151: UserWarning: Glyph 27861 (\\N{CJK UNIFIED IDEOGRAPH-6CD5}) missing from current font.\n",
      "  fig.canvas.print_figure(bytes_io, **kw)\n",
      "/Users/jiahuasong/opt/anaconda3/lib/python3.9/site-packages/IPython/core/pylabtools.py:151: UserWarning: Glyph 27714 (\\N{CJK UNIFIED IDEOGRAPH-6C42}) missing from current font.\n",
      "  fig.canvas.print_figure(bytes_io, **kw)\n",
      "/Users/jiahuasong/opt/anaconda3/lib/python3.9/site-packages/IPython/core/pylabtools.py:151: UserWarning: Glyph 20986 (\\N{CJK UNIFIED IDEOGRAPH-51FA}) missing from current font.\n",
      "  fig.canvas.print_figure(bytes_io, **kw)\n",
      "/Users/jiahuasong/opt/anaconda3/lib/python3.9/site-packages/IPython/core/pylabtools.py:151: UserWarning: Glyph 22522 (\\N{CJK UNIFIED IDEOGRAPH-57FA}) missing from current font.\n",
      "  fig.canvas.print_figure(bytes_io, **kw)\n",
      "/Users/jiahuasong/opt/anaconda3/lib/python3.9/site-packages/IPython/core/pylabtools.py:151: UserWarning: Glyph 30784 (\\N{CJK UNIFIED IDEOGRAPH-7840}) missing from current font.\n",
      "  fig.canvas.print_figure(bytes_io, **kw)\n",
      "/Users/jiahuasong/opt/anaconda3/lib/python3.9/site-packages/IPython/core/pylabtools.py:151: UserWarning: Glyph 19978 (\\N{CJK UNIFIED IDEOGRAPH-4E0A}) missing from current font.\n",
      "  fig.canvas.print_figure(bytes_io, **kw)\n",
      "/Users/jiahuasong/opt/anaconda3/lib/python3.9/site-packages/IPython/core/pylabtools.py:151: UserWarning: Glyph 20877 (\\N{CJK UNIFIED IDEOGRAPH-518D}) missing from current font.\n",
      "  fig.canvas.print_figure(bytes_io, **kw)\n",
      "/Users/jiahuasong/opt/anaconda3/lib/python3.9/site-packages/IPython/core/pylabtools.py:151: UserWarning: Glyph 36827 (\\N{CJK UNIFIED IDEOGRAPH-8FDB}) missing from current font.\n",
      "  fig.canvas.print_figure(bytes_io, **kw)\n",
      "/Users/jiahuasong/opt/anaconda3/lib/python3.9/site-packages/IPython/core/pylabtools.py:151: UserWarning: Glyph 34892 (\\N{CJK UNIFIED IDEOGRAPH-884C}) missing from current font.\n",
      "  fig.canvas.print_figure(bytes_io, **kw)\n",
      "/Users/jiahuasong/opt/anaconda3/lib/python3.9/site-packages/IPython/core/pylabtools.py:151: UserWarning: Glyph 21475 (\\N{CJK UNIFIED IDEOGRAPH-53E3}) missing from current font.\n",
      "  fig.canvas.print_figure(bytes_io, **kw)\n",
      "/Users/jiahuasong/opt/anaconda3/lib/python3.9/site-packages/IPython/core/pylabtools.py:151: UserWarning: Glyph 34955 (\\N{CJK UNIFIED IDEOGRAPH-888B}) missing from current font.\n",
      "  fig.canvas.print_figure(bytes_io, **kw)\n",
      "/Users/jiahuasong/opt/anaconda3/lib/python3.9/site-packages/IPython/core/pylabtools.py:151: UserWarning: Glyph 31639 (\\N{CJK UNIFIED IDEOGRAPH-7B97}) missing from current font.\n",
      "  fig.canvas.print_figure(bytes_io, **kw)\n",
      "/Users/jiahuasong/opt/anaconda3/lib/python3.9/site-packages/IPython/core/pylabtools.py:151: UserWarning: Glyph 65292 (\\N{FULLWIDTH COMMA}) missing from current font.\n",
      "  fig.canvas.print_figure(bytes_io, **kw)\n",
      "/Users/jiahuasong/opt/anaconda3/lib/python3.9/site-packages/IPython/core/pylabtools.py:151: UserWarning: Glyph 20854 (\\N{CJK UNIFIED IDEOGRAPH-5176}) missing from current font.\n",
      "  fig.canvas.print_figure(bytes_io, **kw)\n",
      "/Users/jiahuasong/opt/anaconda3/lib/python3.9/site-packages/IPython/core/pylabtools.py:151: UserWarning: Glyph 20934 (\\N{CJK UNIFIED IDEOGRAPH-51C6}) missing from current font.\n",
      "  fig.canvas.print_figure(bytes_io, **kw)\n",
      "/Users/jiahuasong/opt/anaconda3/lib/python3.9/site-packages/IPython/core/pylabtools.py:151: UserWarning: Glyph 30830 (\\N{CJK UNIFIED IDEOGRAPH-786E}) missing from current font.\n",
      "  fig.canvas.print_figure(bytes_io, **kw)\n",
      "/Users/jiahuasong/opt/anaconda3/lib/python3.9/site-packages/IPython/core/pylabtools.py:151: UserWarning: Glyph 29575 (\\N{CJK UNIFIED IDEOGRAPH-7387}) missing from current font.\n",
      "  fig.canvas.print_figure(bytes_io, **kw)\n"
     ]
    },
    {
     "data": {
      "image/png": "[encoded data removed]",
      "text/plain": [
       "<Figure size 432x216 with 1 Axes>"
      ]
     },
     "metadata": {},
     "output_type": "display_data"
    }
   ],
   "source": [
    "# LSM + POCKET\n",
    "import matplotlib.pyplot as plt\n",
    "from matplotlib.colors import ListedColormap\n",
    "import numpy as np\n",
    "from sklearn import datasets\n",
    "from sklearn.metrics import accuracy_score\n",
    "\n",
    "# 初始化权重向量 w \n",
    "w = np.array([0, 0, 0])\n",
    "\n",
    "# 定义 d(x) 函数\n",
    "def d(x):\n",
    "    return x @ w.reshape(-1, 1) # 利用矩阵乘法来完成点积\n",
    "\n",
    "# 定义 h(x) 函数\n",
    "def h(x):\n",
    "    return np.sign(d(x))\n",
    "\n",
    "# 计算决策边界的评分\n",
    "def clf_score(X, y):\n",
    "    score = 0\n",
    "    for xi, yi in zip(X, y):\n",
    "        score += yi*h(xi)\n",
    "    return score\n",
    "\n",
    "# 载入breast_cancer数据集\n",
    "breast_cancer = datasets.load_breast_cancer()\n",
    "# 取前面100个数据，并且只取两个特征，以及取出对应的类别\n",
    "sampleNumber = 100\n",
    "X = np.insert(breast_cancer.data[:sampleNumber, [0,26]], 0, 1, axis=1)\t# 给每个xi第一列增加1\n",
    "y = np.where(breast_cancer.target[:sampleNumber] == 1, -1, 1)\t\t\t# 将两种类别转为-1和1\n",
    "\n",
    "# 通过线性回归，即最小二乘法求出 w\n",
    "pinvX = np.linalg.pinv(X)   # 计算伪逆\n",
    "w = pinvX @ y               # 最小二乘法的矩阵算法\n",
    "\n",
    "# 感知机的口袋算法\n",
    "best_w = w \t\t\t\t\t# 将最小二乘法求出 w 作为初始\n",
    "best_cs = clf_score(X, y)\n",
    "epochs = 90\n",
    "for _ in range(epochs):\n",
    "\n",
    "    # 顺序遍及数据集 X\n",
    "    for xi, yi in zip(X, y):\n",
    "        # 如果有分错的\n",
    "        if yi*d(xi) <= 0:\n",
    "            # 更新权重向量w \n",
    "            w = w + yi*xi\n",
    "            # 对新得到的决策边界进行评分\n",
    "            cs = clf_score(X, y)\n",
    "            # 如果更好，则进行更新\n",
    "            if cs > best_cs:\n",
    "                best_cs = cs\n",
    "                best_w = w\n",
    "            break\n",
    "\n",
    "w = best_w\n",
    "\n",
    "# # 下面是绘制代码\n",
    "# # 设置字体大小\n",
    "plt.rcParams.update({'font.size': 14})\n",
    "# 设置subfigure\n",
    "fig, ax = plt.subplots(figsize = (6, 3))\n",
    "fig.subplots_adjust(left=0.25, right=0.75, top=0.999, bottom=0.1)\n",
    "ax.set(xticks=[], yticks=[])\n",
    "ax.set_xlabel('在最小二乘法求出 w 基础上再进行口袋算法，其准确率 = {}'.format(accuracy_score(y, h(X))))\n",
    "\n",
    "# 绘制数据集\n",
    "markers = ('x', 'o')\n",
    "vmin, vmax = min(y), max(y)\n",
    "cm = ListedColormap(('blue', 'red'))\n",
    "for cl, m in zip(np.unique(y), markers):\n",
    "\tax.scatter(x=X[y==cl, 1], y=X[y==cl, 2], c=y[y==cl], alpha=1, vmin = vmin, vmax = vmax, cmap=cm, edgecolors='k', marker = m)\n",
    "\n",
    "# # 绘制决策区域\n",
    "resolution = 0.01\n",
    "x1_min, x1_max = X[:, 1].min() - 0.2, X[:, 1].max() + 0.2\n",
    "x2_min, x2_max = X[:, 2].min() - 0.2, X[:, 2].max() + 0.2\n",
    "xx1, xx2 = np.meshgrid(np.arange(x1_min, x1_max, resolution), np.arange(x2_min, x2_max, resolution))\n",
    "xx = np.insert(np.column_stack((xx1.ravel(), xx2.ravel())), 0, 1, axis=1)\n",
    "yy = h(xx).reshape(xx1.shape)\n",
    "ax.contourf(xx1, xx2, yy, alpha=0.4, cmap=cm)\n",
    "\n",
    "plt.show()"
   ]
  }
 ],
 "metadata": {
  "kernelspec": {
   "display_name": "Python 3 (ipykernel)",
   "language": "python",
   "name": "python3"
  },
  "language_info": {
   "codemirror_mode": {
    "name": "ipython",
    "version": 3
   },
   "file_extension": ".py",
   "mimetype": "text/x-python",
   "name": "python",
   "nbconvert_exporter": "python",
   "pygments_lexer": "ipython3",
   "version": "3.10.9"
  }
 },
 "nbformat": 4,
 "nbformat_minor": 5
}
